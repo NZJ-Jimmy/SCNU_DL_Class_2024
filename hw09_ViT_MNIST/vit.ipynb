{
 "cells": [
  {
   "cell_type": "markdown",
   "metadata": {},
   "source": [
    "# ViT"
   ]
  },
  {
   "cell_type": "markdown",
   "metadata": {},
   "source": [
    "paper [An Image is Worth 16x16 Words: Transformers for Image Recognition at Scale](https://arxiv.org/pdf/2010.11929.pdf)"
   ]
  },
  {
   "cell_type": "markdown",
   "metadata": {},
   "source": [
    "#### pip install einops and pytorch-gpu "
   ]
  },
  {
   "cell_type": "code",
   "execution_count": 1,
   "metadata": {
    "ExecuteTime": {
     "end_time": "2024-11-30T02:46:08.032124Z",
     "start_time": "2024-11-30T02:46:04.459327Z"
    }
   },
   "outputs": [],
   "source": [
    "import numpy as np\n",
    "import math\n",
    "import einops\n",
    "import copy\n",
    "import random\n",
    "import torch\n",
    "import torch.nn as nn\n",
    "import torch.nn.functional as F\n",
    "import torchvision\n",
    "import matplotlib.pyplot as plt\n",
    "import matplotlib.colors as colors\n",
    "from matplotlib.animation import FuncAnimation\n",
    "%matplotlib inline\n",
    "\n",
    "device = 'cuda' if torch.cuda.is_available() else 'cpu'"
   ]
  },
  {
   "cell_type": "code",
   "execution_count": 2,
   "metadata": {
    "ExecuteTime": {
     "end_time": "2024-11-30T02:46:08.045730Z",
     "start_time": "2024-11-30T02:46:08.042599Z"
    }
   },
   "outputs": [],
   "source": [
    "# pip install ipywidgets"
   ]
  },
  {
   "cell_type": "markdown",
   "metadata": {},
   "source": [
    "### Read ViT paper and anwser the following TODO questions\n",
    "### https://arxiv.org/pdf/2010.11929"
   ]
  },
  {
   "cell_type": "markdown",
   "metadata": {},
   "source": [
    "## Download data \n",
    "#### turn on download=True if you use Colab"
   ]
  },
  {
   "cell_type": "code",
   "execution_count": 3,
   "metadata": {
    "ExecuteTime": {
     "end_time": "2024-11-30T02:46:08.199708Z",
     "start_time": "2024-11-30T02:46:08.102767Z"
    }
   },
   "outputs": [],
   "source": [
    "data = torch.utils.data.DataLoader(\n",
    "    torchvision.datasets.MNIST('./data', transform=torchvision.transforms.ToTensor(), download=True, train=True),\n",
    "    batch_size=128, shuffle=True)"
   ]
  },
  {
   "cell_type": "code",
   "execution_count": 4,
   "metadata": {
    "ExecuteTime": {
     "end_time": "2024-11-30T02:46:08.228529Z",
     "start_time": "2024-11-30T02:46:08.208313Z"
    }
   },
   "outputs": [],
   "source": [
    "data_test = torch.utils.data.DataLoader(\n",
    "    torchvision.datasets.MNIST('./data', transform=torchvision.transforms.ToTensor(), download=True, train=False),\n",
    "    batch_size=128, shuffle=True)"
   ]
  },
  {
   "cell_type": "markdown",
   "metadata": {},
   "source": [
    "## helpers"
   ]
  },
  {
   "cell_type": "code",
   "execution_count": 5,
   "metadata": {
    "ExecuteTime": {
     "end_time": "2024-11-30T02:46:08.270160Z",
     "start_time": "2024-11-30T02:46:08.265143Z"
    }
   },
   "outputs": [],
   "source": [
    "@torch.no_grad()\n",
    "def accuracy(model, label='test', silent=False):\n",
    "    model.eval()\n",
    "    dataset = data_test if label == 'test' else data\n",
    "    count = 0\n",
    "    correct = 0\n",
    "    for x, y in dataset:\n",
    "        x, y = x.to(device), y.to(device)\n",
    "        res = model(x).argmax(-1)\n",
    "        count += len(x)\n",
    "        correct += (res == y).float().sum()\n",
    "    acc = correct / count\n",
    "    if not silent: print(f'accuracy on {label:5}: {acc}')\n",
    "    return acc"
   ]
  },
  {
   "cell_type": "code",
   "execution_count": 6,
   "metadata": {
    "ExecuteTime": {
     "end_time": "2024-11-30T02:46:08.322759Z",
     "start_time": "2024-11-30T02:46:08.314249Z"
    }
   },
   "outputs": [],
   "source": [
    "def plot(*args, n_col=None, figsize=None, block_size=3, labels=None):\n",
    "    '''Plot images in a grid\n",
    "    usage: plot(img1, img2, ...)\n",
    "    optional: n_col=3, figsize=(12, 8), block_size=1\n",
    "\n",
    "    img: torch.Tensor of shape (H, W) or (C, H, W) or [(H, W), ...] or [(C, H, W), ...]\n",
    "    '''\n",
    "    imgs = []\n",
    "    for img in args:\n",
    "        if isinstance(img, torch.Tensor):\n",
    "            if img.dim() == 4:\n",
    "                imgs.extend([img[i] for i in range(img.shape[0])])\n",
    "            else:\n",
    "                imgs.append(img)\n",
    "        if isinstance(img, list) or isinstance(img, tuple):\n",
    "            assert all(isinstance(i, torch.Tensor) and i.dim() == 3 for i in img)\n",
    "            imgs.extend(img)\n",
    "\n",
    "    # flatten channels\n",
    "    imgs = [img.squeeze(0) if img.dim() == 3 else img for img in imgs]\n",
    "    imgs = [img.detach().cpu() for img in imgs]\n",
    "\n",
    "    if n_col is None: n_col = len(imgs)\n",
    "    n_row = math.ceil(len(imgs) / n_col)\n",
    "    if figsize is None: figsize = (n_col * block_size, n_row * block_size)\n",
    "    # normalize ax to 2d array\n",
    "    fig, ax = plt.subplots(n_row, n_col, figsize=figsize)\n",
    "    if n_row == 1 and n_col == 1:\n",
    "        ax = np.array([[ax]])\n",
    "    elif n_row == 1:\n",
    "        ax = ax.reshape((1, -1))\n",
    "    elif n_col == 1:\n",
    "        ax = ax.reshape((-1, 1))\n",
    "    # plot\n",
    "    for i, img in enumerate(imgs):\n",
    "        idx = (i // n_col, i % n_col)\n",
    "        ax[idx].imshow(img)\n",
    "        if labels and i < len(labels): ax[idx].set_title(labels[i])\n",
    "    # remove the axis\n",
    "    for i in range(n_row * n_col):\n",
    "        idx = (i // n_col, i % n_col)\n",
    "        ax[idx].set_xticks([])\n",
    "        ax[idx].set_yticks([])\n",
    "        if i >= len(imgs): ax[idx].axis('off')\n",
    "    plt.tight_layout()\n",
    "    plt.show()"
   ]
  },
  {
   "cell_type": "code",
   "execution_count": 7,
   "metadata": {
    "ExecuteTime": {
     "end_time": "2024-11-30T02:46:08.378453Z",
     "start_time": "2024-11-30T02:46:08.374758Z"
    }
   },
   "outputs": [],
   "source": [
    "# test plot function\n",
    "def test_plot(scale=3):\n",
    "    imgs = next(iter(data))[0]\n",
    "    plot(imgs[0], block_size=scale)\n",
    "    plot(imgs[1], imgs[2], block_size=scale)\n",
    "    plot(imgs[3], imgs[4], n_col=scale, block_size=scale)\n",
    "    plot(imgs[5], imgs[6], imgs[7], n_col=2, block_size=scale)\n",
    "    plot(imgs[:5], n_col=3, block_size=scale)\n",
    "\n",
    "# test_plot()"
   ]
  },
  {
   "cell_type": "markdown",
   "metadata": {},
   "source": [
    "## chunk images"
   ]
  },
  {
   "cell_type": "code",
   "execution_count": 8,
   "metadata": {
    "ExecuteTime": {
     "end_time": "2024-11-30T02:21:44.303409Z",
     "start_time": "2024-11-30T02:21:44.155099Z"
    }
   },
   "outputs": [
    {
     "data": {
      "image/png": "[encoded data removed]",
      "text/plain": [
       "<Figure size 300x300 with 1 Axes>"
      ]
     },
     "metadata": {},
     "output_type": "display_data"
    },
    {
     "name": "stdout",
     "output_type": "stream",
     "text": [
      "torch.Size([2, 1, 28, 28])\n"
     ]
    }
   ],
   "source": [
    "images = next(iter(data))[0][\n",
    "         :2]  # `next(iter(data))` will return [128,1,28,28] wrapped by a list. It's to get top 2 image\n",
    "plot(images[0])\n",
    "print(images.size())"
   ]
  },
  {
   "cell_type": "markdown",
   "metadata": {},
   "source": [
    "### Visualize the 4x4 image chunks "
   ]
  },
  {
   "cell_type": "code",
   "execution_count": 9,
   "metadata": {
    "ExecuteTime": {
     "end_time": "2024-11-29T17:26:04.111184Z",
     "start_time": "2024-11-29T17:26:04.080641Z"
    }
   },
   "outputs": [
    {
     "data": {
      "image/png": "[encoded data removed]",
      "text/plain": [
       "<Figure size 300x300 with 1 Axes>"
      ]
     },
     "metadata": {},
     "output_type": "display_data"
    },
    {
     "name": "stdout",
     "output_type": "stream",
     "text": [
      "torch.Size([1, 28, 28])\n"
     ]
    }
   ],
   "source": [
    "b, c, h, w = images.shape\n",
    "# cut into tiles\n",
    "tile_size = 7\n",
    "plot(images[0])\n",
    "print(images[0].size())"
   ]
  },
  {
   "cell_type": "markdown",
   "metadata": {},
   "source": [
    "### Use einops to speed the chunking'\n",
    "### Explain TODO in comment"
   ]
  },
  {
   "cell_type": "markdown",
   "metadata": {},
   "source": [
    "explain why tiles[0, 5, ...] are equal to images[B=0,C=0,H=7:14,W=7:14]\n",
    "\n",
    "tiles 是把 images 中的 每个图像 横纵切割成 16 个 7 × 7 的小图像 (token) ，而 [0,5,0,:] 指的就是被 第 5 个被分割到的图像（下标从 0 开始），即为第 1 行第 1 列 的小图像。按照分割，这个小块的图像的像素值应该是原图像的 [7:14,7:14] 的像素值。故二者相等"
   ]
  },
  {
   "cell_type": "code",
   "execution_count": 10,
   "metadata": {
    "ExecuteTime": {
     "end_time": "2024-11-29T17:26:09.048283Z",
     "start_time": "2024-11-29T17:26:08.833091Z"
    }
   },
   "outputs": [
    {
     "data": {
      "image/png": "[encoded data removed]",
      "text/plain": [
       "<Figure size 400x400 with 16 Axes>"
      ]
     },
     "metadata": {},
     "output_type": "display_data"
    },
    {
     "name": "stdout",
     "output_type": "stream",
     "text": [
      "torch.Size([2, 16, 1, 7, 7])\n",
      "tensor([[0.0000, 0.0000, 0.0039, 0.0824, 0.8078, 0.9922, 0.9882],\n",
      "        [0.0000, 0.0000, 0.5255, 0.9882, 0.9882, 0.9922, 0.9882],\n",
      "        [0.0039, 0.5255, 0.9686, 0.9882, 0.9882, 0.8706, 0.5412],\n",
      "        [0.4706, 0.9882, 0.9882, 0.9647, 0.5176, 0.1608, 0.0000],\n",
      "        [0.9882, 0.9882, 0.8235, 0.3608, 0.0000, 0.0000, 0.0000],\n",
      "        [0.9922, 0.9922, 0.4667, 0.0000, 0.0000, 0.0000, 0.0000],\n",
      "        [0.9882, 0.4627, 0.0196, 0.0000, 0.0000, 0.0000, 0.0000]])\n",
      "tensor([[0.0000, 0.0000, 0.0039, 0.0824, 0.8078, 0.9922, 0.9882],\n",
      "        [0.0000, 0.0000, 0.5255, 0.9882, 0.9882, 0.9922, 0.9882],\n",
      "        [0.0039, 0.5255, 0.9686, 0.9882, 0.9882, 0.8706, 0.5412],\n",
      "        [0.4706, 0.9882, 0.9882, 0.9647, 0.5176, 0.1608, 0.0000],\n",
      "        [0.9882, 0.9882, 0.8235, 0.3608, 0.0000, 0.0000, 0.0000],\n",
      "        [0.9922, 0.9922, 0.4667, 0.0000, 0.0000, 0.0000, 0.0000],\n",
      "        [0.9882, 0.4627, 0.0196, 0.0000, 0.0000, 0.0000, 0.0000]])\n"
     ]
    }
   ],
   "source": [
    "# cut into tiles\n",
    "tile_size = 7\n",
    "tiles = einops.rearrange(images, 'b c (h t1) (w t2) -> b (h w) c t1 t2', t1=tile_size, t2=tile_size)\n",
    "plot(tiles[0], n_col=4, block_size=1)\n",
    "print(tiles.size())\n",
    "# the tiles have size (Batch, 16=4x4, channel=1, H=7, W=7), that is the tokens are sequential\n",
    "# explain why tiles[0, 5, ...] are equal to images[B=0,C=0,H=7:14,W=7:14]\n",
    "# hint: the tiles[0, 5] is 5-th token of first image in batch, which is the row=1,col=1 token of size 7x7\n",
    "# the image pixels are ?\n",
    "print(tiles[0, 5, 0, :])\n",
    "print(images[0, 0, 7:14, 7:14])\n",
    "assert torch.allclose(tiles[0, 5, 0, :], images[0, 0, 7:14, 7:14])"
   ]
  },
  {
   "cell_type": "markdown",
   "metadata": {},
   "source": [
    "## Encoder parameters\n",
    "### TODO: explain what is the value of context_size and its meaning"
   ]
  },
  {
   "cell_type": "code",
   "execution_count": 11,
   "metadata": {
    "ExecuteTime": {
     "end_time": "2024-11-29T17:26:11.987609Z",
     "start_time": "2024-11-29T17:26:11.984463Z"
    }
   },
   "outputs": [],
   "source": [
    "N_HEADS = 2     # number of heads\n",
    "N_BLOCKS = 2    # number of transformer blocks\n",
    "VOCAB_SIZE = 10 # 十分类问题\n",
    "EMBED_SIZE = 16 # 词嵌入维度\n",
    "HIDDEN_SIZE = 32 # 隐藏层维度\n",
    "IMG_SIZE = 28   # 图片大小\n",
    "CHANNEL = 1     # 图片通道数\n",
    "TILE_SIZE = 7   # 切片大小\n",
    "assert IMG_SIZE % TILE_SIZE == 0    # 确保可以被 TILE_SIZE 整除\n",
    "CONTEXT_SIZE = 1 + (IMG_SIZE // TILE_SIZE) ** 2 # 1 + (28/7)^2 = 17 （包括CLS token）\n",
    "LEARNING_RATE = 3e-4 # 学习率\n",
    "DROPOUT = 0.1   # dropout rate"
   ]
  },
  {
   "cell_type": "code",
   "execution_count": 12,
   "metadata": {
    "ExecuteTime": {
     "end_time": "2024-11-29T17:26:13.497144Z",
     "start_time": "2024-11-29T17:26:13.492739Z"
    }
   },
   "outputs": [
    {
     "data": {
      "text/plain": [
       "17"
      ]
     },
     "execution_count": 12,
     "metadata": {},
     "output_type": "execute_result"
    }
   ],
   "source": [
    "CONTEXT_SIZE  # why add 1? (16 + 1)"
   ]
  },
  {
   "cell_type": "markdown",
   "metadata": {},
   "source": [
    "### Sinuoid positional embedding\n",
    "### TODO: refer to Transformer paper and explain the function of the position encoding\n",
    "\n",
    "Transformer的第 pos 个位置的位置编码是一个这样的函数\n",
    "\n",
    "$$\n",
    "PE_{(pos,2i)} = \\sin(pos/10000^{2i/d_{model}}) \\\\\n",
    "PE_{(pos,2i+1)} = \\cos(pos/10000^{2i/d_{model}})\n",
    "$$\n",
    "\n",
    "其中， $2i$, $2i+1$ 分别是位置编码的奇数/偶数维度，$d$ 是词向量的维度， 这个维\n",
    "度等同于位置编码的维度， 这样位置编码就可以和词向量直接相加。\n",
    "\n",
    "越往后的维度 $d$， 频率越小， 波长越长， 所以不同的位置 $t$ 对最终的结果影响\n",
    "不大。 而越往左边走， 颜色交替的频率越频繁。\n",
    "\n",
    "特征中的维度越大，周期越大，越容易捕捉到长距离的依赖关系"
   ]
  },
  {
   "cell_type": "code",
   "execution_count": 13,
   "metadata": {
    "ExecuteTime": {
     "end_time": "2024-11-29T17:26:15.005993Z",
     "start_time": "2024-11-29T17:26:15.002591Z"
    }
   },
   "outputs": [],
   "source": [
    "def get_sinusoidal_positional_encoding(context_size=CONTEXT_SIZE, embed_size=EMBED_SIZE):\n",
    "    \"\"\"\n",
    "    正弦位置编码\n",
    "    \"\"\"\n",
    "    position = torch.arange(context_size).unsqueeze(1) # [ [0], [1], [2], ... ]\n",
    "    div_term = torch.exp(torch.arange(0, embed_size, 2) * -(math.log(10000.0) / embed_size)) # [1, 10000^-1, 10000^-2, ...]\n",
    "    positional_encoding = torch.zeros(context_size, embed_size)\n",
    "    positional_encoding[:, 0::2] = torch.sin(position * div_term)   # 正弦作为偶数位置\n",
    "    positional_encoding[:, 1::2] = torch.cos(position * div_term)   # 余弦作为奇数位置\n",
    "    return positional_encoding.to(device)"
   ]
  },
  {
   "cell_type": "markdown",
   "metadata": {},
   "source": [
    "### TODO: Explain each step in MultiheadAttention forward function and associate with the QKV equation\n",
    "### TODO: Explain why self.qkv is one linear function instead of three\n",
    "### TODO: Explain why q,k,v transpose(1,2) and y transpose back\n",
    "\n",
    "*多头注意力其实就是把嵌入空间分成多个子空间，然后在每个子空间上进行注意力计算*"
   ]
  },
  {
   "cell_type": "code",
   "execution_count": 14,
   "metadata": {
    "ExecuteTime": {
     "end_time": "2024-11-29T17:26:16.801459Z",
     "start_time": "2024-11-29T17:26:16.793189Z"
    }
   },
   "outputs": [],
   "source": [
    "class MultiheadAttention(nn.Module):\n",
    "    def __init__(self, n_heads, embed_size, dropout, n_block=0):\n",
    "        super().__init__()\n",
    "        assert embed_size % n_heads == 0, f'{embed_size=} should be divisible by {n_heads=}'\n",
    "        self.n_heads = n_heads\n",
    "        self.embed_size = embed_size\n",
    "        self.dropout_rate = dropout\n",
    "        self.n_block = n_block  # The No. of this MHA\n",
    "        self.qkv = nn.Linear(embed_size, embed_size * 3, bias=False)  # generate Q, K, V all at once\n",
    "        self.dropout = nn.Dropout(dropout)\n",
    "        self.ln = nn.LayerNorm(embed_size)\n",
    "\n",
    "    def forward(self, x):\n",
    "        B, C, E = x.shape # B: batch size, C: context size, E: embed size\n",
    "        # pre-layernorm\n",
    "        x = self.ln(x)\n",
    "        q, k, v = self.qkv(x).chunk(3, dim=-1) # split Q, K, V, each has shape [B, C, E]\n",
    "        # split heads\n",
    "        # 一个头的维度是 E/H （把 embed_size 分成 n_heads 份）\n",
    "        # [B, C, E] -> [B, C, H, E/H] -> [B, H, C, E/H]\n",
    "        q = q.view(B, C, self.n_heads, self.embed_size // self.n_heads).transpose(1, 2)\n",
    "        k = k.view(B, C, self.n_heads, self.embed_size // self.n_heads).transpose(1, 2)\n",
    "        v = v.view(B, C, self.n_heads, self.embed_size // self.n_heads).transpose(1, 2)\n",
    "        # compute QKV\n",
    "        correlation = q @ k.transpose(-2, -1) # [B, H, C, E/H] @ [B, H, E/H, C] = [B, H, C, C]\n",
    "        correlation = correlation / math.sqrt(k.shape[-1]) # scale\n",
    "        correlation = F.softmax(correlation, dim=-1)\n",
    "        correlation = F.dropout(correlation, p=self.dropout_rate, training=self.training)\n",
    "        y = correlation @ v # [B, H, C, C] @ [B, H, C, E/H] = [B, H, C, E/H]\n",
    "        # combine heads\n",
    "        # [B, H, C, E/H] -> [B, C, H, E/H] -> [B, C, E]\n",
    "        y = y.transpose(1, 2).contiguous().view(B, C, self.embed_size) # contiguous() is needed for view, 使得 y 的内存连续\n",
    "        y = self.dropout(y)\n",
    "        return y\n",
    "\n",
    "    def forward_visualize(self, x):\n",
    "        B, C, E = x.shape\n",
    "        # pre-layernorm\n",
    "        x = self.ln(x)\n",
    "        q, k, v = self.qkv(x).chunk(3, dim=-1)\n",
    "        # split heads\n",
    "        q = q.view(B, C, self.n_heads, self.embed_size // self.n_heads).transpose(1, 2)\n",
    "        k = k.view(B, C, self.n_heads, self.embed_size // self.n_heads).transpose(1, 2)\n",
    "        v = v.view(B, C, self.n_heads, self.embed_size // self.n_heads).transpose(1, 2)\n",
    "        # by hand\n",
    "        correlation = q @ k.transpose(-2, -1)\n",
    "        correlation = correlation / math.sqrt(k.shape[-1])\n",
    "        correlation = F.softmax(correlation, dim=-1)\n",
    "        correlation = F.dropout(correlation, p=self.dropout_rate, training=self.training)\n",
    "        y = correlation @ v\n",
    "        # combine heads\n",
    "        y = y.transpose(1, 2).contiguous().view(B, C, self.embed_size)\n",
    "        y = self.dropout(y)\n",
    "        return y, correlation\n",
    "\n",
    "\n",
    "class Block(nn.Module):\n",
    "    def __init__(self, n_heads, embed_size, hidden_size, dropout, n_block):\n",
    "        super().__init__()\n",
    "        self.block = n_block\n",
    "        self.attention = MultiheadAttention(n_heads, embed_size, dropout=dropout, n_block=n_block)\n",
    "        self.ff = nn.Sequential(\n",
    "            nn.LayerNorm(embed_size),  # pre-layernorm\n",
    "            nn.Linear(embed_size, hidden_size),\n",
    "            nn.ReLU(),\n",
    "            nn.Linear(hidden_size, embed_size),\n",
    "            nn.Dropout(dropout)\n",
    "        ) # feed forward\n",
    "\n",
    "    def forward(self, x):\n",
    "        x = x + self.attention(x) # residual connection (skip connection)\n",
    "        x = x + self.ff(x)  # residual connection (skip connection)\n",
    "        return x\n",
    "\n",
    "    def forward_visualize(self, x):\n",
    "        x1, cor = self.attention.forward_visualize(x)\n",
    "        x = x + x1\n",
    "        x = x + self.ff(x)\n",
    "        return x, cor\n"
   ]
  },
  {
   "cell_type": "markdown",
   "metadata": {},
   "source": [
    "### TODO: explain what is the size and functionality of tile_embedding layer \n",
    "\n",
    "`cls_token` 是用于分类的 token 放在图像的最前面 “分类头”，经过多层处理后，`cls_token` 被认为聚合了整个图像的信息，其输出就是整个图像的分类结果\n",
    "\n",
    "疑问：\n",
    "\n",
    "- 为什么要把 `cls_token` 放在最前面，而不是放在最后面？\n",
    "- 为什么只取经过"
   ]
  },
  {
   "cell_type": "code",
   "execution_count": 15,
   "metadata": {
    "ExecuteTime": {
     "end_time": "2024-11-29T17:26:20.312798Z",
     "start_time": "2024-11-29T17:26:20.304410Z"
    }
   },
   "outputs": [],
   "source": [
    "class Net(nn.Module):\n",
    "    def __init__(self, n_heads=N_HEADS, n_blocks=N_BLOCKS, embed_size=EMBED_SIZE, hidden_size=HIDDEN_SIZE,\n",
    "                 vocab_size=VOCAB_SIZE, context_size=CONTEXT_SIZE, dropout=DROPOUT, tile_size=TILE_SIZE):\n",
    "        super().__init__()\n",
    "        self.context_size = context_size\n",
    "        self.tile_size = tile_size\n",
    "        # net\n",
    "        self.positional_embedding = get_sinusoidal_positional_encoding()\n",
    "        self.tile_embedding = nn.Linear(TILE_SIZE * TILE_SIZE * CHANNEL, embed_size)\n",
    "        self.cls_token = nn.Parameter(torch.randn(1, 1, embed_size)) # learnable cls token (at the beginning)\n",
    "        self.blocks = nn.Sequential(*[Block(n_heads, embed_size, hidden_size, dropout, i) for i in range(n_blocks)])\n",
    "        self.head = nn.Linear(embed_size, vocab_size)\n",
    "\n",
    "    def forward(self, x):\n",
    "        # (batch_size, channel, height, width)\n",
    "        # split into tiles/patches/chunks\n",
    "        # [B, C, H, W] -> [B, (H/t1) * (W/t2), (C*t1*t2)]\n",
    "        x = einops.rearrange(x, 'b c (h t1) (w t2) -> b (h w) (c t1 t2)', t1=self.tile_size, t2=self.tile_size)\n",
    "        \n",
    "        # embed\n",
    "        # [B, (H/t1) * (W/t2), (C*t1*t2)] -> [B, (H/t1) * (W/t2), E]\n",
    "        x = self.tile_embedding(x)\n",
    "        \n",
    "        # add cls token\n",
    "        cls_token = self.cls_token.expand(x.shape[0], -1, -1)\n",
    "        x = torch.cat((cls_token, x), dim=1) # [B, 1 + (H/t1) * (W/t2) , E]\n",
    "        \n",
    "        # positional encoding\n",
    "        x = x + self.positional_embedding\n",
    "        # attention and ff\n",
    "        # input, output: [B, 1 + (H/t1) * (W/t2) , E] \n",
    "        x = self.blocks(x)\n",
    "        # head\n",
    "        # [B, 1 + (H/t1) * (W/t2) , E] -> [B, 1 + (H/t1) * (W/t2) , V]\n",
    "        x = self.head(x)\n",
    "        # only look at first token:\n",
    "        # [B, 1 + (H/t1) * (W/t2) , V] -> [B, V]\n",
    "        x = x[:, 0, :]\n",
    "        return x\n",
    "\n",
    "    def forward_visualize(self, x):\n",
    "        # (batch_size, channel, height, width)\n",
    "        # split into tiles/patches/chunks\n",
    "        x = einops.rearrange(x, 'b c (h t1) (w t2) -> b (h w) (c t1 t2)', t1=self.tile_size, t2=self.tile_size)\n",
    "        # embed\n",
    "        x = self.tile_embedding(x)\n",
    "        # add cls token\n",
    "        cls_token = self.cls_token.expand(x.shape[0], -1, -1)\n",
    "        x = torch.cat((cls_token, x), dim=1)\n",
    "        # positional encoding\n",
    "        x = x + self.positional_embedding\n",
    "        all_corrs = []\n",
    "        for block in self.blocks:\n",
    "            x, corr = block.forward_visualize(x)\n",
    "            all_corrs.append(corr.detach())\n",
    "\n",
    "        x = self.head(x)\n",
    "        # only look at first token:\n",
    "        x = x[:, 0, :]\n",
    "        return x, all_corrs\n"
   ]
  },
  {
   "cell_type": "markdown",
   "metadata": {},
   "source": [
    "## Training stage"
   ]
  },
  {
   "cell_type": "markdown",
   "metadata": {},
   "source": [
    "### TODO: Draw outline of this ViT, including the exact number of blocks"
   ]
  },
  {
   "cell_type": "code",
   "execution_count": 16,
   "metadata": {
    "ExecuteTime": {
     "end_time": "2024-11-29T17:26:23.135898Z",
     "start_time": "2024-11-29T17:26:22.774257Z"
    }
   },
   "outputs": [],
   "source": [
    "model = Net(n_heads=2, n_blocks=2).to(device)"
   ]
  },
  {
   "cell_type": "code",
   "execution_count": 17,
   "metadata": {},
   "outputs": [],
   "source": [
    "# resume training if you want\n",
    "# model.load_state_dict(torch.load('weights/vit_mnist_epoch20.pt'))"
   ]
  },
  {
   "cell_type": "code",
   "execution_count": 18,
   "metadata": {},
   "outputs": [
    {
     "data": {
      "text/plain": [
       "tensor(2)"
      ]
     },
     "execution_count": 18,
     "metadata": {},
     "output_type": "execute_result"
    }
   ],
   "source": [
    "next(iter(data))[1][0]"
   ]
  },
  {
   "cell_type": "markdown",
   "metadata": {},
   "source": [
    "### If you don't have a GPU, borrow one checkpoint file from your classmate, and skip the training steps\n",
    "### If you have a 4060 or better GPU, try running for 50 steps or more, and check the accuracy\n",
    "\n",
    "#### 交叉熵\n",
    "\n",
    "会自动将模型的输出和真实标签进行比较。具体来说，它会对模型的输出进行 softmax 操作，将其转换为概率分布，然后计算与真实标签之间的交叉熵。"
   ]
  },
  {
   "cell_type": "code",
   "execution_count": 20,
   "metadata": {
    "ExecuteTime": {
     "end_time": "2024-11-29T17:28:59.280033Z",
     "start_time": "2024-11-29T17:26:32.698853Z"
    }
   },
   "outputs": [
    {
     "name": "stdout",
     "output_type": "stream",
     "text": [
      "   50 0.21051740646362305\n"
     ]
    }
   ],
   "source": [
    "# Training steps\n",
    "\n",
    "epochs = 51  # feel free to change to 100\n",
    "lr = LEARNING_RATE\n",
    "model.train()\n",
    "opt = torch.optim.Adam(model.parameters(), lr=lr)\n",
    "log_every = 2\n",
    "save_every = 10\n",
    "\n",
    "for epoch in range(50, epochs):\n",
    "    for X, Y in data:\n",
    "        X, Y = X.to(device), Y.to(device)\n",
    "        out = model(X)\n",
    "        loss = F.cross_entropy(out, Y)\n",
    "        opt.zero_grad()\n",
    "        loss.backward()\n",
    "        opt.step()\n",
    "\n",
    "    if epoch % log_every == 0:\n",
    "        # print loss\n",
    "        print(f'{epoch:5} {loss.item()}')\n",
    "\n",
    "    if epoch > 5 and epoch % save_every == 0:\n",
    "        # save model\n",
    "        torch.save(model.state_dict(), 'weights/vit_mnist_epoch%02d.pt' % (epoch,))\n"
   ]
  },
  {
   "cell_type": "markdown",
   "metadata": {},
   "source": [
    "\n",
    "### Wait for training finished, or you can interrupt, and load a saved model "
   ]
  },
  {
   "cell_type": "code",
   "execution_count": 40,
   "metadata": {
    "ExecuteTime": {
     "end_time": "2024-11-29T17:29:09.779818Z",
     "start_time": "2024-11-29T17:29:09.760491Z"
    }
   },
   "outputs": [
    {
     "name": "stderr",
     "output_type": "stream",
     "text": [
      "/tmp/ipykernel_1350/328513912.py:1: FutureWarning: You are using `torch.load` with `weights_only=False` (the current default value), which uses the default pickle module implicitly. It is possible to construct malicious pickle data which will execute arbitrary code during unpickling (See https://github.com/pytorch/pytorch/blob/main/SECURITY.md#untrusted-models for more details). In a future release, the default value for `weights_only` will be flipped to `True`. This limits the functions that could be executed during unpickling. Arbitrary objects will no longer be allowed to be loaded via this mode unless they are explicitly allowlisted by the user via `torch.serialization.add_safe_globals`. We recommend you start setting `weights_only=True` for any use case where you don't have full control of the loaded file. Please open an issue on GitHub for any issues related to this experimental feature.\n",
      "  model.load_state_dict(torch.load(f'weights/vit_mnist_epoch30.pt'))\n"
     ]
    },
    {
     "data": {
      "text/plain": [
       "<All keys matched successfully>"
      ]
     },
     "execution_count": 40,
     "metadata": {},
     "output_type": "execute_result"
    }
   ],
   "source": [
    "model.load_state_dict(torch.load(f'weights/vit_mnist_epoch30.pt'))"
   ]
  },
  {
   "cell_type": "code",
   "execution_count": 41,
   "metadata": {
    "ExecuteTime": {
     "end_time": "2024-11-29T17:29:31.677162Z",
     "start_time": "2024-11-29T17:29:27.973394Z"
    }
   },
   "outputs": [
    {
     "name": "stdout",
     "output_type": "stream",
     "text": [
      "accuracy on test : 0.9431999921798706\n",
      "accuracy on train: 0.9456000328063965\n"
     ]
    }
   ],
   "source": [
    "# test set accuracy\n",
    "_ = accuracy(model)\n",
    "# train set accuracy\n",
    "_ = accuracy(model, label='train')"
   ]
  },
  {
   "cell_type": "markdown",
   "metadata": {},
   "source": [
    "## visualizations"
   ]
  },
  {
   "cell_type": "markdown",
   "metadata": {},
   "source": [
    "### visualize failures"
   ]
  },
  {
   "cell_type": "code",
   "execution_count": 42,
   "metadata": {
    "ExecuteTime": {
     "end_time": "2024-11-29T17:29:47.797234Z",
     "start_time": "2024-11-29T17:29:46.774312Z"
    }
   },
   "outputs": [
    {
     "data": {
      "image/png": "[encoded data removed]",
      "text/plain": [
       "<Figure size 1200x400 with 14 Axes>"
      ]
     },
     "metadata": {},
     "output_type": "display_data"
    }
   ],
   "source": [
    "@torch.no_grad()\n",
    "def failing(model, ds=data_test):\n",
    "    model.eval()\n",
    "    misslabeled_imgs = []\n",
    "    losses = []\n",
    "    wrong_labels = []\n",
    "    real_labels = []\n",
    "    for x, y in ds:\n",
    "        x, y = x.to(device), y.to(device)\n",
    "        logits = model(x)\n",
    "        out = logits.argmax(-1)\n",
    "        losses.append(-logits.softmax(1)[torch.arange(logits.shape[0]), y].log()[out != y])\n",
    "        misslabeled_imgs.append(x[out != y])\n",
    "        wrong_labels.append(out[out != y])\n",
    "        real_labels.append(y[out != y])\n",
    "    return torch.cat(misslabeled_imgs), torch.cat(wrong_labels), torch.cat(real_labels), torch.cat(losses)\n",
    "\n",
    "\n",
    "def sorted_failing(model, ds=data_test, descending=True):\n",
    "    imgs, wrong_labels, real_labels, losses = failing(model, ds)\n",
    "    order = losses.argsort(descending=descending)\n",
    "    return imgs[order], wrong_labels[order], real_labels[order], losses[order]\n",
    "\n",
    "\n",
    "def plot_failing(imgs, wrong_labels, real_labels, n_col=7, figsize=(12, 4)):\n",
    "    fig, ax = plt.subplots(2, n_col, figsize=figsize)\n",
    "\n",
    "    for i in range(imgs.shape[0]):\n",
    "        idx = (i // n_col, i % n_col)\n",
    "        img = imgs[i].cpu().permute(1, 2, 0)\n",
    "        ax[idx].imshow(img)\n",
    "        ax[idx].set_title(f'p={wrong_labels[i].item()} / {real_labels[i].item()} loss={losses[i].item():.2f}')\n",
    "        ax[idx].set_xticks([])\n",
    "        ax[idx].set_yticks([])\n",
    "    plt.tight_layout()\n",
    "    plt.show()\n",
    "\n",
    "\n",
    "misslabeled_imgs, wrong_labels, real_labels, losses = sorted_failing(model)\n",
    "plot_failing(misslabeled_imgs[:14], wrong_labels[:14], real_labels[:14])"
   ]
  },
  {
   "cell_type": "markdown",
   "metadata": {},
   "source": [
    "### Plot confusion matrix\n",
    "### TODO: We want to know which classes are misclassified the most.\n",
    "### TODO: Provide top-5 cases, that True class A is misclassified as B.  Print A->B"
   ]
  },
  {
   "cell_type": "code",
   "execution_count": 43,
   "metadata": {
    "ExecuteTime": {
     "end_time": "2024-11-29T17:30:54.294547Z",
     "start_time": "2024-11-29T17:30:52.043248Z"
    }
   },
   "outputs": [
    {
     "data": {
      "image/png": "[encoded data removed]",
      "text/plain": [
       "<Figure size 500x400 with 1 Axes>"
      ]
     },
     "metadata": {},
     "output_type": "display_data"
    }
   ],
   "source": [
    "@torch.no_grad()\n",
    "def label_all(model, ds=data_test):\n",
    "    model.eval()\n",
    "    predicted_labels = []\n",
    "    real_labels = []\n",
    "    for x, y in ds:\n",
    "        x, y = x.to(device), y.to(device)\n",
    "        out = model(x).argmax(-1)\n",
    "        predicted_labels.append(out)\n",
    "        real_labels.append(y)\n",
    "    return torch.cat(predicted_labels), torch.cat(real_labels)\n",
    "\n",
    "\n",
    "def to_confusion_matrix(predicted_labels, real_labels):\n",
    "    confusion_matrix = torch.zeros((10, 10), dtype=torch.int32)\n",
    "    for p, r in zip(predicted_labels, real_labels):\n",
    "        confusion_matrix[r, p] += 1\n",
    "    return confusion_matrix\n",
    "\n",
    "\n",
    "def plot_confusion_matrix(confusion_matrix, figsize=(5, 4)):\n",
    "    num_classes = confusion_matrix.shape[0]\n",
    "    plt.figure(figsize=figsize)\n",
    "    plt.imshow(confusion_matrix, interpolation='nearest', cmap='Blues', norm=colors.LogNorm())\n",
    "    for i in range(num_classes):\n",
    "        for j in range(num_classes):\n",
    "            plt.text(j, i, int(confusion_matrix[i, j]),\n",
    "                     ha=\"center\", va=\"center\",\n",
    "                     color=\"white\" if confusion_matrix[i, j] > confusion_matrix.max() / 2. else \"black\")\n",
    "    plt.title('confusion matrix')\n",
    "    plt.xlabel('predicted')\n",
    "    plt.ylabel('real')\n",
    "    plt.xticks(np.arange(num_classes))\n",
    "    plt.yticks(np.arange(num_classes))\n",
    "    plt.show()\n",
    "\n",
    "\n",
    "predicted_labels, real_labels = label_all(model)\n",
    "confusion_matrix = to_confusion_matrix(predicted_labels, real_labels)\n",
    "plot_confusion_matrix(confusion_matrix)"
   ]
  },
  {
   "cell_type": "code",
   "execution_count": 44,
   "metadata": {},
   "outputs": [
    {
     "name": "stdout",
     "output_type": "stream",
     "text": [
      "tensor([0.9755, 0.9797, 0.9264, 0.9188, 0.9501, 0.9137, 0.9635, 0.9319, 0.9353,\n",
      "        0.9316])\n",
      "tensor(5)\n"
     ]
    }
   ],
   "source": [
    "classes_t = confusion_matrix.sum(1) # real\n",
    "classes_tp = confusion_matrix.diag()    # true positive\n",
    "classes_acc = classes_tp.float() / classes_t.float() # accuracy\n",
    "print(classes_acc)\n",
    "print(classes_acc.argmin()) # worst class"
   ]
  },
  {
   "cell_type": "code",
   "execution_count": 46,
   "metadata": {},
   "outputs": [
    {
     "name": "stdout",
     "output_type": "stream",
     "text": [
      "4 -> 9: 38 times, 6.69%\n",
      "5 -> 3: 34 times, 5.99%\n",
      "9 -> 4: 27 times, 4.75%\n",
      "7 -> 9: 23 times, 4.05%\n",
      "3 -> 5: 21 times, 3.70%\n"
     ]
    }
   ],
   "source": [
    "cases_mis = []\n",
    "cases_mis_sum = 0\n",
    "for i in range(confusion_matrix.shape[0]):\n",
    "    for j in range(confusion_matrix.shape[1]):\n",
    "        if i != j:  # get each case of misclassification\n",
    "            cases_mis.append((i, j, confusion_matrix[i, j].item()))\n",
    "            cases_mis_sum += confusion_matrix[i, j].item()\n",
    "cases_mis.sort(reverse=True, key=lambda x: x[2] / cases_mis_sum) # sort\n",
    "for real_class, predicted_class, n in cases_mis[:5]:\n",
    "    print(f'{real_class} -> {predicted_class}: {n} times, {n / cases_mis_sum:.2%}')"
   ]
  },
  {
   "cell_type": "markdown",
   "metadata": {},
   "source": [
    "### Visualize attention\n",
    "### TODO: what do you find the activation map?  \n",
    "### Display one digit as example and explain which token i is mostly associated with token j"
   ]
  },
  {
   "cell_type": "code",
   "execution_count": 81,
   "metadata": {
    "ExecuteTime": {
     "end_time": "2024-11-29T17:31:38.738040Z",
     "start_time": "2024-11-29T17:31:37.893947Z"
    }
   },
   "outputs": [
    {
     "data": {
      "image/png": "[encoded data removed]",
      "text/plain": [
       "<Figure size 300x300 with 1 Axes>"
      ]
     },
     "metadata": {},
     "output_type": "display_data"
    },
    {
     "data": {
      "image/png": "[encoded data removed]",
      "text/plain": [
       "<Figure size 300x300 with 16 Axes>"
      ]
     },
     "metadata": {},
     "output_type": "display_data"
    },
    {
     "data": {
      "image/png": "[encoded data removed]",
      "text/plain": [
       "<Figure size 640x480 with 1 Axes>"
      ]
     },
     "metadata": {},
     "output_type": "display_data"
    },
    {
     "data": {
      "image/png": "[encoded data removed]",
      "text/plain": [
       "<Figure size 640x480 with 1 Axes>"
      ]
     },
     "metadata": {},
     "output_type": "display_data"
    },
    {
     "data": {
      "image/png": "[encoded data removed]",
      "text/plain": [
       "<Figure size 640x480 with 1 Axes>"
      ]
     },
     "metadata": {},
     "output_type": "display_data"
    },
    {
     "data": {
      "image/png": "[encoded data removed]",
      "text/plain": [
       "<Figure size 640x480 with 1 Axes>"
      ]
     },
     "metadata": {},
     "output_type": "display_data"
    }
   ],
   "source": [
    "from matplotlib.ticker import MaxNLocator\n",
    "\n",
    "\n",
    "@torch.no_grad()\n",
    "def visualize_attention(model, img):\n",
    "    model.eval()\n",
    "    plot(img)\n",
    "    tiles = einops.rearrange(img, 'c (h t1) (w t2) -> (h w) c t1 t2', t1=TILE_SIZE, t2=TILE_SIZE)\n",
    "    plot(tiles, n_col=4, block_size=0.75)\n",
    "    img = img.to(device).unsqueeze(0)\n",
    "    out, activations = model.forward_visualize(img)\n",
    "    out = out.argmax(-1).item()\n",
    "\n",
    "    plt.gca().axes.xaxis.set_major_locator(MaxNLocator(integer=True))\n",
    "    for block, acts in enumerate(activations):\n",
    "        for batch, acts in enumerate(torch.unbind(acts, dim=0)):\n",
    "            for head, acts in enumerate(torch.unbind(acts, dim=0)):\n",
    "                # 17x17 attention magnitude\n",
    "                acts = acts[1:,1:].cpu()\n",
    "                plt.title(f'block={block} batch={batch} head={head}')\n",
    "                plt.imshow(acts)\n",
    "                plt.show()\n",
    "\n",
    "\n",
    "visualize_attention(model, next(iter(data))[0][0])"
   ]
  },
  {
   "cell_type": "markdown",
   "metadata": {},
   "source": [
    "### Visualize positional embeddings\n",
    "#### note that emb is (1 + patch_number) * embed_size\n",
    "#### we discard the first [cls], then visualize patch_number*embed_size"
   ]
  },
  {
   "cell_type": "code",
   "execution_count": 26,
   "metadata": {
    "ExecuteTime": {
     "end_time": "2024-11-29T17:32:36.403299Z",
     "start_time": "2024-11-29T17:32:36.162886Z"
    }
   },
   "outputs": [
    {
     "name": "stdout",
     "output_type": "stream",
     "text": [
      "torch.Size([17, 16])\n"
     ]
    },
    {
     "data": {
      "image/png": "[encoded data removed]",
      "text/plain": [
       "<Figure size 400x400 with 16 Axes>"
      ]
     },
     "metadata": {},
     "output_type": "display_data"
    }
   ],
   "source": [
    "@torch.no_grad()\n",
    "def visualize_positional_embeddings(emb):\n",
    "    print(emb.size())\n",
    "    # strip cls token\n",
    "    emb = emb[1:]\n",
    "    emb = einops.rearrange(emb, 'n (k1 k2) -> n 1 k1 k2', k1=4)\n",
    "    plot(emb, n_col=4, block_size=1)\n",
    "\n",
    "\n",
    "visualize_positional_embeddings(model.positional_embedding)"
   ]
  }
 ],
 "metadata": {
  "kernelspec": {
   "display_name": "dlclass",
   "language": "python",
   "name": "python3"
  },
  "language_info": {
   "codemirror_mode": {
    "name": "ipython",
    "version": 3
   },
   "file_extension": ".py",
   "mimetype": "text/x-python",
   "name": "python",
   "nbconvert_exporter": "python",
   "pygments_lexer": "ipython3",
   "version": "3.10.15"
  }
 },
 "nbformat": 4,
 "nbformat_minor": 2
}
