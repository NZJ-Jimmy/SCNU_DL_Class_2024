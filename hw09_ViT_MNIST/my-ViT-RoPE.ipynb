{
 "cells": [
  {
   "cell_type": "markdown",
   "metadata": {},
   "source": [
    " # ViT-RoPE"
   ]
  },
  {
   "cell_type": "code",
   "execution_count": 1,
   "metadata": {},
   "outputs": [],
   "source": [
    "import numpy as np\n",
    "import math\n",
    "import einops\n",
    "import copy\n",
    "import random\n",
    "import torch\n",
    "import torch.nn as nn\n",
    "import torch.nn.functional as F\n",
    "import torchvision\n",
    "import matplotlib.pyplot as plt\n",
    "import matplotlib.colors as colors\n",
    "from matplotlib.animation import FuncAnimation\n",
    "\n",
    "device = 'cuda' if torch.cuda.is_available() else 'cpu'\n"
   ]
  },
  {
   "cell_type": "markdown",
   "metadata": {},
   "source": [
    " ## Download data\n",
    "\n",
    " #### turn on download=True if you use Colab"
   ]
  },
  {
   "cell_type": "code",
   "execution_count": 2,
   "metadata": {},
   "outputs": [],
   "source": [
    "data = torch.utils.data.DataLoader(\n",
    "    torchvision.datasets.MNIST('./data', transform=torchvision.transforms.ToTensor(), download=True, train=True),\n",
    "    batch_size=128, shuffle=True)\n"
   ]
  },
  {
   "cell_type": "code",
   "execution_count": 3,
   "metadata": {},
   "outputs": [],
   "source": [
    "data_test = torch.utils.data.DataLoader(\n",
    "    torchvision.datasets.MNIST('./data', transform=torchvision.transforms.ToTensor(), download=True, train=False),\n",
    "    batch_size=128, shuffle=True)\n"
   ]
  },
  {
   "cell_type": "markdown",
   "metadata": {},
   "source": [
    " ## helpers"
   ]
  },
  {
   "cell_type": "code",
   "execution_count": 4,
   "metadata": {},
   "outputs": [],
   "source": [
    "@torch.no_grad()\n",
    "def accuracy(model, label='test', silent=False):\n",
    "    model.eval()\n",
    "    dataset = data_test if label == 'test' else data\n",
    "    count = 0\n",
    "    correct = 0\n",
    "    for x, y in dataset:\n",
    "        x, y = x.to(device), y.to(device)\n",
    "        res = model(x).argmax(-1)\n",
    "        count += len(x)\n",
    "        correct += (res == y).float().sum()\n",
    "    acc = correct / count\n",
    "    if not silent: print(f'accuracy on {label:5}: {acc}')\n",
    "    return acc\n"
   ]
  },
  {
   "cell_type": "code",
   "execution_count": 5,
   "metadata": {},
   "outputs": [],
   "source": [
    "def plot(*args, n_col=None, figsize=None, block_size=3, labels=None):\n",
    "    '''Plot images in a grid\n",
    "    usage: plot(img1, img2, ...)\n",
    "    optional: n_col=3, figsize=(12, 8), block_size=1\n",
    "\n",
    "    img: torch.Tensor of shape (H, W) or (C, H, W) or [(H, W), ...] or [(C, H, W), ...]\n",
    "    '''\n",
    "    imgs = []\n",
    "    for img in args:\n",
    "        if isinstance(img, torch.Tensor):\n",
    "            if img.dim() == 4:\n",
    "                imgs.extend([img[i] for i in range(img.shape[0])])\n",
    "            else:\n",
    "                imgs.append(img)\n",
    "        if isinstance(img, list) or isinstance(img, tuple):\n",
    "            assert all(isinstance(i, torch.Tensor) and i.dim() == 3 for i in img)\n",
    "            imgs.extend(img)\n",
    "\n",
    "    # flatten channels\n",
    "    imgs = [img.squeeze(0) if img.dim() == 3 else img for img in imgs]\n",
    "    imgs = [img.detach().cpu() for img in imgs]\n",
    "\n",
    "    if n_col is None: n_col = len(imgs)\n",
    "    n_row = math.ceil(len(imgs) / n_col)\n",
    "    if figsize is None: figsize = (n_col * block_size, n_row * block_size)\n",
    "    # normalize ax to 2d array\n",
    "    fig, ax = plt.subplots(n_row, n_col, figsize=figsize)\n",
    "    if n_row == 1 and n_col == 1:\n",
    "        ax = np.array([[ax]])\n",
    "    elif n_row == 1:\n",
    "        ax = ax.reshape((1, -1))\n",
    "    elif n_col == 1:\n",
    "        ax = ax.reshape((-1, 1))\n",
    "    # plot\n",
    "    for i, img in enumerate(imgs):\n",
    "        idx = (i // n_col, i % n_col)\n",
    "        ax[idx].imshow(img)\n",
    "        if labels and i < len(labels): ax[idx].set_title(labels[i])\n",
    "    # remove the axis\n",
    "    for i in range(n_row * n_col):\n",
    "        idx = (i // n_col, i % n_col)\n",
    "        ax[idx].set_xticks([])\n",
    "        ax[idx].set_yticks([])\n",
    "        if i >= len(imgs): ax[idx].axis('off')\n",
    "    plt.tight_layout()\n",
    "    plt.show()\n"
   ]
  },
  {
   "cell_type": "markdown",
   "metadata": {},
   "source": [
    " ## Encoder parameters\n",
    "\n",
    " ### TODO: explain what is the value of context_size and its meaning"
   ]
  },
  {
   "cell_type": "code",
   "execution_count": 6,
   "metadata": {},
   "outputs": [],
   "source": [
    "N_HEADS = 2     # number of heads\n",
    "N_BLOCKS = 2    # number of transformer blocks\n",
    "VOCAB_SIZE = 10 # 十分类问题\n",
    "EMBED_SIZE = 16 # 词嵌入维度\n",
    "HIDDEN_SIZE = 32 # 隐藏层维度\n",
    "IMG_SIZE = 28   # 图片大小\n",
    "CHANNEL = 1     # 图片通道数\n",
    "TILE_SIZE = 7   # 切片大小\n",
    "assert IMG_SIZE % TILE_SIZE == 0    # 确保可以被 TILE_SIZE 整除\n",
    "CONTEXT_SIZE = 1 + (IMG_SIZE // TILE_SIZE) ** 2 # 1 + (28/7)^2 = 17 （包括CLS token）\n",
    "LEARNING_RATE = 3e-4 # 学习率\n",
    "DROPOUT = 0.1   # dropout rate\n"
   ]
  },
  {
   "cell_type": "code",
   "execution_count": 7,
   "metadata": {},
   "outputs": [
    {
     "data": {
      "text/plain": [
       "17"
      ]
     },
     "execution_count": 7,
     "metadata": {},
     "output_type": "execute_result"
    }
   ],
   "source": [
    "CONTEXT_SIZE  # why add 1? (16 + 1)\n"
   ]
  },
  {
   "cell_type": "code",
   "execution_count": 8,
   "metadata": {},
   "outputs": [],
   "source": [
    "def init_t_xy(end_x: int, end_y: int):\n",
    "    t = torch.arange(end_x * end_y, dtype=torch.float32)\n",
    "    t_x = (t % end_x).float()\n",
    "    t_y = torch.div(t, end_x, rounding_mode='floor').float()\n",
    "    return t_x, t_y"
   ]
  },
  {
   "cell_type": "code",
   "execution_count": 9,
   "metadata": {},
   "outputs": [],
   "source": [
    "def compute_axial_cis(dim: int, end_x: int, end_y: int, theta: float = 100.0):\n",
    "    freqs_x = 1.0 / (theta ** (torch.arange(0, dim, 4)[: (dim // 4)].float() / dim))\n",
    "    freqs_y = 1.0 / (theta ** (torch.arange(0, dim, 4)[: (dim // 4)].float() / dim))\n",
    "\n",
    "    t_x, t_y = init_t_xy(end_x, end_y)\n",
    "    freqs_x = torch.outer(t_x, freqs_x)\n",
    "    freqs_y = torch.outer(t_y, freqs_y)\n",
    "    freqs_cis_x = torch.polar(torch.ones_like(freqs_x), freqs_x)\n",
    "    freqs_cis_y = torch.polar(torch.ones_like(freqs_y), freqs_y)\n",
    "    return torch.cat([freqs_cis_x, freqs_cis_y], dim=-1)"
   ]
  },
  {
   "cell_type": "code",
   "execution_count": 10,
   "metadata": {},
   "outputs": [],
   "source": [
    "def reshape_for_broadcast(freqs_cis: torch.Tensor, x: torch.Tensor):\n",
    "    ndim = x.ndim\n",
    "    assert 0 <= 1 < ndim\n",
    "    if freqs_cis.shape == (x.shape[-2], x.shape[-1]):\n",
    "        shape = [d if i >= ndim-2 else 1 for i, d in enumerate(x.shape)]\n",
    "    elif freqs_cis.shape == (x.shape[-3], x.shape[-2], x.shape[-1]):\n",
    "        shape = [d if i >= ndim-3 else 1 for i, d in enumerate(x.shape)]\n",
    "        \n",
    "    return freqs_cis.view(*shape)\n",
    "\n",
    "def apply_rotary_emb(xq: torch.Tensor, xk: torch.Tensor, freqs_cis: torch.Tensor):\n",
    "    xq_ = torch.view_as_complex(xq.float().reshape(*xq.shape[:-1], -1, 2))\n",
    "    xk_ = torch.view_as_complex(xk.float().reshape(*xk.shape[:-1], -1, 2))\n",
    "    freqs_cis = reshape_for_broadcast(freqs_cis, xq_)\n",
    "    xq_out = torch.view_as_real(xq_ * freqs_cis).flatten(3)\n",
    "    xk_out = torch.view_as_real(xk_ * freqs_cis).flatten(3)\n",
    "    return xq_out.type_as(xq).to(xq.device), xk_out.type_as(xk).to(xk.device)"
   ]
  },
  {
   "cell_type": "code",
   "execution_count": 11,
   "metadata": {},
   "outputs": [],
   "source": [
    "class RoPEAttention(nn.Module):\n",
    "    def __init__(self, n_heads, embed_size, dropout, n_block=0):\n",
    "        super().__init__()\n",
    "        assert embed_size % n_heads == 0, f'{embed_size=} should be divisible by {n_heads=}'\n",
    "        self.n_heads = n_heads\n",
    "        self.embed_size = embed_size\n",
    "        self.dropout_rate = dropout\n",
    "        self.n_block = n_block  # The No. of this MHA\n",
    "        self.qkv = nn.Linear(embed_size, embed_size * 3, bias=False)  # generate Q, K, V all at once\n",
    "        self.dropout = nn.Dropout(dropout)\n",
    "        self.ln = nn.LayerNorm(embed_size)\n",
    "\n",
    "    def forward(self, x, freqs_cis):\n",
    "        B, C, E = x.shape # B: batch size, C: context size, E: embed size\n",
    "        # pre-layernorm\n",
    "        x = self.ln(x)\n",
    "        q, k, v = self.qkv(x).chunk(3, dim=-1) # split Q, K, V, each has shape [B, C, E]\n",
    "        # split heads\n",
    "        # 一个头的维度是 E/H （把 embed_size 分成 n_heads 份）\n",
    "        # [B, C, E] -> [B, C, H, E/H] -> [B, H, C, E/H]\n",
    "        q = q.view(B, C, self.n_heads, self.embed_size // self.n_heads).transpose(1, 2)\n",
    "        k = k.view(B, C, self.n_heads, self.embed_size // self.n_heads).transpose(1, 2)\n",
    "        v = v.view(B, C, self.n_heads, self.embed_size // self.n_heads).transpose(1, 2)\n",
    "        # Apply rotary position embedding to all heads except the first one\n",
    "        q_, k_ = apply_rotary_emb(q[:, :, 1:], k[:, :, 1:], freqs_cis=freqs_cis)\n",
    "        q = torch.cat((q[:, :, :1], q_), dim=2)\n",
    "        k = torch.cat((k[:, :, :1], k_), dim=2)\n",
    "        # compute QKV\n",
    "        correlation = q @ k.transpose(-2, -1) # [B, H, C, E/H] @ [B, H, E/H, C] = [B, H, C, C]\n",
    "        correlation = correlation / math.sqrt(k.shape[-1]) # scale\n",
    "        correlation = F.softmax(correlation, dim=-1)\n",
    "        correlation = F.dropout(correlation, p=self.dropout_rate, training=self.training)\n",
    "        y = correlation @ v # [B, H, C, C] @ [B, H, C, E/H] = [B, H, C, E/H]\n",
    "        # combine heads\n",
    "        # [B, H, C, E/H] -> [B, C, H, E/H] -> [B, C, E]\n",
    "        y = y.transpose(1, 2).contiguous().view(B, C, self.embed_size) # contiguous() is needed for view, 使得 y 的内存连续\n",
    "        y = self.dropout(y)\n",
    "        return y\n",
    "\n",
    "    def forward_visualize(self, x, freqs_cis):\n",
    "        B, C, E = x.shape\n",
    "        # pre-layernorm\n",
    "        x = self.ln(x)\n",
    "        q, k, v = self.qkv(x).chunk(3, dim=-1)\n",
    "        # split heads\n",
    "        q = q.view(B, C, self.n_heads, self.embed_size // self.n_heads).transpose(1, 2)\n",
    "        k = k.view(B, C, self.n_heads, self.embed_size // self.n_heads).transpose(1, 2)\n",
    "        v = v.view(B, C, self.n_heads, self.embed_size // self.n_heads).transpose(1, 2)\n",
    "        # Apply rotary position embedding to all heads except the first one\n",
    "        q_rot, k_rot = apply_rotary_emb(q[:, :, 1:], k[:, :, 1:], freqs_cis=freqs_cis)\n",
    "        q = torch.cat((q[:, :, :1], q_rot), dim=2)\n",
    "        k = torch.cat((k[:, :, :1], k_rot), dim=2)\n",
    "        # by hand\n",
    "        correlation = q @ k.transpose(-2, -1)\n",
    "        correlation = correlation / math.sqrt(k.shape[-1])\n",
    "        correlation = F.softmax(correlation, dim=-1)\n",
    "        correlation = F.dropout(correlation, p=self.dropout_rate, training=self.training)\n",
    "        y = correlation @ v\n",
    "        # combine heads\n",
    "        y = y.transpose(1, 2).contiguous().view(B, C, self.embed_size)\n",
    "        y = self.dropout(y)\n",
    "        return y, correlation\n",
    "\n",
    "\n",
    "class Block(nn.Module):\n",
    "    def __init__(self, n_heads, embed_size, hidden_size, dropout, n_block, freqs_cis):\n",
    "        super().__init__()\n",
    "        self.block = n_block\n",
    "        self.attention = RoPEAttention(n_heads, embed_size, dropout=dropout, n_block=n_block)\n",
    "        self.ff = nn.Sequential(\n",
    "            nn.LayerNorm(embed_size),  # pre-layernorm\n",
    "            nn.Linear(embed_size, hidden_size),\n",
    "            nn.ReLU(),\n",
    "            nn.Linear(hidden_size, embed_size),\n",
    "            nn.Dropout(dropout)\n",
    "        ) # feed forward\n",
    "        self.freqs_cis = freqs_cis\n",
    "\n",
    "    def forward(self, x):\n",
    "        x = x + self.attention(x, self.freqs_cis) # residual connection (skip connection)\n",
    "        x = x + self.ff(x)  # residual connection (skip connection)\n",
    "        return x\n",
    "\n",
    "    def forward_visualize(self, x):\n",
    "        x1, cor = self.attention.forward_visualize(x, self.freqs_cis)\n",
    "        x = x + x1\n",
    "        x = x + self.ff(x)\n",
    "        return x, cor\n",
    "\n"
   ]
  },
  {
   "cell_type": "code",
   "execution_count": 12,
   "metadata": {},
   "outputs": [],
   "source": [
    "class Net(nn.Module):\n",
    "    def __init__(self, freqs_cis, n_heads=N_HEADS, n_blocks=N_BLOCKS, embed_size=EMBED_SIZE, hidden_size=HIDDEN_SIZE,\n",
    "                 vocab_size=VOCAB_SIZE, context_size=CONTEXT_SIZE, dropout=DROPOUT, tile_size=TILE_SIZE):\n",
    "        super().__init__()\n",
    "        self.context_size = context_size\n",
    "        self.tile_size = tile_size\n",
    "        # net\n",
    "        # self.positional_embedding = get_sinusoidal_positional_encoding()\n",
    "        self.tile_embedding = nn.Linear(TILE_SIZE * TILE_SIZE * CHANNEL, embed_size)\n",
    "        self.cls_token = nn.Parameter(torch.randn(1, 1, embed_size)) # learnable cls token (at the beginning)\n",
    "        self.blocks = nn.Sequential(*[Block(n_heads, embed_size, hidden_size, dropout, i, freqs_cis) for i in range(n_blocks)])\n",
    "        self.head = nn.Linear(embed_size, vocab_size)\n",
    "\n",
    "    def forward(self, x):\n",
    "        # (batch_size, channel, height, width)\n",
    "        # split into tiles/patches/chunks\n",
    "        # [B, C, H, W] -> [B, (H/t1) * (W/t2), (C*t1*t2)]\n",
    "        x = einops.rearrange(x, 'b c (h t1) (w t2) -> b (h w) (c t1 t2)', t1=self.tile_size, t2=self.tile_size)\n",
    "        \n",
    "        # embed\n",
    "        # [B, (H/t1) * (W/t2), (C*t1*t2)] -> [B, (H/t1) * (W/t2), E]\n",
    "        x = self.tile_embedding(x)\n",
    "        \n",
    "        # add cls token\n",
    "        cls_token = self.cls_token.expand(x.shape[0], -1, -1)\n",
    "        x = torch.cat((cls_token, x), dim=1) # [B, 1 + (H/t1) * (W/t2) , E]\n",
    "        \n",
    "        # positional encoding\n",
    "        # x = x + self.positional_embedding\n",
    "        # attention and ff\n",
    "        # input, output: [B, 1 + (H/t1) * (W/t2) , E] \n",
    "        x = self.blocks(x)\n",
    "        # head\n",
    "        # [B, 1 + (H/t1) * (W/t2) , E] -> [B, 1 + (H/t1) * (W/t2) , V]\n",
    "        x = self.head(x)\n",
    "        # only look at first token:\n",
    "        # [B, 1 + (H/t1) * (W/t2) , V] -> [B, V]\n",
    "        x = x[:, 0, :]\n",
    "        return x\n",
    "\n",
    "    def forward_visualize(self, x):\n",
    "        # (batch_size, channel, height, width)\n",
    "        # split into tiles/patches/chunks\n",
    "        x = einops.rearrange(x, 'b c (h t1) (w t2) -> b (h w) (c t1 t2)', t1=self.tile_size, t2=self.tile_size)\n",
    "        # embed\n",
    "        x = self.tile_embedding(x)\n",
    "        # add cls token\n",
    "        cls_token = self.cls_token.expand(x.shape[0], -1, -1)\n",
    "        x = torch.cat((cls_token, x), dim=1)\n",
    "        # positional encoding\n",
    "        # x = x + self.positional_embedding\n",
    "        all_corrs = []\n",
    "        for block in self.blocks:\n",
    "            x, corr = block.forward_visualize(x)\n",
    "            all_corrs.append(corr.detach())\n",
    "\n",
    "        x = self.head(x)\n",
    "        # only look at first token:\n",
    "        x = x[:, 0, :]\n",
    "        return x, all_corrs\n",
    "\n"
   ]
  },
  {
   "cell_type": "markdown",
   "metadata": {},
   "source": [
    " ## Training stage"
   ]
  },
  {
   "cell_type": "markdown",
   "metadata": {},
   "source": [
    " ### TODO: Draw outline of this ViT, including the exact number of blocks"
   ]
  },
  {
   "cell_type": "code",
   "execution_count": 13,
   "metadata": {},
   "outputs": [],
   "source": [
    "freqs_cis = compute_axial_cis(dim=EMBED_SIZE // N_HEADS, end_x=IMG_SIZE//TILE_SIZE, end_y=IMG_SIZE//TILE_SIZE).to(device)\n",
    "model = Net(n_heads=2, n_blocks=2, freqs_cis=freqs_cis).to(device)\n"
   ]
  },
  {
   "cell_type": "code",
   "execution_count": 14,
   "metadata": {},
   "outputs": [],
   "source": [
    "# resume training if you want\n",
    "# model.load_state_dict(torch.load('weights/vit_mnist_epoch20.pt'))\n"
   ]
  },
  {
   "cell_type": "code",
   "execution_count": 15,
   "metadata": {},
   "outputs": [
    {
     "name": "stdout",
     "output_type": "stream",
     "text": [
      "    0 1.5170202255249023\n",
      "    2 0.9906125664710999\n",
      "    4 0.8537093997001648\n",
      "    6 0.6970613598823547\n",
      "    8 0.662736177444458\n",
      "   10 0.5471877455711365\n",
      "   12 0.3621377944946289\n",
      "   14 0.6804556846618652\n",
      "   16 0.2604619562625885\n",
      "   18 0.4045036733150482\n",
      "   20 0.4109381139278412\n",
      "   22 0.3682985305786133\n",
      "   24 0.39174774289131165\n",
      "   26 0.30813300609588623\n",
      "   28 0.24105747044086456\n",
      "   30 0.2085004597902298\n",
      "   32 0.29334700107574463\n",
      "   34 0.24218477308750153\n",
      "   36 0.5192931890487671\n",
      "   38 0.3313134014606476\n",
      "   40 0.25557854771614075\n",
      "   42 0.24898643791675568\n",
      "   44 0.3118981719017029\n",
      "   46 0.4216345250606537\n",
      "   48 0.18896211683750153\n",
      "   50 0.30611056089401245\n"
     ]
    }
   ],
   "source": [
    "# Training steps\n",
    "\n",
    "epochs = 51  # feel free to change to 100\n",
    "lr = LEARNING_RATE\n",
    "model.train()\n",
    "opt = torch.optim.Adam(model.parameters(), lr=lr)\n",
    "log_every = 2\n",
    "save_every = 10\n",
    "\n",
    "for epoch in range(epochs):\n",
    "    for X, Y in data:\n",
    "        X, Y = X.to(device), Y.to(device)\n",
    "        out = model(X)\n",
    "        loss = F.cross_entropy(out, Y)\n",
    "        opt.zero_grad()\n",
    "        loss.backward()\n",
    "        opt.step()\n",
    "\n",
    "    if epoch % log_every == 0:\n",
    "        # print loss\n",
    "        print(f'{epoch:5} {loss.item()}')\n",
    "\n",
    "    if epoch > 5 and epoch % save_every == 0:\n",
    "        # save model\n",
    "        torch.save(model.state_dict(), 'weights/vit_rope_axis_epoch%02d.pt' % (epoch,))\n",
    "\n"
   ]
  },
  {
   "cell_type": "markdown",
   "metadata": {},
   "source": [
    "\n",
    "\n",
    " ### Wait for training finished, or you can interrupt, and load a saved model"
   ]
  },
  {
   "cell_type": "code",
   "execution_count": 18,
   "metadata": {},
   "outputs": [
    {
     "name": "stderr",
     "output_type": "stream",
     "text": [
      "/tmp/ipykernel_688361/2000002412.py:1: FutureWarning: You are using `torch.load` with `weights_only=False` (the current default value), which uses the default pickle module implicitly. It is possible to construct malicious pickle data which will execute arbitrary code during unpickling (See https://github.com/pytorch/pytorch/blob/main/SECURITY.md#untrusted-models for more details). In a future release, the default value for `weights_only` will be flipped to `True`. This limits the functions that could be executed during unpickling. Arbitrary objects will no longer be allowed to be loaded via this mode unless they are explicitly allowlisted by the user via `torch.serialization.add_safe_globals`. We recommend you start setting `weights_only=True` for any use case where you don't have full control of the loaded file. Please open an issue on GitHub for any issues related to this experimental feature.\n",
      "  model.load_state_dict(torch.load(f'weights/vit_rope_axis_epoch{epoch}.pt'))\n"
     ]
    },
    {
     "data": {
      "text/plain": [
       "<All keys matched successfully>"
      ]
     },
     "execution_count": 18,
     "metadata": {},
     "output_type": "execute_result"
    }
   ],
   "source": [
    "model.load_state_dict(torch.load(f'weights/vit_rope_axis_epoch{epoch}.pt'))\n"
   ]
  },
  {
   "cell_type": "code",
   "execution_count": 16,
   "metadata": {},
   "outputs": [
    {
     "name": "stdout",
     "output_type": "stream",
     "text": [
      "accuracy on test : 0.9351999759674072\n",
      "accuracy on train: 0.9394833445549011\n"
     ]
    }
   ],
   "source": [
    "# test set accuracy\n",
    "_ = accuracy(model)\n",
    "# train set accuracy\n",
    "_ = accuracy(model, label='train')\n"
   ]
  },
  {
   "cell_type": "markdown",
   "metadata": {},
   "source": [
    " ## visualizations"
   ]
  },
  {
   "cell_type": "markdown",
   "metadata": {},
   "source": [
    " ### visualize failures"
   ]
  },
  {
   "cell_type": "code",
   "execution_count": null,
   "metadata": {},
   "outputs": [],
   "source": [
    "@torch.no_grad()\n",
    "def failing(model, ds=data_test):\n",
    "    model.eval()\n",
    "    misslabeled_imgs = []\n",
    "    losses = []\n",
    "    wrong_labels = []\n",
    "    real_labels = []\n",
    "    for x, y in ds:\n",
    "        x, y = x.to(device), y.to(device)\n",
    "        logits = model(x)\n",
    "        out = logits.argmax(-1)\n",
    "        losses.append(-logits.softmax(1)[torch.arange(logits.shape[0]), y].log()[out != y])\n",
    "        misslabeled_imgs.append(x[out != y])\n",
    "        wrong_labels.append(out[out != y])\n",
    "        real_labels.append(y[out != y])\n",
    "    return torch.cat(misslabeled_imgs), torch.cat(wrong_labels), torch.cat(real_labels), torch.cat(losses)\n",
    "\n",
    "\n",
    "def sorted_failing(model, ds=data_test, descending=True):\n",
    "    imgs, wrong_labels, real_labels, losses = failing(model, ds)\n",
    "    order = losses.argsort(descending=descending)\n",
    "    return imgs[order], wrong_labels[order], real_labels[order], losses[order]\n",
    "\n",
    "\n",
    "def plot_failing(imgs, wrong_labels, real_labels, n_col=7, figsize=(12, 4)):\n",
    "    fig, ax = plt.subplots(2, n_col, figsize=figsize)\n",
    "\n",
    "    for i in range(imgs.shape[0]):\n",
    "        idx = (i // n_col, i % n_col)\n",
    "        img = imgs[i].cpu().permute(1, 2, 0)\n",
    "        ax[idx].imshow(img)\n",
    "        ax[idx].set_title(f'p={wrong_labels[i].item()} / {real_labels[i].item()} loss={losses[i].item():.2f}')\n",
    "        ax[idx].set_xticks([])\n",
    "        ax[idx].set_yticks([])\n",
    "    plt.tight_layout()\n",
    "    plt.show()\n",
    "\n",
    "\n",
    "misslabeled_imgs, wrong_labels, real_labels, losses = sorted_failing(model)\n",
    "plot_failing(misslabeled_imgs[:14], wrong_labels[:14], real_labels[:14])\n"
   ]
  },
  {
   "cell_type": "markdown",
   "metadata": {},
   "source": [
    " ### Plot confusion matrix\n",
    "\n",
    " ### TODO: We want to know which classes are misclassified the most.\n",
    "\n",
    " ### TODO: Provide top-5 cases, that True class A is misclassified as B.  Print A->B"
   ]
  },
  {
   "cell_type": "code",
   "execution_count": null,
   "metadata": {},
   "outputs": [],
   "source": [
    "@torch.no_grad()\n",
    "def label_all(model, ds=data_test):\n",
    "    model.eval()\n",
    "    predicted_labels = []\n",
    "    real_labels = []\n",
    "    for x, y in ds:\n",
    "        x, y = x.to(device), y.to(device)\n",
    "        out = model(x).argmax(-1)\n",
    "        predicted_labels.append(out)\n",
    "        real_labels.append(y)\n",
    "    return torch.cat(predicted_labels), torch.cat(real_labels)\n",
    "\n",
    "\n",
    "def to_confusion_matrix(predicted_labels, real_labels):\n",
    "    confusion_matrix = torch.zeros((10, 10), dtype=torch.int32)\n",
    "    for p, r in zip(predicted_labels, real_labels):\n",
    "        confusion_matrix[r, p] += 1\n",
    "    return confusion_matrix\n",
    "\n",
    "\n",
    "def plot_confusion_matrix(confusion_matrix, figsize=(5, 4)):\n",
    "    num_classes = confusion_matrix.shape[0]\n",
    "    plt.figure(figsize=figsize)\n",
    "    plt.imshow(confusion_matrix, interpolation='nearest', cmap='Blues', norm=colors.LogNorm())\n",
    "    for i in range(num_classes):\n",
    "        for j in range(num_classes):\n",
    "            plt.text(j, i, int(confusion_matrix[i, j]),\n",
    "                     ha=\"center\", va=\"center\",\n",
    "                     color=\"white\" if confusion_matrix[i, j] > confusion_matrix.max() / 2. else \"black\")\n",
    "    plt.title('confusion matrix')\n",
    "    plt.xlabel('predicted')\n",
    "    plt.ylabel('real')\n",
    "    plt.xticks(np.arange(num_classes))\n",
    "    plt.yticks(np.arange(num_classes))\n",
    "    plt.show()\n",
    "\n",
    "\n",
    "predicted_labels, real_labels = label_all(model)\n",
    "confusion_matrix = to_confusion_matrix(predicted_labels, real_labels)\n",
    "plot_confusion_matrix(confusion_matrix)\n"
   ]
  },
  {
   "cell_type": "code",
   "execution_count": null,
   "metadata": {},
   "outputs": [],
   "source": [
    "cases_mis = []\n",
    "for i in range(confusion_matrix.shape[0]):\n",
    "    for j in range(confusion_matrix.shape[1]):\n",
    "        if i != j:  # get each case of misclassification\n",
    "            cases_mis.append((i, j, confusion_matrix[i, j].item()))\n",
    "cases_mis.sort(reverse=True, key=lambda x: x[2]) # sort\n",
    "for real_class, predicted_class, n in cases_mis[:5]:\n",
    "    print(f'{real_class} -> {predicted_class}: {n} times')  # Print\n"
   ]
  },
  {
   "cell_type": "markdown",
   "metadata": {},
   "source": [
    " ### Visualize attention\n",
    "\n",
    " ### TODO: what do you find the activation map?\n",
    "\n",
    " ### Display one digit as example and explain which token i is mostly associated with token j"
   ]
  },
  {
   "cell_type": "code",
   "execution_count": 17,
   "metadata": {},
   "outputs": [
    {
     "data": {
      "image/png": "[encoded data removed]",
      "text/plain": [
       "<Figure size 300x300 with 1 Axes>"
      ]
     },
     "metadata": {},
     "output_type": "display_data"
    },
    {
     "data": {
      "image/png": "[encoded data removed]",
      "text/plain": [
       "<Figure size 300x300 with 16 Axes>"
      ]
     },
     "metadata": {},
     "output_type": "display_data"
    },
    {
     "data": {
      "image/png": "[encoded data removed]",
      "text/plain": [
       "<Figure size 640x480 with 1 Axes>"
      ]
     },
     "metadata": {},
     "output_type": "display_data"
    },
    {
     "data": {
      "image/png": "[encoded data removed]",
      "text/plain": [
       "<Figure size 640x480 with 1 Axes>"
      ]
     },
     "metadata": {},
     "output_type": "display_data"
    },
    {
     "data": {
      "image/png": "[encoded data removed]",
      "text/plain": [
       "<Figure size 640x480 with 1 Axes>"
      ]
     },
     "metadata": {},
     "output_type": "display_data"
    },
    {
     "data": {
      "image/png": "[encoded data removed]",
      "text/plain": [
       "<Figure size 640x480 with 1 Axes>"
      ]
     },
     "metadata": {},
     "output_type": "display_data"
    }
   ],
   "source": [
    "from matplotlib.ticker import MaxNLocator\n",
    "\n",
    "\n",
    "@torch.no_grad()\n",
    "def visualize_attention(model, img):\n",
    "    model.eval()\n",
    "    plot(img)\n",
    "    tiles = einops.rearrange(img, 'c (h t1) (w t2) -> (h w) c t1 t2', t1=TILE_SIZE, t2=TILE_SIZE)\n",
    "    plot(tiles, n_col=4, block_size=0.75)\n",
    "    img = img.to(device).unsqueeze(0)\n",
    "    out, activations = model.forward_visualize(img)\n",
    "    out = out.argmax(-1).item()\n",
    "\n",
    "    plt.gca().axes.xaxis.set_major_locator(MaxNLocator(integer=True))\n",
    "    for block, acts in enumerate(activations):\n",
    "        for batch, acts in enumerate(torch.unbind(acts, dim=0)):\n",
    "            for head, acts in enumerate(torch.unbind(acts, dim=0)):\n",
    "                # 17x17 attention magnitude\n",
    "                acts = acts[1:,1:].cpu()\n",
    "                plt.title(f'block={block} batch={batch} head={head}')\n",
    "                plt.imshow(acts)\n",
    "                plt.show()\n",
    "\n",
    "\n",
    "visualize_attention(model, next(iter(data))[0][0])\n"
   ]
  },
  {
   "cell_type": "markdown",
   "metadata": {},
   "source": [
    " ### Visualize positional embeddings\n",
    "\n",
    " #### note that emb is (1 + patch_number) * embed_size\n",
    "\n",
    " #### we discard the first [cls], then visualize patch_number*embed_size"
   ]
  },
  {
   "cell_type": "code",
   "execution_count": null,
   "metadata": {},
   "outputs": [],
   "source": [
    "@torch.no_grad()\n",
    "def visualize_positional_embeddings(emb):\n",
    "    print(emb.size())\n",
    "    # strip cls token\n",
    "    emb = emb[1:]\n",
    "    emb = einops.rearrange(emb, 'n (k1 k2) -> n 1 k1 k2', k1=4)\n",
    "    plot(emb, n_col=4, block_size=1)\n",
    "\n",
    "\n",
    "visualize_positional_embeddings(model.positional_embedding)\n",
    "\n"
   ]
  }
 ],
 "metadata": {
  "kernelspec": {
   "display_name": "dlclass",
   "language": "python",
   "name": "python3"
  },
  "language_info": {
   "codemirror_mode": {
    "name": "ipython",
    "version": 3
   },
   "file_extension": ".py",
   "mimetype": "text/x-python",
   "name": "python",
   "nbconvert_exporter": "python",
   "pygments_lexer": "ipython3",
   "version": "3.10.15"
  }
 },
 "nbformat": 4,
 "nbformat_minor": 2
}
