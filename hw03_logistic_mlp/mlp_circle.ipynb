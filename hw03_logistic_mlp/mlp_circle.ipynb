{
 "cells": [
  {
   "cell_type": "code",
   "execution_count": 1,
   "metadata": {},
   "outputs": [
    {
     "name": "stderr",
     "output_type": "stream",
     "text": [
      "Training Epochs: 100%|██████████| 20001/20001 [00:04<00:00, 4595.26it/s]\n",
      "Training Epochs: 100%|██████████| 20001/20001 [00:05<00:00, 3444.03it/s]\n",
      "Training Epochs: 100%|██████████| 20001/20001 [00:05<00:00, 3416.79it/s]\n",
      "Training Epochs: 100%|██████████| 20001/20001 [00:05<00:00, 3463.93it/s]\n",
      "Training Epochs: 100%|██████████| 20001/20001 [00:05<00:00, 3448.02it/s]\n",
      "Training Epochs: 100%|██████████| 20001/20001 [00:05<00:00, 3377.88it/s]\n",
      "Training Epochs: 100%|██████████| 20001/20001 [00:06<00:00, 3261.24it/s]\n",
      "Training Epochs: 100%|██████████| 20001/20001 [00:05<00:00, 3412.19it/s]\n",
      "Training Epochs: 100%|██████████| 20001/20001 [00:06<00:00, 3314.77it/s]\n",
      "Training Epochs: 100%|██████████| 20001/20001 [00:06<00:00, 3266.13it/s]\n"
     ]
    }
   ],
   "source": [
    "import torch\n",
    "from sklearn.model_selection import train_test_split\n",
    "from get_circle_quarter import train\n",
    "from get_circle_quarter import get_circle, get_quarter\n",
    "import pandas as pd\n",
    "\n",
    "\n",
    "class MLPModel(torch.nn.Module):\n",
    "    def __init__(self, input_dim, hidden_size, output_dim):\n",
    "        super(MLPModel, self).__init__()\n",
    "        # TODO: implement your 2-layer MLP here\n",
    "        self.mlp_1 = torch.nn.Linear(input_dim, hidden_size)    # 输入层\n",
    "        self.mlp_2 = torch.nn.Linear(hidden_size, output_dim)   # 输出层\n",
    "\n",
    "    def forward(self, x):\n",
    "        inputs = torch.tanh(self.mlp_1(x))              # 在输入层使用 ReLU 激活函数\n",
    "        outputs = torch.sigmoid(self.mlp_2(inputs))     # 在输出层使用 Sigmoid 激活函数\n",
    "        return outputs\n",
    "\n",
    "\n",
    "if __name__ == '__main__':\n",
    "\n",
    "    ###############################\n",
    "    ####     DO NOT MODIFY    #####\n",
    "    ###############################\n",
    "    input_dim = 2  # Two inputs x1 and x2\n",
    "    output_dim = 1  # Two possible outputs\n",
    "\n",
    "    # TODO: change this to 0/1 to try two cases\n",
    "    use_circle_quarter = 0\n",
    "\n",
    "    ###############################\n",
    "    ####     DO NOT MODIFY    #####\n",
    "    ###############################\n",
    "    if use_circle_quarter == 0:\n",
    "        X, y = get_circle()\n",
    "    elif use_circle_quarter == 1:\n",
    "        X, y = get_quarter()\n",
    "    else:\n",
    "        assert 1 == 2, 'bad choice'\n",
    "    # Get data, don't modify\n",
    "    X_train, X_test, y_train, y_test = train_test_split(\n",
    "        X, y, test_size=0.33, random_state=42)\n",
    "\n",
    "    # TODO: you may modify hidden_size and learning_rate\n",
    "    # hidden_size = 3\n",
    "    lr = 0.1\n",
    "\n",
    "    results = []\n",
    "    figs = []\n",
    "    # TODO: implement the MLPModel\n",
    "    for hidden_size in range(1, 11):\n",
    "        model = MLPModel(input_dim, hidden_size, output_dim)\n",
    "        result = train(X_train, X_test, y_train, y_test, learning_rate=lr, model=model)\n",
    "        results.append(result)\n",
    "        figs.append()\n",
    "    results = pd.DataFrame(results, index=range(1,11))\n",
    "    \n"
   ]
  },
  {
   "cell_type": "code",
   "execution_count": 2,
   "metadata": {},
   "outputs": [
    {
     "data": {
      "text/html": [
       "<div>\n",
       "<style scoped>\n",
       "    .dataframe tbody tr th:only-of-type {\n",
       "        vertical-align: middle;\n",
       "    }\n",
       "\n",
       "    .dataframe tbody tr th {\n",
       "        vertical-align: top;\n",
       "    }\n",
       "\n",
       "    .dataframe thead th {\n",
       "        text-align: right;\n",
       "    }\n",
       "</style>\n",
       "<table border=\"1\" class=\"dataframe\">\n",
       "  <thead>\n",
       "    <tr style=\"text-align: right;\">\n",
       "      <th></th>\n",
       "      <th>iter</th>\n",
       "      <th>loss_train</th>\n",
       "      <th>accuracy_train</th>\n",
       "      <th>loss_test</th>\n",
       "      <th>accuracy_test</th>\n",
       "    </tr>\n",
       "  </thead>\n",
       "  <tbody>\n",
       "    <tr>\n",
       "      <th>1</th>\n",
       "      <td>20000</td>\n",
       "      <td>0.570347</td>\n",
       "      <td>60.895522</td>\n",
       "      <td>0.587750</td>\n",
       "      <td>60.606061</td>\n",
       "    </tr>\n",
       "    <tr>\n",
       "      <th>2</th>\n",
       "      <td>20000</td>\n",
       "      <td>0.436019</td>\n",
       "      <td>77.313433</td>\n",
       "      <td>0.461233</td>\n",
       "      <td>73.939394</td>\n",
       "    </tr>\n",
       "    <tr>\n",
       "      <th>3</th>\n",
       "      <td>20000</td>\n",
       "      <td>0.095380</td>\n",
       "      <td>96.865672</td>\n",
       "      <td>0.073534</td>\n",
       "      <td>97.575758</td>\n",
       "    </tr>\n",
       "    <tr>\n",
       "      <th>4</th>\n",
       "      <td>20000</td>\n",
       "      <td>0.086525</td>\n",
       "      <td>97.164179</td>\n",
       "      <td>0.065055</td>\n",
       "      <td>97.575758</td>\n",
       "    </tr>\n",
       "    <tr>\n",
       "      <th>5</th>\n",
       "      <td>20000</td>\n",
       "      <td>0.085416</td>\n",
       "      <td>97.014925</td>\n",
       "      <td>0.063881</td>\n",
       "      <td>97.575758</td>\n",
       "    </tr>\n",
       "    <tr>\n",
       "      <th>6</th>\n",
       "      <td>20000</td>\n",
       "      <td>0.074414</td>\n",
       "      <td>98.059701</td>\n",
       "      <td>0.050577</td>\n",
       "      <td>99.393939</td>\n",
       "    </tr>\n",
       "    <tr>\n",
       "      <th>7</th>\n",
       "      <td>20000</td>\n",
       "      <td>0.061938</td>\n",
       "      <td>98.358209</td>\n",
       "      <td>0.048936</td>\n",
       "      <td>98.484848</td>\n",
       "    </tr>\n",
       "    <tr>\n",
       "      <th>8</th>\n",
       "      <td>20000</td>\n",
       "      <td>0.050203</td>\n",
       "      <td>99.402985</td>\n",
       "      <td>0.031153</td>\n",
       "      <td>99.393939</td>\n",
       "    </tr>\n",
       "    <tr>\n",
       "      <th>9</th>\n",
       "      <td>20000</td>\n",
       "      <td>0.064316</td>\n",
       "      <td>98.955224</td>\n",
       "      <td>0.049706</td>\n",
       "      <td>98.787879</td>\n",
       "    </tr>\n",
       "    <tr>\n",
       "      <th>10</th>\n",
       "      <td>20000</td>\n",
       "      <td>0.047622</td>\n",
       "      <td>99.701493</td>\n",
       "      <td>0.026067</td>\n",
       "      <td>99.696970</td>\n",
       "    </tr>\n",
       "  </tbody>\n",
       "</table>\n",
       "</div>"
      ],
      "text/plain": [
       "     iter  loss_train  accuracy_train  loss_test  accuracy_test\n",
       "1   20000    0.570347       60.895522   0.587750      60.606061\n",
       "2   20000    0.436019       77.313433   0.461233      73.939394\n",
       "3   20000    0.095380       96.865672   0.073534      97.575758\n",
       "4   20000    0.086525       97.164179   0.065055      97.575758\n",
       "5   20000    0.085416       97.014925   0.063881      97.575758\n",
       "6   20000    0.074414       98.059701   0.050577      99.393939\n",
       "7   20000    0.061938       98.358209   0.048936      98.484848\n",
       "8   20000    0.050203       99.402985   0.031153      99.393939\n",
       "9   20000    0.064316       98.955224   0.049706      98.787879\n",
       "10  20000    0.047622       99.701493   0.026067      99.696970"
      ]
     },
     "execution_count": 2,
     "metadata": {},
     "output_type": "execute_result"
    }
   ],
   "source": [
    "results"
   ]
  },
  {
   "cell_type": "code",
   "execution_count": 8,
   "metadata": {},
   "outputs": [
    {
     "data": {
      "text/plain": [
       "<Axes: title={'center': 'Training and Testing Metrics vs. Hidden Layer Size'}>"
      ]
     },
     "execution_count": 8,
     "metadata": {},
     "output_type": "execute_result"
    },
    {
     "data": {
      "image/png": "[encoded data removed]",
      "text/plain": [
       "<Figure size 640x480 with 1 Axes>"
      ]
     },
     "metadata": {},
     "output_type": "display_data"
    }
   ],
   "source": [
    "results.plot(kind='line', y=['accuracy_train', 'accuracy_test'],  title='Training and Testing Metrics vs. Hidden Layer Size')"
   ]
  },
  {
   "cell_type": "code",
   "execution_count": 3,
   "metadata": {},
   "outputs": [
    {
     "name": "stdout",
     "output_type": "stream",
     "text": [
      "Final accuracy: 97.01492537313433\n",
      "mlp_1.weight tensor([[-3.0221, -3.1236],\n",
      "        [-1.0793,  3.8868],\n",
      "        [ 4.0804, -1.3471]])\n",
      "mlp_1.bias tensor([-0.5905, -0.0770, -0.4374])\n",
      "mlp_2.weight tensor([[-4.3084, -3.9987, -4.3152]])\n",
      "mlp_2.bias tensor([14.4099])\n"
     ]
    }
   ],
   "source": [
    "print('Final accuracy:', result['accuracy_train'])\n",
    "\n",
    "for k, v in model.state_dict().items():\n",
    "    print(k, v)\n"
   ]
  },
  {
   "cell_type": "code",
   "execution_count": 23,
   "metadata": {},
   "outputs": [
    {
     "data": {
      "text/plain": [
       "0.7071067811865476"
      ]
     },
     "execution_count": 23,
     "metadata": {},
     "output_type": "execute_result"
    }
   ],
   "source": [
    "sqrt(2)/2.0"
   ]
  },
  {
   "cell_type": "code",
   "execution_count": 28,
   "metadata": {},
   "outputs": [
    {
     "data": {
      "text/plain": [
       "tensor([[0.8346]], grad_fn=<SigmoidBackward0>)"
      ]
     },
     "execution_count": 28,
     "metadata": {},
     "output_type": "execute_result"
    }
   ],
   "source": [
    "from numpy import sqrt\n",
    "\n",
    "\n",
    "model(torch.tensor([[0.6, 0.6]]))"
   ]
  },
  {
   "cell_type": "code",
   "execution_count": 8,
   "metadata": {},
   "outputs": [
    {
     "name": "stdout",
     "output_type": "stream",
     "text": [
      "mlp_1.weight tensor([[ 1.1644, -3.9439],\n",
      "        [-4.1421,  1.1981],\n",
      "        [ 2.9060,  3.2477]])\n",
      "mlp_1.bias tensor([ 0.2247, -0.4072, -0.5190])\n",
      "mlp_2.weight tensor([[-4.0058, -4.2621, -4.3181]])\n",
      "mlp_2.bias tensor([15.3210])\n"
     ]
    }
   ],
   "source": [
    "for k, v in model.state_dict().items():\n",
    "    print(k, v)"
   ]
  }
 ],
 "metadata": {
  "kernelspec": {
   "display_name": "dlclass",
   "language": "python",
   "name": "python3"
  },
  "language_info": {
   "codemirror_mode": {
    "name": "ipython",
    "version": 3
   },
   "file_extension": ".py",
   "mimetype": "text/x-python",
   "name": "python",
   "nbconvert_exporter": "python",
   "pygments_lexer": "ipython3",
   "version": "3.10.14"
  }
 },
 "nbformat": 4,
 "nbformat_minor": 2
}
