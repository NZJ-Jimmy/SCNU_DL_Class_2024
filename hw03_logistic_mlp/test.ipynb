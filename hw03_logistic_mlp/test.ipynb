{
 "cells": [
  {
   "cell_type": "code",
   "execution_count": 1,
   "metadata": {},
   "outputs": [
    {
     "name": "stderr",
     "output_type": "stream",
     "text": [
      "Training Epochs:   5%|▍         | 969/20001 [00:00<00:08, 2151.70it/s]"
     ]
    },
    {
     "name": "stdout",
     "output_type": "stream",
     "text": [
      "Iteration: 500. \n",
      "Test - Loss: 0.5842896699905396. Accuracy: 61.21212121212121\n",
      "Train -  Loss: 0.5985786318778992. Accuracy: 59.55223880597015\n",
      "\n",
      "Iteration: 1000. \n",
      "Test - Loss: 0.4627411961555481. Accuracy: 78.78787878787878\n",
      "Train -  Loss: 0.4976849853992462. Accuracy: 74.6268656716418\n",
      "\n"
     ]
    },
    {
     "name": "stderr",
     "output_type": "stream",
     "text": [
      "Training Epochs:  10%|▉         | 1905/20001 [00:00<00:06, 2706.23it/s]"
     ]
    },
    {
     "name": "stdout",
     "output_type": "stream",
     "text": [
      "Iteration: 1500. \n",
      "Test - Loss: 0.45301809906959534. Accuracy: 77.57575757575758\n",
      "Train -  Loss: 0.4754696190357208. Accuracy: 74.6268656716418\n",
      "\n",
      "Iteration: 2000. \n",
      "Test - Loss: 0.45226210355758667. Accuracy: 76.66666666666667\n",
      "Train -  Loss: 0.4660334885120392. Accuracy: 74.92537313432835\n",
      "\n"
     ]
    },
    {
     "name": "stderr",
     "output_type": "stream",
     "text": [
      "Training Epochs:  15%|█▍        | 2914/20001 [00:01<00:05, 2991.15it/s]"
     ]
    },
    {
     "name": "stdout",
     "output_type": "stream",
     "text": [
      "Iteration: 2500. \n",
      "Test - Loss: 0.45837220549583435. Accuracy: 74.84848484848484\n",
      "Train -  Loss: 0.4558016061782837. Accuracy: 75.82089552238806\n",
      "\n",
      "Iteration: 3000. \n",
      "Test - Loss: 0.4600958526134491. Accuracy: 74.54545454545455\n",
      "Train -  Loss: 0.4462335407733917. Accuracy: 75.97014925373135\n",
      "\n"
     ]
    },
    {
     "name": "stderr",
     "output_type": "stream",
     "text": [
      "Training Epochs:  20%|█▉        | 3913/20001 [00:01<00:05, 3191.05it/s]"
     ]
    },
    {
     "name": "stdout",
     "output_type": "stream",
     "text": [
      "Iteration: 3500. \n",
      "Test - Loss: 0.337976336479187. Accuracy: 90.9090909090909\n",
      "Train -  Loss: 0.3442811667919159. Accuracy: 91.64179104477611\n",
      "\n",
      "Iteration: 4000. \n",
      "Test - Loss: 0.19817210733890533. Accuracy: 96.96969696969697\n",
      "Train -  Loss: 0.22615168988704681. Accuracy: 93.73134328358209\n",
      "\n"
     ]
    },
    {
     "name": "stderr",
     "output_type": "stream",
     "text": [
      "Training Epochs:  24%|██▍       | 4893/20001 [00:01<00:04, 3129.83it/s]"
     ]
    },
    {
     "name": "stdout",
     "output_type": "stream",
     "text": [
      "Iteration: 4500. \n",
      "Test - Loss: 0.1678040772676468. Accuracy: 96.66666666666667\n",
      "Train -  Loss: 0.1950264275074005. Accuracy: 94.02985074626865\n",
      "\n",
      "Iteration: 5000. \n",
      "Test - Loss: 0.15304341912269592. Accuracy: 96.06060606060606\n",
      "Train -  Loss: 0.17875973880290985. Accuracy: 94.17910447761194\n",
      "\n"
     ]
    },
    {
     "name": "stderr",
     "output_type": "stream",
     "text": [
      "Training Epochs:  30%|██▉       | 5928/20001 [00:02<00:04, 3373.36it/s]"
     ]
    },
    {
     "name": "stdout",
     "output_type": "stream",
     "text": [
      "Iteration: 5500. \n",
      "Test - Loss: 0.14402209222316742. Accuracy: 95.75757575757575\n",
      "Train -  Loss: 0.1681666076183319. Accuracy: 94.6268656716418\n",
      "\n",
      "Iteration: 6000. \n",
      "Test - Loss: 0.13734793663024902. Accuracy: 95.75757575757575\n",
      "Train -  Loss: 0.16040189564228058. Accuracy: 93.88059701492537\n",
      "\n"
     ]
    },
    {
     "name": "stderr",
     "output_type": "stream",
     "text": [
      "Training Epochs:  35%|███▍      | 6983/20001 [00:02<00:04, 3077.27it/s]"
     ]
    },
    {
     "name": "stdout",
     "output_type": "stream",
     "text": [
      "Iteration: 6500. \n",
      "Test - Loss: 0.13173843920230865. Accuracy: 95.45454545454545\n",
      "Train -  Loss: 0.15417489409446716. Accuracy: 94.32835820895522\n",
      "\n",
      "Iteration: 7000. \n",
      "Test - Loss: 0.12673528492450714. Accuracy: 95.45454545454545\n",
      "Train -  Loss: 0.14887163043022156. Accuracy: 94.77611940298507\n",
      "\n"
     ]
    },
    {
     "name": "stderr",
     "output_type": "stream",
     "text": [
      "Training Epochs:  40%|███▉      | 7905/20001 [00:02<00:04, 2982.86it/s]"
     ]
    },
    {
     "name": "stdout",
     "output_type": "stream",
     "text": [
      "Iteration: 7500. \n",
      "Test - Loss: 0.12218527495861053. Accuracy: 95.45454545454545\n",
      "Train -  Loss: 0.1442069411277771. Accuracy: 95.07462686567165\n",
      "\n",
      "Iteration: 8000. \n",
      "Test - Loss: 0.11803310364484787. Accuracy: 95.75757575757575\n",
      "Train -  Loss: 0.14003922045230865. Accuracy: 95.3731343283582\n",
      "\n"
     ]
    },
    {
     "name": "stderr",
     "output_type": "stream",
     "text": [
      "Training Epochs:  45%|████▌     | 9063/20001 [00:03<00:03, 2802.90it/s]"
     ]
    },
    {
     "name": "stdout",
     "output_type": "stream",
     "text": [
      "Iteration: 8500. \n",
      "Test - Loss: 0.11424697935581207. Accuracy: 95.75757575757575\n",
      "Train -  Loss: 0.13628439605236053. Accuracy: 95.5223880597015\n",
      "\n",
      "Iteration: 9000. \n",
      "Test - Loss: 0.11079620569944382. Accuracy: 96.36363636363636\n",
      "Train -  Loss: 0.1328817456960678. Accuracy: 95.5223880597015\n",
      "\n"
     ]
    },
    {
     "name": "stderr",
     "output_type": "stream",
     "text": [
      "Training Epochs:  50%|█████     | 10040/20001 [00:03<00:03, 3048.01it/s]"
     ]
    },
    {
     "name": "stdout",
     "output_type": "stream",
     "text": [
      "Iteration: 9500. \n",
      "Test - Loss: 0.10764853656291962. Accuracy: 96.66666666666667\n",
      "Train -  Loss: 0.12978234887123108. Accuracy: 95.67164179104478\n",
      "\n",
      "Iteration: 10000. \n",
      "Test - Loss: 0.10477128624916077. Accuracy: 97.27272727272727\n",
      "Train -  Loss: 0.12694533169269562. Accuracy: 95.97014925373135\n",
      "\n"
     ]
    },
    {
     "name": "stderr",
     "output_type": "stream",
     "text": [
      "Training Epochs:  55%|█████▍    | 10997/20001 [00:03<00:02, 3022.87it/s]"
     ]
    },
    {
     "name": "stdout",
     "output_type": "stream",
     "text": [
      "Iteration: 10500. \n",
      "Test - Loss: 0.1021331176161766. Accuracy: 97.27272727272727\n",
      "Train -  Loss: 0.12433630228042603. Accuracy: 95.97014925373135\n",
      "\n",
      "Iteration: 11000. \n",
      "Test - Loss: 0.09970541298389435. Accuracy: 97.27272727272727\n",
      "Train -  Loss: 0.12192632257938385. Accuracy: 96.11940298507463\n",
      "\n"
     ]
    },
    {
     "name": "stderr",
     "output_type": "stream",
     "text": [
      "Training Epochs:  60%|█████▉    | 11933/20001 [00:04<00:02, 3018.19it/s]"
     ]
    },
    {
     "name": "stdout",
     "output_type": "stream",
     "text": [
      "Iteration: 11500. \n",
      "Test - Loss: 0.09746253490447998. Accuracy: 97.57575757575758\n",
      "Train -  Loss: 0.11969102174043655. Accuracy: 96.26865671641791\n",
      "\n",
      "Iteration: 12000. \n",
      "Test - Loss: 0.09538229554891586. Accuracy: 97.57575757575758\n",
      "Train -  Loss: 0.1176098957657814. Accuracy: 96.26865671641791\n",
      "\n"
     ]
    },
    {
     "name": "stderr",
     "output_type": "stream",
     "text": [
      "Training Epochs:  64%|██████▍   | 12857/20001 [00:04<00:02, 2868.87it/s]"
     ]
    },
    {
     "name": "stdout",
     "output_type": "stream",
     "text": [
      "Iteration: 12500. \n",
      "Test - Loss: 0.09344543516635895. Accuracy: 97.57575757575758\n",
      "Train -  Loss: 0.11566556245088577. Accuracy: 96.26865671641791\n",
      "\n",
      "Iteration: 13000. \n",
      "Test - Loss: 0.09163575619459152. Accuracy: 97.57575757575758\n",
      "Train -  Loss: 0.11384325474500656. Accuracy: 96.26865671641791\n",
      "\n"
     ]
    },
    {
     "name": "stderr",
     "output_type": "stream",
     "text": [
      "Training Epochs:  70%|██████▉   | 13908/20001 [00:04<00:01, 3313.37it/s]"
     ]
    },
    {
     "name": "stdout",
     "output_type": "stream",
     "text": [
      "Iteration: 13500. \n",
      "Test - Loss: 0.08993923664093018. Accuracy: 97.57575757575758\n",
      "Train -  Loss: 0.11213026940822601. Accuracy: 96.26865671641791\n",
      "\n",
      "Iteration: 14000. \n",
      "Test - Loss: 0.0883440226316452. Accuracy: 97.57575757575758\n",
      "Train -  Loss: 0.11051585525274277. Accuracy: 96.26865671641791\n",
      "\n"
     ]
    },
    {
     "name": "stderr",
     "output_type": "stream",
     "text": [
      "Training Epochs:  75%|███████▍  | 14977/20001 [00:05<00:01, 3405.94it/s]"
     ]
    },
    {
     "name": "stdout",
     "output_type": "stream",
     "text": [
      "Iteration: 14500. \n",
      "Test - Loss: 0.08684011548757553. Accuracy: 97.57575757575758\n",
      "Train -  Loss: 0.1089906170964241. Accuracy: 96.41791044776119\n",
      "\n",
      "Iteration: 15000. \n",
      "Test - Loss: 0.08541861921548843. Accuracy: 97.57575757575758\n",
      "Train -  Loss: 0.10754625499248505. Accuracy: 96.56716417910448\n",
      "\n"
     ]
    },
    {
     "name": "stderr",
     "output_type": "stream",
     "text": [
      "Training Epochs:  80%|████████  | 16030/20001 [00:05<00:01, 3203.29it/s]"
     ]
    },
    {
     "name": "stdout",
     "output_type": "stream",
     "text": [
      "Iteration: 15500. \n",
      "Test - Loss: 0.08407203108072281. Accuracy: 97.57575757575758\n",
      "Train -  Loss: 0.10617575794458389. Accuracy: 96.56716417910448\n",
      "\n",
      "Iteration: 16000. \n",
      "Test - Loss: 0.08279389142990112. Accuracy: 97.57575757575758\n",
      "Train -  Loss: 0.10487277060747147. Accuracy: 96.56716417910448\n",
      "\n"
     ]
    },
    {
     "name": "stderr",
     "output_type": "stream",
     "text": [
      "Training Epochs:  85%|████████▌ | 17022/20001 [00:05<00:00, 3064.52it/s]"
     ]
    },
    {
     "name": "stdout",
     "output_type": "stream",
     "text": [
      "Iteration: 16500. \n",
      "Test - Loss: 0.08157812803983688. Accuracy: 97.57575757575758\n",
      "Train -  Loss: 0.10363177210092545. Accuracy: 96.56716417910448\n",
      "\n",
      "Iteration: 17000. \n",
      "Test - Loss: 0.08042006194591522. Accuracy: 97.57575757575758\n",
      "Train -  Loss: 0.10244783014059067. Accuracy: 96.56716417910448\n",
      "\n"
     ]
    },
    {
     "name": "stderr",
     "output_type": "stream",
     "text": [
      "Training Epochs:  90%|████████▉ | 17924/20001 [00:06<00:00, 2726.84it/s]"
     ]
    },
    {
     "name": "stdout",
     "output_type": "stream",
     "text": [
      "Iteration: 17500. \n",
      "Test - Loss: 0.07931478321552277. Accuracy: 97.57575757575758\n",
      "Train -  Loss: 0.10131657123565674. Accuracy: 96.56716417910448\n",
      "\n",
      "Iteration: 18000. \n",
      "Test - Loss: 0.07825858145952225. Accuracy: 97.57575757575758\n",
      "Train -  Loss: 0.10023405402898788. Accuracy: 96.56716417910448\n",
      "\n"
     ]
    },
    {
     "name": "stderr",
     "output_type": "stream",
     "text": [
      "Training Epochs:  95%|█████████▍| 18928/20001 [00:06<00:00, 3069.87it/s]"
     ]
    },
    {
     "name": "stdout",
     "output_type": "stream",
     "text": [
      "Iteration: 18500. \n",
      "Test - Loss: 0.07724766433238983. Accuracy: 97.57575757575758\n",
      "Train -  Loss: 0.09919672459363937. Accuracy: 96.56716417910448\n",
      "\n",
      "Iteration: 19000. \n",
      "Test - Loss: 0.07627895474433899. Accuracy: 97.57575757575758\n",
      "Train -  Loss: 0.09820155799388885. Accuracy: 96.71641791044776\n",
      "\n"
     ]
    },
    {
     "name": "stderr",
     "output_type": "stream",
     "text": [
      "Training Epochs: 100%|██████████| 20001/20001 [00:06<00:00, 2931.50it/s]"
     ]
    },
    {
     "name": "stdout",
     "output_type": "stream",
     "text": [
      "Iteration: 19500. \n",
      "Test - Loss: 0.07534945011138916. Accuracy: 97.57575757575758\n",
      "Train -  Loss: 0.09724551439285278. Accuracy: 96.86567164179104\n",
      "\n",
      "Iteration: 20000. \n",
      "Test - Loss: 0.07445657253265381. Accuracy: 97.57575757575758\n",
      "Train -  Loss: 0.09632609039545059. Accuracy: 96.86567164179104\n",
      "\n"
     ]
    },
    {
     "name": "stderr",
     "output_type": "stream",
     "text": [
      "\n",
      "/home/jimmy/dlclass/SCNU_DL_Class_2024/hw03_logistic_mlp/get_circle_quarter.py:109: UserWarning: indexing with dtype torch.uint8 is now deprecated, please use a dtype torch.bool instead. (Triggered internally at /opt/conda/conda-bld/pytorch_1724789122112/work/aten/src/ATen/native/IndexingUtils.h:27.)\n",
      "  ax2.scatter(X_test[error_1, 0], X_test[error_1, 1], c='r')\n",
      "/home/jimmy/dlclass/SCNU_DL_Class_2024/hw03_logistic_mlp/get_circle_quarter.py:110: UserWarning: indexing with dtype torch.uint8 is now deprecated, please use a dtype torch.bool instead. (Triggered internally at /opt/conda/conda-bld/pytorch_1724789122112/work/aten/src/ATen/native/IndexingUtils.h:27.)\n",
      "  ax2.scatter(X_test[error_2, 0], X_test[error_2, 1], c='orange')\n"
     ]
    },
    {
     "data": {
      "image/png": "[encoded data removed]",
      "text/plain": [
       "<Figure size 1000x500 with 2 Axes>"
      ]
     },
     "metadata": {},
     "output_type": "display_data"
    },
    {
     "name": "stdout",
     "output_type": "stream",
     "text": [
      "mlp_1.weight tensor([[ 1.7343,  1.3843],\n",
      "        [ 2.0465, -0.8707],\n",
      "        [-0.3042,  2.0637]])\n",
      "mlp_1.bias tensor([ 1.4083, -1.3422, -1.3488])\n",
      "mlp_2.weight tensor([[ 8.5943, -8.5017, -8.6821]])\n",
      "mlp_2.bias tensor([-12.3483])\n"
     ]
    }
   ],
   "source": [
    "import torch\n",
    "from sklearn.model_selection import train_test_split\n",
    "from get_circle_quarter import train\n",
    "from get_circle_quarter import get_circle, get_quarter\n",
    "\n",
    "\n",
    "class MLPModel(torch.nn.Module):\n",
    "    def __init__(self, input_dim, hidden_size, output_dim):\n",
    "        super(MLPModel, self).__init__()\n",
    "        # TODO: implement your 2-layer MLP here\n",
    "        self.mlp_1 = torch.nn.Linear(input_dim, hidden_size)    # 输入层\n",
    "        self.mlp_2 = torch.nn.Linear(hidden_size, output_dim)   # 输出层\n",
    "\n",
    "    def forward(self, x):\n",
    "        # TODO: Implement forward function here\n",
    "        inputs = torch.tanh(self.mlp_1(x))              # 在输入层使用 Tanh 激活函数\n",
    "        outputs = torch.sigmoid(self.mlp_2(inputs))     # 在输出层使用 Sigmoid 激活函数\n",
    "        return outputs\n",
    "\n",
    "\n",
    "if __name__ == '__main__':\n",
    "\n",
    "    ###############################\n",
    "    ####     DO NOT MODIFY    #####\n",
    "    ###############################\n",
    "    input_dim = 2  # Two inputs x1 and x2\n",
    "    output_dim = 1  # Two possible outputs\n",
    "\n",
    "    # TODO: change this to 0/1 to try two cases\n",
    "    use_circle_quarter = 0\n",
    "    # TODO: you may modify hidden_size and learning_rate\n",
    "    hidden_size = 3\n",
    "    lr = 0.1\n",
    "\n",
    "    ###############################\n",
    "    ####     DO NOT MODIFY    #####\n",
    "    ###############################\n",
    "    if use_circle_quarter == 0:\n",
    "        X, y = get_circle()\n",
    "    elif use_circle_quarter == 1:\n",
    "        X, y = get_quarter()\n",
    "    else:\n",
    "        assert 1 == 2, 'bad choice'\n",
    "    # Get data, don't modify\n",
    "    X_train, X_test, y_train, y_test = train_test_split(\n",
    "        X, y, test_size=0.33, random_state=42)\n",
    "\n",
    "    # TODO: implement the MLPModel\n",
    "    model = MLPModel(input_dim, hidden_size, output_dim)\n",
    "    train(X_train, X_test, y_train, y_test, learning_rate=lr, model=model)\n",
    "\n",
    "    for k, v in model.state_dict().items():\n",
    "        print(k, v)\n",
    "    \n"
   ]
  },
  {
   "cell_type": "code",
   "execution_count": 17,
   "metadata": {},
   "outputs": [],
   "source": [
    "X_test= torch.tensor(\n",
    "                    [[0.353553391,0.353553391],\n",
    "                    [0.530330086,0.530330086],\n",
    "                    [1.060660172,1.060660172],\n",
    "                    [1.414213562,1.414213562],\n",
    "                    [-0.353553391,0.353553391],\n",
    "                    [-0.530330086,0.530330086],\n",
    "                    [-1.060660172,1.060660172],\n",
    "                    [-1.414213562,1.414213562],\n",
    "                    [-0.353553391,-0.353553391],\n",
    "                    [-0.530330086,-0.530330086],\n",
    "                    [-1.060660172,-1.060660172],\n",
    "                    [-1.414213562,-1.414213562],\n",
    "                    [0.353553391,-0.353553391],\n",
    "                    [0.530330086,-0.530330086],\n",
    "                    [1.060660172,-1.060660172],\n",
    "                    [1.414213562,-1.414213562]])\n"
   ]
  },
  {
   "cell_type": "code",
   "execution_count": 4,
   "metadata": {},
   "outputs": [
    {
     "data": {
      "text/plain": [
       "tensor([[0.0032]], grad_fn=<SigmoidBackward0>)"
      ]
     },
     "execution_count": 4,
     "metadata": {},
     "output_type": "execute_result"
    }
   ],
   "source": [
    "model(torch.tensor([[1.0, 1.0]]))"
   ]
  },
  {
   "cell_type": "code",
   "execution_count": 18,
   "metadata": {},
   "outputs": [],
   "source": [
    "Y_test = model(X_test)"
   ]
  },
  {
   "cell_type": "code",
   "execution_count": 19,
   "metadata": {},
   "outputs": [],
   "source": [
    "import pandas as pd\n",
    "df = pd.DataFrame(Y_test.detach().numpy())"
   ]
  },
  {
   "cell_type": "code",
   "execution_count": 20,
   "metadata": {},
   "outputs": [
    {
     "data": {
      "text/html": [
       "<div>\n",
       "<style scoped>\n",
       "    .dataframe tbody tr th:only-of-type {\n",
       "        vertical-align: middle;\n",
       "    }\n",
       "\n",
       "    .dataframe tbody tr th {\n",
       "        vertical-align: top;\n",
       "    }\n",
       "\n",
       "    .dataframe thead th {\n",
       "        text-align: right;\n",
       "    }\n",
       "</style>\n",
       "<table border=\"1\" class=\"dataframe\">\n",
       "  <thead>\n",
       "    <tr style=\"text-align: right;\">\n",
       "      <th></th>\n",
       "      <th>0</th>\n",
       "      <th>1</th>\n",
       "      <th>2</th>\n",
       "      <th>3</th>\n",
       "      <th>4</th>\n",
       "      <th>5</th>\n",
       "      <th>6</th>\n",
       "      <th>7</th>\n",
       "      <th>8</th>\n",
       "      <th>9</th>\n",
       "      <th>10</th>\n",
       "      <th>11</th>\n",
       "      <th>12</th>\n",
       "      <th>13</th>\n",
       "      <th>14</th>\n",
       "      <th>15</th>\n",
       "    </tr>\n",
       "  </thead>\n",
       "  <tbody>\n",
       "    <tr>\n",
       "      <th>0</th>\n",
       "      <td>1</td>\n",
       "      <td>1</td>\n",
       "      <td>0</td>\n",
       "      <td>0</td>\n",
       "      <td>1</td>\n",
       "      <td>1</td>\n",
       "      <td>0</td>\n",
       "      <td>0</td>\n",
       "      <td>1</td>\n",
       "      <td>1</td>\n",
       "      <td>0</td>\n",
       "      <td>0</td>\n",
       "      <td>1</td>\n",
       "      <td>1</td>\n",
       "      <td>0</td>\n",
       "      <td>0</td>\n",
       "    </tr>\n",
       "  </tbody>\n",
       "</table>\n",
       "</div>"
      ],
      "text/plain": [
       "   0   1   2   3   4   5   6   7   8   9   10  11  12  13  14  15\n",
       "0   1   1   0   0   1   1   0   0   1   1   0   0   1   1   0   0"
      ]
     },
     "execution_count": 20,
     "metadata": {},
     "output_type": "execute_result"
    }
   ],
   "source": [
    "df.map(lambda x: 1 if x > 0.5 else 0).transpose()"
   ]
  },
  {
   "cell_type": "code",
   "execution_count": 21,
   "metadata": {},
   "outputs": [
    {
     "data": {
      "text/html": [
       "<div>\n",
       "<style scoped>\n",
       "    .dataframe tbody tr th:only-of-type {\n",
       "        vertical-align: middle;\n",
       "    }\n",
       "\n",
       "    .dataframe tbody tr th {\n",
       "        vertical-align: top;\n",
       "    }\n",
       "\n",
       "    .dataframe thead th {\n",
       "        text-align: right;\n",
       "    }\n",
       "</style>\n",
       "<table border=\"1\" class=\"dataframe\">\n",
       "  <thead>\n",
       "    <tr style=\"text-align: right;\">\n",
       "      <th></th>\n",
       "      <th>0</th>\n",
       "      <th>1</th>\n",
       "      <th>2</th>\n",
       "      <th>3</th>\n",
       "      <th>4</th>\n",
       "      <th>5</th>\n",
       "      <th>6</th>\n",
       "      <th>7</th>\n",
       "      <th>8</th>\n",
       "      <th>9</th>\n",
       "      <th>10</th>\n",
       "      <th>11</th>\n",
       "      <th>12</th>\n",
       "      <th>13</th>\n",
       "      <th>14</th>\n",
       "      <th>15</th>\n",
       "    </tr>\n",
       "  </thead>\n",
       "  <tbody>\n",
       "    <tr>\n",
       "      <th>0</th>\n",
       "      <td>0.999536</td>\n",
       "      <td>0.992137</td>\n",
       "      <td>0.000883</td>\n",
       "      <td>0.000002</td>\n",
       "      <td>0.999402</td>\n",
       "      <td>0.983773</td>\n",
       "      <td>0.013653</td>\n",
       "      <td>0.002583</td>\n",
       "      <td>0.998519</td>\n",
       "      <td>0.903461</td>\n",
       "      <td>0.02947</td>\n",
       "      <td>0.02291</td>\n",
       "      <td>0.998436</td>\n",
       "      <td>0.917995</td>\n",
       "      <td>0.027957</td>\n",
       "      <td>0.02041</td>\n",
       "    </tr>\n",
       "  </tbody>\n",
       "</table>\n",
       "</div>"
      ],
      "text/plain": [
       "         0         1         2         3         4         5         6   \\\n",
       "0  0.999536  0.992137  0.000883  0.000002  0.999402  0.983773  0.013653   \n",
       "\n",
       "         7         8         9        10       11        12        13  \\\n",
       "0  0.002583  0.998519  0.903461  0.02947  0.02291  0.998436  0.917995   \n",
       "\n",
       "         14       15  \n",
       "0  0.027957  0.02041  "
      ]
     },
     "execution_count": 21,
     "metadata": {},
     "output_type": "execute_result"
    }
   ],
   "source": [
    "df.transpose()"
   ]
  }
 ],
 "metadata": {
  "kernelspec": {
   "display_name": "dlclass",
   "language": "python",
   "name": "python3"
  },
  "language_info": {
   "codemirror_mode": {
    "name": "ipython",
    "version": 3
   },
   "file_extension": ".py",
   "mimetype": "text/x-python",
   "name": "python",
   "nbconvert_exporter": "python",
   "pygments_lexer": "ipython3",
   "version": "3.10.14"
  }
 },
 "nbformat": 4,
 "nbformat_minor": 2
}
