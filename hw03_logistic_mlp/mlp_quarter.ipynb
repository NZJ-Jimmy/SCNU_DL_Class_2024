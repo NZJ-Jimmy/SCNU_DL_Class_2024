{
 "cells": [
  {
   "cell_type": "code",
   "execution_count": 11,
   "metadata": {},
   "outputs": [
    {
     "name": "stderr",
     "output_type": "stream",
     "text": [
      "Training Epochs:   5%|▌         | 1002/20001 [00:00<00:05, 3407.79it/s]"
     ]
    },
    {
     "name": "stdout",
     "output_type": "stream",
     "text": [
      "Iteration: 500. \n",
      "Test - Loss: 0.27496278285980225. Accuracy: 90.0\n",
      "Train -  Loss: 0.2639124095439911. Accuracy: 90.59701492537313\n",
      "\n",
      "Iteration: 1000. \n",
      "Test - Loss: 0.25444966554641724. Accuracy: 90.0\n",
      "Train -  Loss: 0.24565783143043518. Accuracy: 90.59701492537313\n",
      "\n"
     ]
    },
    {
     "name": "stderr",
     "output_type": "stream",
     "text": [
      "Training Epochs:  11%|█         | 2244/20001 [00:00<00:04, 4012.05it/s]"
     ]
    },
    {
     "name": "stdout",
     "output_type": "stream",
     "text": [
      "Iteration: 1500. \n",
      "Test - Loss: 0.24594518542289734. Accuracy: 90.0\n",
      "Train -  Loss: 0.23818518221378326. Accuracy: 90.59701492537313\n",
      "\n",
      "Iteration: 2000. \n",
      "Test - Loss: 0.24082717299461365. Accuracy: 90.0\n",
      "Train -  Loss: 0.23369181156158447. Accuracy: 90.59701492537313\n",
      "\n"
     ]
    },
    {
     "name": "stderr",
     "output_type": "stream",
     "text": [
      "Training Epochs:  15%|█▌        | 3023/20001 [00:00<00:04, 3557.21it/s]"
     ]
    },
    {
     "name": "stdout",
     "output_type": "stream",
     "text": [
      "Iteration: 2500. \n",
      "Test - Loss: 0.23660296201705933. Accuracy: 90.0\n",
      "Train -  Loss: 0.22999998927116394. Accuracy: 90.59701492537313\n",
      "\n",
      "Iteration: 3000. \n",
      "Test - Loss: 0.23213574290275574. Accuracy: 90.0\n",
      "Train -  Loss: 0.22614939510822296. Accuracy: 90.59701492537313\n",
      "\n"
     ]
    },
    {
     "name": "stderr",
     "output_type": "stream",
     "text": [
      "Training Epochs:  20%|██        | 4088/20001 [00:01<00:04, 3458.49it/s]"
     ]
    },
    {
     "name": "stdout",
     "output_type": "stream",
     "text": [
      "Iteration: 3500. \n",
      "Test - Loss: 0.22713454067707062. Accuracy: 90.0\n",
      "Train -  Loss: 0.22190938889980316. Accuracy: 90.59701492537313\n",
      "\n",
      "Iteration: 4000. \n",
      "Test - Loss: 0.2221498042345047. Accuracy: 90.0\n",
      "Train -  Loss: 0.21771222352981567. Accuracy: 90.59701492537313\n",
      "\n"
     ]
    },
    {
     "name": "stderr",
     "output_type": "stream",
     "text": [
      "Training Epochs:  24%|██▍       | 4805/20001 [00:01<00:04, 3360.63it/s]"
     ]
    },
    {
     "name": "stdout",
     "output_type": "stream",
     "text": [
      "Iteration: 4500. \n",
      "Test - Loss: 0.21742339432239532. Accuracy: 90.0\n",
      "Train -  Loss: 0.21370230615139008. Accuracy: 90.59701492537313\n",
      "\n",
      "Iteration: 5000. \n",
      "Test - Loss: 0.21222174167633057. Accuracy: 90.0\n",
      "Train -  Loss: 0.2092289924621582. Accuracy: 90.59701492537313\n",
      "\n"
     ]
    },
    {
     "name": "stderr",
     "output_type": "stream",
     "text": [
      "Training Epochs:  29%|██▉       | 5827/20001 [00:01<00:04, 3161.66it/s]"
     ]
    },
    {
     "name": "stdout",
     "output_type": "stream",
     "text": [
      "Iteration: 5500. \n",
      "Test - Loss: 0.2063022255897522. Accuracy: 90.0\n",
      "Train -  Loss: 0.20418289303779602. Accuracy: 90.59701492537313\n",
      "\n",
      "Iteration: 6000. \n",
      "Test - Loss: 0.20113715529441833. Accuracy: 90.0\n",
      "Train -  Loss: 0.199906125664711. Accuracy: 90.59701492537313\n",
      "\n"
     ]
    },
    {
     "name": "stderr",
     "output_type": "stream",
     "text": [
      "Training Epochs:  35%|███▍      | 6944/20001 [00:02<00:03, 3355.35it/s]"
     ]
    },
    {
     "name": "stdout",
     "output_type": "stream",
     "text": [
      "Iteration: 6500. \n",
      "Test - Loss: 0.197318896651268. Accuracy: 90.0\n",
      "Train -  Loss: 0.19681735336780548. Accuracy: 90.59701492537313\n",
      "\n",
      "Iteration: 7000. \n",
      "Test - Loss: 0.19426487386226654. Accuracy: 90.0\n",
      "Train -  Loss: 0.19445063173770905. Accuracy: 90.59701492537313\n",
      "\n"
     ]
    },
    {
     "name": "stderr",
     "output_type": "stream",
     "text": [
      "Training Epochs:  40%|████      | 8023/20001 [00:02<00:03, 3268.94it/s]"
     ]
    },
    {
     "name": "stdout",
     "output_type": "stream",
     "text": [
      "Iteration: 7500. \n",
      "Test - Loss: 0.1912398636341095. Accuracy: 89.6969696969697\n",
      "Train -  Loss: 0.19245415925979614. Accuracy: 90.44776119402985\n",
      "\n",
      "Iteration: 8000. \n",
      "Test - Loss: 0.18849346041679382. Accuracy: 89.39393939393939\n",
      "Train -  Loss: 0.19089964032173157. Accuracy: 89.55223880597015\n",
      "\n"
     ]
    },
    {
     "name": "stderr",
     "output_type": "stream",
     "text": [
      "Training Epochs:  46%|████▌     | 9175/20001 [00:02<00:02, 3682.80it/s]"
     ]
    },
    {
     "name": "stdout",
     "output_type": "stream",
     "text": [
      "Iteration: 8500. \n",
      "Test - Loss: 0.18652068078517914. Accuracy: 89.0909090909091\n",
      "Train -  Loss: 0.1897081583738327. Accuracy: 89.25373134328358\n",
      "\n",
      "Iteration: 9000. \n",
      "Test - Loss: 0.18509942293167114. Accuracy: 89.39393939393939\n",
      "Train -  Loss: 0.18870188295841217. Accuracy: 88.95522388059702\n",
      "\n"
     ]
    },
    {
     "name": "stderr",
     "output_type": "stream",
     "text": [
      "Training Epochs:  50%|████▉     | 9913/20001 [00:02<00:02, 3489.64it/s]"
     ]
    },
    {
     "name": "stdout",
     "output_type": "stream",
     "text": [
      "Iteration: 9500. \n",
      "Test - Loss: 0.183938667178154. Accuracy: 89.39393939393939\n",
      "Train -  Loss: 0.1877908706665039. Accuracy: 89.1044776119403\n",
      "\n",
      "Iteration: 10000. \n",
      "Test - Loss: 0.18284325301647186. Accuracy: 88.78787878787878\n",
      "Train -  Loss: 0.18691053986549377. Accuracy: 89.1044776119403\n",
      "\n"
     ]
    },
    {
     "name": "stderr",
     "output_type": "stream",
     "text": [
      "Training Epochs:  55%|█████▌    | 11072/20001 [00:03<00:02, 3512.13it/s]"
     ]
    },
    {
     "name": "stdout",
     "output_type": "stream",
     "text": [
      "Iteration: 10500. \n",
      "Test - Loss: 0.18162088096141815. Accuracy: 89.0909090909091\n",
      "Train -  Loss: 0.18595458567142487. Accuracy: 89.1044776119403\n",
      "\n",
      "Iteration: 11000. \n",
      "Test - Loss: 0.17986267805099487. Accuracy: 89.39393939393939\n",
      "Train -  Loss: 0.18460291624069214. Accuracy: 90.29850746268657\n",
      "\n"
     ]
    },
    {
     "name": "stderr",
     "output_type": "stream",
     "text": [
      "Training Epochs:  61%|██████    | 12222/20001 [00:03<00:02, 3747.65it/s]"
     ]
    },
    {
     "name": "stdout",
     "output_type": "stream",
     "text": [
      "Iteration: 11500. \n",
      "Test - Loss: 0.17595581710338593. Accuracy: 90.0\n",
      "Train -  Loss: 0.18143083155155182. Accuracy: 90.59701492537313\n",
      "\n",
      "Iteration: 12000. \n",
      "Test - Loss: 0.1655602902173996. Accuracy: 90.3030303030303\n",
      "Train -  Loss: 0.17242099344730377. Accuracy: 91.7910447761194\n",
      "\n"
     ]
    },
    {
     "name": "stderr",
     "output_type": "stream",
     "text": [
      "Training Epochs:  65%|██████▌   | 13022/20001 [00:03<00:01, 3873.48it/s]"
     ]
    },
    {
     "name": "stdout",
     "output_type": "stream",
     "text": [
      "Iteration: 12500. \n",
      "Test - Loss: 0.15170831978321075. Accuracy: 92.72727272727273\n",
      "Train -  Loss: 0.15993420779705048. Accuracy: 93.43283582089552\n",
      "\n",
      "Iteration: 13000. \n",
      "Test - Loss: 0.1363355666399002. Accuracy: 95.75757575757575\n",
      "Train -  Loss: 0.14466218650341034. Accuracy: 95.07462686567165\n",
      "\n"
     ]
    },
    {
     "name": "stderr",
     "output_type": "stream",
     "text": [
      "Training Epochs:  71%|███████   | 14220/20001 [00:04<00:01, 3863.12it/s]"
     ]
    },
    {
     "name": "stdout",
     "output_type": "stream",
     "text": [
      "Iteration: 13500. \n",
      "Test - Loss: 0.11183059960603714. Accuracy: 97.27272727272727\n",
      "Train -  Loss: 0.1171705350279808. Accuracy: 96.71641791044776\n",
      "\n",
      "Iteration: 14000. \n",
      "Test - Loss: 0.09504219144582748. Accuracy: 97.87878787878788\n",
      "Train -  Loss: 0.09488656371831894. Accuracy: 97.31343283582089\n",
      "\n"
     ]
    },
    {
     "name": "stderr",
     "output_type": "stream",
     "text": [
      "Training Epochs:  75%|███████▌  | 15002/20001 [00:04<00:01, 3743.11it/s]"
     ]
    },
    {
     "name": "stdout",
     "output_type": "stream",
     "text": [
      "Iteration: 14500. \n",
      "Test - Loss: 0.08812212198972702. Accuracy: 97.57575757575758\n",
      "Train -  Loss: 0.08459877222776413. Accuracy: 97.76119402985074\n",
      "\n",
      "Iteration: 15000. \n",
      "Test - Loss: 0.08376553654670715. Accuracy: 97.57575757575758\n",
      "Train -  Loss: 0.07853329926729202. Accuracy: 97.76119402985074\n",
      "\n"
     ]
    },
    {
     "name": "stderr",
     "output_type": "stream",
     "text": [
      "Training Epochs:  80%|████████  | 16100/20001 [00:04<00:01, 3548.81it/s]"
     ]
    },
    {
     "name": "stdout",
     "output_type": "stream",
     "text": [
      "Iteration: 15500. \n",
      "Test - Loss: 0.0803632140159607. Accuracy: 97.57575757575758\n",
      "Train -  Loss: 0.07420597225427628. Accuracy: 97.76119402985074\n",
      "\n",
      "Iteration: 16000. \n",
      "Test - Loss: 0.07755683362483978. Accuracy: 97.57575757575758\n",
      "Train -  Loss: 0.07079813629388809. Accuracy: 97.76119402985074\n",
      "\n"
     ]
    },
    {
     "name": "stderr",
     "output_type": "stream",
     "text": [
      "Training Epochs:  84%|████████▍ | 16845/20001 [00:04<00:00, 3293.30it/s]"
     ]
    },
    {
     "name": "stdout",
     "output_type": "stream",
     "text": [
      "Iteration: 16500. \n",
      "Test - Loss: 0.0751948431134224. Accuracy: 97.57575757575758\n",
      "Train -  Loss: 0.06794239580631256. Accuracy: 97.76119402985074\n",
      "\n",
      "Iteration: 17000. \n",
      "Test - Loss: 0.07316373288631439. Accuracy: 97.57575757575758\n",
      "Train -  Loss: 0.06543254852294922. Accuracy: 98.05970149253731\n",
      "\n"
     ]
    },
    {
     "name": "stderr",
     "output_type": "stream",
     "text": [
      "Training Epochs:  89%|████████▉ | 17880/20001 [00:05<00:00, 3393.80it/s]"
     ]
    },
    {
     "name": "stdout",
     "output_type": "stream",
     "text": [
      "Iteration: 17500. \n",
      "Test - Loss: 0.07137353718280792. Accuracy: 97.57575757575758\n",
      "Train -  Loss: 0.06314335018396378. Accuracy: 98.05970149253731\n",
      "\n",
      "Iteration: 18000. \n",
      "Test - Loss: 0.06975259631872177. Accuracy: 97.57575757575758\n",
      "Train -  Loss: 0.0609995536506176. Accuracy: 98.05970149253731\n",
      "\n"
     ]
    },
    {
     "name": "stderr",
     "output_type": "stream",
     "text": [
      "Training Epochs:  94%|█████████▍| 18891/20001 [00:05<00:00, 3197.69it/s]"
     ]
    },
    {
     "name": "stdout",
     "output_type": "stream",
     "text": [
      "Iteration: 18500. \n",
      "Test - Loss: 0.06823426485061646. Accuracy: 97.57575757575758\n",
      "Train -  Loss: 0.05895501747727394. Accuracy: 98.05970149253731\n",
      "\n",
      "Iteration: 19000. \n",
      "Test - Loss: 0.06675232946872711. Accuracy: 97.57575757575758\n",
      "Train -  Loss: 0.05698104575276375. Accuracy: 98.05970149253731\n",
      "\n"
     ]
    },
    {
     "name": "stderr",
     "output_type": "stream",
     "text": [
      "Training Epochs: 100%|██████████| 20001/20001 [00:05<00:00, 3477.45it/s]"
     ]
    },
    {
     "name": "stdout",
     "output_type": "stream",
     "text": [
      "Iteration: 19500. \n",
      "Test - Loss: 0.06526104360818863. Accuracy: 97.57575757575758\n",
      "Train -  Loss: 0.055062711238861084. Accuracy: 98.2089552238806\n",
      "\n",
      "Iteration: 20000. \n",
      "Test - Loss: 0.0637502521276474. Accuracy: 97.57575757575758\n",
      "Train -  Loss: 0.053194597363471985. Accuracy: 98.50746268656717\n",
      "\n"
     ]
    },
    {
     "name": "stderr",
     "output_type": "stream",
     "text": [
      "\n"
     ]
    },
    {
     "data": {
      "image/png": "[encoded data removed]",
      "text/plain": [
       "<Figure size 1000x500 with 2 Axes>"
      ]
     },
     "metadata": {},
     "output_type": "display_data"
    },
    {
     "name": "stdout",
     "output_type": "stream",
     "text": [
      "mlp_1.weight tensor([[ 2.5626, -2.3973],\n",
      "        [ 3.5368,  1.0398],\n",
      "        [ 1.2955,  4.2688]])\n",
      "mlp_1.bias tensor([ 1.4080, -3.4126, -0.6744])\n",
      "mlp_2.weight tensor([[ 5.0100, -4.7079,  5.3266]])\n",
      "mlp_2.bias tensor([-9.3299])\n"
     ]
    }
   ],
   "source": [
    "import torch\n",
    "from sklearn.model_selection import train_test_split\n",
    "from get_circle_quarter import train\n",
    "from get_circle_quarter import get_circle, get_quarter\n",
    "\n",
    "\n",
    "class MLPModel(torch.nn.Module):\n",
    "    def __init__(self, input_dim, hidden_size, output_dim):\n",
    "        super(MLPModel, self).__init__()\n",
    "        # TODO: implement your 2-layer MLP here\n",
    "        self.mlp_1 = torch.nn.Linear(input_dim, hidden_size)    # 输入层\n",
    "        self.mlp_2 = torch.nn.Linear(hidden_size, output_dim)   # 输出层\n",
    "\n",
    "    def forward(self, x):\n",
    "        # TODO: Implement forward function here\n",
    "        inputs = torch.tanh(self.mlp_1(x))              # 在输入层使用 Tanh 激活函数\n",
    "        outputs = torch.sigmoid(self.mlp_2(inputs))     # 在输出层使用 Sigmoid 激活函数\n",
    "        return outputs\n",
    "\n",
    "\n",
    "if __name__ == '__main__':\n",
    "\n",
    "    ###############################\n",
    "    ####     DO NOT MODIFY    #####\n",
    "    ###############################\n",
    "    input_dim = 2  # Two inputs x1 and x2\n",
    "    output_dim = 1  # Two possible outputs\n",
    "\n",
    "    # TODO: change this to 0/1 to try two cases\n",
    "    use_circle_quarter = 1\n",
    "    # TODO: you may modify hidden_size and learning_rate\n",
    "    hidden_size = 3\n",
    "    lr = 0.1\n",
    "\n",
    "    ###############################\n",
    "    ####     DO NOT MODIFY    #####\n",
    "    ###############################\n",
    "    if use_circle_quarter == 0:\n",
    "        X, y = get_circle()\n",
    "    elif use_circle_quarter == 1:\n",
    "        X, y = get_quarter()\n",
    "    else:\n",
    "        assert 1 == 2, 'bad choice'\n",
    "    # Get data, don't modify\n",
    "    X_train, X_test, y_train, y_test = train_test_split(\n",
    "        X, y, test_size=0.33, random_state=42)\n",
    "\n",
    "    # TODO: implement the MLPModel\n",
    "    model = MLPModel(input_dim, hidden_size, output_dim)\n",
    "    train(X_train, X_test, y_train, y_test, learning_rate=lr, model=model)\n",
    "\n",
    "    for k, v in model.state_dict().items():\n",
    "        print(k, v)\n",
    "    \n"
   ]
  },
  {
   "cell_type": "code",
   "execution_count": 18,
   "metadata": {},
   "outputs": [],
   "source": [
    "new_state = {'mlp_1.weight':torch.tensor([[ 3.5148,  0.4102],\n",
    "        [-1.9918,  2.5745],\n",
    "        [ 1.6951,  3.8698]]),\n",
    "'mlp_1.bias':torch.tensor([-3.0560, -1.5721, -0.7846]),\n",
    "'mlp_2.weight':torch.tensor([[-4.6554, -5.0417,  5.3890]]),\n",
    "'mlp_2.bias':torch.tensor([-9.1212])}"
   ]
  },
  {
   "cell_type": "code",
   "execution_count": 21,
   "metadata": {},
   "outputs": [
    {
     "data": {
      "text/plain": [
       "<All keys matched successfully>"
      ]
     },
     "execution_count": 21,
     "metadata": {},
     "output_type": "execute_result"
    }
   ],
   "source": [
    "model.load_state_dict(new_state)"
   ]
  },
  {
   "cell_type": "code",
   "execution_count": 22,
   "metadata": {},
   "outputs": [
    {
     "name": "stdout",
     "output_type": "stream",
     "text": [
      "mlp_1.weight tensor([[ 3.5148,  0.4102],\n",
      "        [-1.9918,  2.5745],\n",
      "        [ 1.6951,  3.8698]])\n",
      "mlp_1.bias tensor([-3.0560, -1.5721, -0.7846])\n",
      "mlp_2.weight tensor([[-4.6554, -5.0417,  5.3890]])\n",
      "mlp_2.bias tensor([-9.1212])\n"
     ]
    }
   ],
   "source": [
    "for k, v in model.state_dict().items():\n",
    "    print(k, v)"
   ]
  },
  {
   "cell_type": "code",
   "execution_count": 23,
   "metadata": {},
   "outputs": [],
   "source": [
    "X_test= torch.tensor(\n",
    "                    [[0.353553391,0.353553391],\n",
    "                    [0.530330086,0.530330086],\n",
    "                    [1.060660172,1.060660172],\n",
    "                    [1.414213562,1.414213562],\n",
    "])"
   ]
  },
  {
   "cell_type": "code",
   "execution_count": 24,
   "metadata": {},
   "outputs": [],
   "source": [
    "Y_test = model(X_test)"
   ]
  },
  {
   "cell_type": "code",
   "execution_count": 25,
   "metadata": {},
   "outputs": [],
   "source": [
    "import pandas as pd\n",
    "df = pd.DataFrame(Y_test.detach().numpy())"
   ]
  },
  {
   "cell_type": "code",
   "execution_count": 26,
   "metadata": {},
   "outputs": [
    {
     "data": {
      "text/html": [
       "<div>\n",
       "<style scoped>\n",
       "    .dataframe tbody tr th:only-of-type {\n",
       "        vertical-align: middle;\n",
       "    }\n",
       "\n",
       "    .dataframe tbody tr th {\n",
       "        vertical-align: top;\n",
       "    }\n",
       "\n",
       "    .dataframe thead th {\n",
       "        text-align: right;\n",
       "    }\n",
       "</style>\n",
       "<table border=\"1\" class=\"dataframe\">\n",
       "  <thead>\n",
       "    <tr style=\"text-align: right;\">\n",
       "      <th></th>\n",
       "      <th>0</th>\n",
       "      <th>1</th>\n",
       "      <th>2</th>\n",
       "      <th>3</th>\n",
       "    </tr>\n",
       "  </thead>\n",
       "  <tbody>\n",
       "    <tr>\n",
       "      <th>0</th>\n",
       "      <td>1</td>\n",
       "      <td>1</td>\n",
       "      <td>0</td>\n",
       "      <td>0</td>\n",
       "    </tr>\n",
       "  </tbody>\n",
       "</table>\n",
       "</div>"
      ],
      "text/plain": [
       "   0  1  2  3\n",
       "0  1  1  0  0"
      ]
     },
     "execution_count": 26,
     "metadata": {},
     "output_type": "execute_result"
    }
   ],
   "source": [
    "df.map(lambda x: 1 if x > 0.5 else 0).transpose()"
   ]
  },
  {
   "cell_type": "code",
   "execution_count": 27,
   "metadata": {},
   "outputs": [
    {
     "data": {
      "text/html": [
       "<div>\n",
       "<style scoped>\n",
       "    .dataframe tbody tr th:only-of-type {\n",
       "        vertical-align: middle;\n",
       "    }\n",
       "\n",
       "    .dataframe tbody tr th {\n",
       "        vertical-align: top;\n",
       "    }\n",
       "\n",
       "    .dataframe thead th {\n",
       "        text-align: right;\n",
       "    }\n",
       "</style>\n",
       "<table border=\"1\" class=\"dataframe\">\n",
       "  <thead>\n",
       "    <tr style=\"text-align: right;\">\n",
       "      <th></th>\n",
       "      <th>0</th>\n",
       "      <th>1</th>\n",
       "      <th>2</th>\n",
       "      <th>3</th>\n",
       "    </tr>\n",
       "  </thead>\n",
       "  <tbody>\n",
       "    <tr>\n",
       "      <th>0</th>\n",
       "      <td>0.983763</td>\n",
       "      <td>0.980504</td>\n",
       "      <td>0.023384</td>\n",
       "      <td>0.005892</td>\n",
       "    </tr>\n",
       "  </tbody>\n",
       "</table>\n",
       "</div>"
      ],
      "text/plain": [
       "          0         1         2         3\n",
       "0  0.983763  0.980504  0.023384  0.005892"
      ]
     },
     "execution_count": 27,
     "metadata": {},
     "output_type": "execute_result"
    }
   ],
   "source": [
    "df.transpose()"
   ]
  },
  {
   "cell_type": "code",
   "execution_count": 5,
   "metadata": {},
   "outputs": [
    {
     "name": "stderr",
     "output_type": "stream",
     "text": [
      "Training Epochs:   5%|▌         | 1013/20001 [00:00<00:06, 3070.27it/s]"
     ]
    },
    {
     "name": "stdout",
     "output_type": "stream",
     "text": [
      "Iteration: 500. \n",
      "Test - Loss: 0.31307271122932434. Accuracy: 90.0\n",
      "Train -  Loss: 0.29951778054237366. Accuracy: 90.59701492537313\n",
      "\n",
      "Iteration: 1000. \n",
      "Test - Loss: 0.28962355852127075. Accuracy: 90.0\n",
      "Train -  Loss: 0.27841463685035706. Accuracy: 90.59701492537313\n",
      "\n"
     ]
    },
    {
     "name": "stderr",
     "output_type": "stream",
     "text": [
      "Training Epochs:  12%|█▏        | 2358/20001 [00:00<00:04, 4095.32it/s]"
     ]
    },
    {
     "name": "stdout",
     "output_type": "stream",
     "text": [
      "Iteration: 1500. \n",
      "Test - Loss: 0.26124998927116394. Accuracy: 90.0\n",
      "Train -  Loss: 0.2518116533756256. Accuracy: 90.59701492537313\n",
      "\n",
      "Iteration: 2000. \n",
      "Test - Loss: 0.2520323693752289. Accuracy: 90.0\n",
      "Train -  Loss: 0.24364979565143585. Accuracy: 90.59701492537313\n",
      "\n"
     ]
    },
    {
     "name": "stderr",
     "output_type": "stream",
     "text": [
      "Training Epochs:  16%|█▋        | 3293/20001 [00:00<00:03, 4414.85it/s]"
     ]
    },
    {
     "name": "stdout",
     "output_type": "stream",
     "text": [
      "Iteration: 2500. \n",
      "Test - Loss: 0.24749226868152618. Accuracy: 90.0\n",
      "Train -  Loss: 0.2396751344203949. Accuracy: 90.59701492537313\n",
      "\n",
      "Iteration: 3000. \n",
      "Test - Loss: 0.244803786277771. Accuracy: 90.0\n",
      "Train -  Loss: 0.23730838298797607. Accuracy: 90.59701492537313\n",
      "\n"
     ]
    },
    {
     "name": "stderr",
     "output_type": "stream",
     "text": [
      "Training Epochs:  22%|██▏       | 4322/20001 [00:01<00:03, 4816.47it/s]"
     ]
    },
    {
     "name": "stdout",
     "output_type": "stream",
     "text": [
      "Iteration: 3500. \n",
      "Test - Loss: 0.24302887916564941. Accuracy: 90.0\n",
      "Train -  Loss: 0.23572929203510284. Accuracy: 90.59701492537313\n",
      "\n",
      "Iteration: 4000. \n",
      "Test - Loss: 0.24177047610282898. Accuracy: 90.0\n",
      "Train -  Loss: 0.23459547758102417. Accuracy: 90.59701492537313\n",
      "\n",
      "Iteration: 4500. \n",
      "Test - Loss: 0.24083243310451508. Accuracy: 90.0\n",
      "Train -  Loss: 0.23373855650424957. Accuracy: 90.59701492537313\n",
      "\n"
     ]
    },
    {
     "name": "stderr",
     "output_type": "stream",
     "text": [
      "Training Epochs:  29%|██▉       | 5758/20001 [00:01<00:03, 4701.14it/s]"
     ]
    },
    {
     "name": "stdout",
     "output_type": "stream",
     "text": [
      "Iteration: 5000. \n",
      "Test - Loss: 0.2401067167520523. Accuracy: 90.0\n",
      "Train -  Loss: 0.2330659031867981. Accuracy: 90.59701492537313\n",
      "\n",
      "Iteration: 5500. \n",
      "Test - Loss: 0.23952898383140564. Accuracy: 90.0\n",
      "Train -  Loss: 0.23252235352993011. Accuracy: 90.59701492537313\n",
      "\n"
     ]
    },
    {
     "name": "stderr",
     "output_type": "stream",
     "text": [
      "Training Epochs:  34%|███▍      | 6766/20001 [00:01<00:02, 4860.66it/s]"
     ]
    },
    {
     "name": "stdout",
     "output_type": "stream",
     "text": [
      "Iteration: 6000. \n",
      "Test - Loss: 0.23905861377716064. Accuracy: 90.0\n",
      "Train -  Loss: 0.23207302391529083. Accuracy: 90.59701492537313\n",
      "\n",
      "Iteration: 6500. \n",
      "Test - Loss: 0.23866845667362213. Accuracy: 90.0\n",
      "Train -  Loss: 0.2316945344209671. Accuracy: 90.59701492537313\n",
      "\n",
      "Iteration: 7000. \n",
      "Test - Loss: 0.23833993077278137. Accuracy: 90.0\n",
      "Train -  Loss: 0.23137079179286957. Accuracy: 90.59701492537313\n",
      "\n"
     ]
    },
    {
     "name": "stderr",
     "output_type": "stream",
     "text": [
      "Training Epochs:  41%|████▏     | 8278/20001 [00:01<00:02, 4942.31it/s]"
     ]
    },
    {
     "name": "stdout",
     "output_type": "stream",
     "text": [
      "Iteration: 7500. \n",
      "Test - Loss: 0.23805971443653107. Accuracy: 90.0\n",
      "Train -  Loss: 0.23109027743339539. Accuracy: 90.59701492537313\n",
      "\n",
      "Iteration: 8000. \n",
      "Test - Loss: 0.23781809210777283. Accuracy: 90.0\n",
      "Train -  Loss: 0.23084457218647003. Accuracy: 90.59701492537313\n",
      "\n",
      "Iteration: 8500. \n",
      "Test - Loss: 0.23760777711868286. Accuracy: 90.0\n",
      "Train -  Loss: 0.23062723875045776. Accuracy: 90.59701492537313\n",
      "\n"
     ]
    },
    {
     "name": "stderr",
     "output_type": "stream",
     "text": [
      "Training Epochs:  46%|████▋     | 9268/20001 [00:02<00:02, 4875.00it/s]"
     ]
    },
    {
     "name": "stdout",
     "output_type": "stream",
     "text": [
      "Iteration: 9000. \n",
      "Test - Loss: 0.23742319643497467. Accuracy: 90.0\n",
      "Train -  Loss: 0.23043347895145416. Accuracy: 90.59701492537313\n",
      "\n"
     ]
    },
    {
     "name": "stderr",
     "output_type": "stream",
     "text": [
      "Training Epochs:  49%|████▉     | 9756/20001 [00:02<00:02, 3552.98it/s]"
     ]
    },
    {
     "name": "stdout",
     "output_type": "stream",
     "text": [
      "Iteration: 9500. \n",
      "Test - Loss: 0.23726001381874084. Accuracy: 90.0\n",
      "Train -  Loss: 0.23025940358638763. Accuracy: 90.59701492537313\n",
      "\n",
      "Iteration: 10000. \n",
      "Test - Loss: 0.23711486160755157. Accuracy: 90.0\n",
      "Train -  Loss: 0.2301020622253418. Accuracy: 90.59701492537313\n",
      "\n"
     ]
    },
    {
     "name": "stderr",
     "output_type": "stream",
     "text": [
      "Training Epochs:  55%|█████▌    | 11030/20001 [00:02<00:02, 3207.95it/s]"
     ]
    },
    {
     "name": "stdout",
     "output_type": "stream",
     "text": [
      "Iteration: 10500. \n",
      "Test - Loss: 0.2369849681854248. Accuracy: 90.0\n",
      "Train -  Loss: 0.22995904088020325. Accuracy: 90.59701492537313\n",
      "\n",
      "Iteration: 11000. \n",
      "Test - Loss: 0.23686814308166504. Accuracy: 90.0\n",
      "Train -  Loss: 0.229828342795372. Accuracy: 90.59701492537313\n",
      "\n"
     ]
    },
    {
     "name": "stderr",
     "output_type": "stream",
     "text": [
      "Training Epochs:  60%|██████    | 12024/20001 [00:03<00:02, 3953.17it/s]"
     ]
    },
    {
     "name": "stdout",
     "output_type": "stream",
     "text": [
      "Iteration: 11500. \n",
      "Test - Loss: 0.23676258325576782. Accuracy: 90.0\n",
      "Train -  Loss: 0.22970831394195557. Accuracy: 90.59701492537313\n",
      "\n",
      "Iteration: 12000. \n",
      "Test - Loss: 0.23666682839393616. Accuracy: 90.0\n",
      "Train -  Loss: 0.22959770262241364. Accuracy: 90.59701492537313\n",
      "\n"
     ]
    },
    {
     "name": "stderr",
     "output_type": "stream",
     "text": [
      "Training Epochs:  65%|██████▌   | 13003/20001 [00:03<00:01, 4389.90it/s]"
     ]
    },
    {
     "name": "stdout",
     "output_type": "stream",
     "text": [
      "Iteration: 12500. \n",
      "Test - Loss: 0.23657961189746857. Accuracy: 90.0\n",
      "Train -  Loss: 0.2294953316450119. Accuracy: 90.59701492537313\n",
      "\n",
      "Iteration: 13000. \n",
      "Test - Loss: 0.23649990558624268. Accuracy: 90.0\n",
      "Train -  Loss: 0.22940032184123993. Accuracy: 90.59701492537313\n",
      "\n",
      "Iteration: 13500. \n",
      "Test - Loss: 0.23642681539058685. Accuracy: 90.0\n",
      "Train -  Loss: 0.2293117493391037. Accuracy: 90.59701492537313\n",
      "\n"
     ]
    },
    {
     "name": "stderr",
     "output_type": "stream",
     "text": [
      "Training Epochs:  73%|███████▎  | 14510/20001 [00:03<00:01, 4673.93it/s]"
     ]
    },
    {
     "name": "stdout",
     "output_type": "stream",
     "text": [
      "Iteration: 14000. \n",
      "Test - Loss: 0.2363595962524414. Accuracy: 90.0\n",
      "Train -  Loss: 0.22922900319099426. Accuracy: 90.59701492537313\n",
      "\n",
      "Iteration: 14500. \n",
      "Test - Loss: 0.2362976372241974. Accuracy: 90.0\n",
      "Train -  Loss: 0.22915153205394745. Accuracy: 90.59701492537313\n",
      "\n"
     ]
    },
    {
     "name": "stderr",
     "output_type": "stream",
     "text": [
      "Training Epochs:  80%|███████▉  | 15979/20001 [00:03<00:00, 4813.81it/s]"
     ]
    },
    {
     "name": "stdout",
     "output_type": "stream",
     "text": [
      "Iteration: 15000. \n",
      "Test - Loss: 0.23624035716056824. Accuracy: 90.0\n",
      "Train -  Loss: 0.2290787398815155. Accuracy: 90.59701492537313\n",
      "\n",
      "Iteration: 15500. \n",
      "Test - Loss: 0.23618730902671814. Accuracy: 90.0\n",
      "Train -  Loss: 0.22901023924350739. Accuracy: 90.59701492537313\n",
      "\n"
     ]
    },
    {
     "name": "stderr",
     "output_type": "stream",
     "text": [
      "Training Epochs:  82%|████████▏ | 16464/20001 [00:03<00:00, 4746.90it/s]"
     ]
    },
    {
     "name": "stdout",
     "output_type": "stream",
     "text": [
      "Iteration: 16000. \n",
      "Test - Loss: 0.2361379712820053. Accuracy: 90.0\n",
      "Train -  Loss: 0.22894558310508728. Accuracy: 90.59701492537313\n",
      "\n",
      "Iteration: 16500. \n",
      "Test - Loss: 0.23609216511249542. Accuracy: 90.0\n",
      "Train -  Loss: 0.2288845032453537. Accuracy: 90.59701492537313\n",
      "\n"
     ]
    },
    {
     "name": "stderr",
     "output_type": "stream",
     "text": [
      "Training Epochs:  90%|█████████ | 18044/20001 [00:04<00:00, 5052.04it/s]"
     ]
    },
    {
     "name": "stdout",
     "output_type": "stream",
     "text": [
      "Iteration: 17000. \n",
      "Test - Loss: 0.23604939877986908. Accuracy: 90.0\n",
      "Train -  Loss: 0.2288266271352768. Accuracy: 90.59701492537313\n",
      "\n",
      "Iteration: 17500. \n",
      "Test - Loss: 0.23600953817367554. Accuracy: 90.0\n",
      "Train -  Loss: 0.22877174615859985. Accuracy: 90.59701492537313\n",
      "\n",
      "Iteration: 18000. \n",
      "Test - Loss: 0.23597219586372375. Accuracy: 90.0\n",
      "Train -  Loss: 0.22871951758861542. Accuracy: 90.59701492537313\n",
      "\n"
     ]
    },
    {
     "name": "stderr",
     "output_type": "stream",
     "text": [
      "Training Epochs:  96%|█████████▌| 19118/20001 [00:04<00:00, 5217.71it/s]"
     ]
    },
    {
     "name": "stdout",
     "output_type": "stream",
     "text": [
      "Iteration: 18500. \n",
      "Test - Loss: 0.23593726754188538. Accuracy: 90.0\n",
      "Train -  Loss: 0.22866985201835632. Accuracy: 90.59701492537313\n",
      "\n",
      "Iteration: 19000. \n",
      "Test - Loss: 0.23590445518493652. Accuracy: 90.0\n",
      "Train -  Loss: 0.22862252593040466. Accuracy: 90.59701492537313\n",
      "\n",
      "Iteration: 19500. \n",
      "Test - Loss: 0.23587362468242645. Accuracy: 90.0\n",
      "Train -  Loss: 0.22857731580734253. Accuracy: 90.59701492537313\n",
      "\n"
     ]
    },
    {
     "name": "stderr",
     "output_type": "stream",
     "text": [
      "Training Epochs: 100%|██████████| 20001/20001 [00:04<00:00, 4357.55it/s]\n"
     ]
    },
    {
     "name": "stdout",
     "output_type": "stream",
     "text": [
      "Iteration: 20000. \n",
      "Test - Loss: 0.23584456741809845. Accuracy: 90.0\n",
      "Train -  Loss: 0.22853414714336395. Accuracy: 90.59701492537313\n",
      "\n"
     ]
    },
    {
     "data": {
      "image/png": "[encoded data removed]",
      "text/plain": [
       "<Figure size 1000x500 with 2 Axes>"
      ]
     },
     "metadata": {},
     "output_type": "display_data"
    },
    {
     "name": "stderr",
     "output_type": "stream",
     "text": [
      "Training Epochs:   5%|▍         | 972/20001 [00:00<00:05, 3321.73it/s]"
     ]
    },
    {
     "name": "stdout",
     "output_type": "stream",
     "text": [
      "Iteration: 500. \n",
      "Test - Loss: 0.2728716731071472. Accuracy: 90.0\n",
      "Train -  Loss: 0.26211485266685486. Accuracy: 90.59701492537313\n",
      "\n",
      "Iteration: 1000. \n",
      "Test - Loss: 0.2547267973423004. Accuracy: 90.0\n",
      "Train -  Loss: 0.2457718402147293. Accuracy: 90.59701492537313\n",
      "\n"
     ]
    },
    {
     "name": "stderr",
     "output_type": "stream",
     "text": [
      "Training Epochs:  10%|█         | 2067/20001 [00:00<00:05, 3584.23it/s]"
     ]
    },
    {
     "name": "stdout",
     "output_type": "stream",
     "text": [
      "Iteration: 1500. \n",
      "Test - Loss: 0.24710145592689514. Accuracy: 90.0\n",
      "Train -  Loss: 0.23914453387260437. Accuracy: 90.59701492537313\n",
      "\n",
      "Iteration: 2000. \n",
      "Test - Loss: 0.24248826503753662. Accuracy: 90.0\n",
      "Train -  Loss: 0.2351456880569458. Accuracy: 90.59701492537313\n",
      "\n"
     ]
    },
    {
     "name": "stderr",
     "output_type": "stream",
     "text": [
      "Training Epochs:  12%|█▏        | 2426/20001 [00:00<00:05, 3369.97it/s]"
     ]
    },
    {
     "name": "stdout",
     "output_type": "stream",
     "text": [
      "Iteration: 2500. \n",
      "Test - Loss: 0.23852959275245667. Accuracy: 90.0\n",
      "Train -  Loss: 0.231718510389328. Accuracy: 90.59701492537313\n",
      "\n"
     ]
    },
    {
     "name": "stderr",
     "output_type": "stream",
     "text": [
      "Training Epochs:  17%|█▋        | 3470/20001 [00:01<00:06, 2608.84it/s]"
     ]
    },
    {
     "name": "stdout",
     "output_type": "stream",
     "text": [
      "Iteration: 3000. \n",
      "Test - Loss: 0.2336673140525818. Accuracy: 90.0\n",
      "Train -  Loss: 0.2275664359331131. Accuracy: 90.59701492537313\n",
      "\n",
      "Iteration: 3500. \n",
      "Test - Loss: 0.22699053585529327. Accuracy: 90.0\n",
      "Train -  Loss: 0.22195981442928314. Accuracy: 90.59701492537313\n",
      "\n"
     ]
    },
    {
     "name": "stderr",
     "output_type": "stream",
     "text": [
      "Training Epochs:  19%|█▉        | 3799/20001 [00:01<00:05, 2775.02it/s]"
     ]
    },
    {
     "name": "stdout",
     "output_type": "stream",
     "text": [
      "Iteration: 4000. \n",
      "Test - Loss: 0.21917854249477386. Accuracy: 90.0\n",
      "Train -  Loss: 0.21547241508960724. Accuracy: 90.59701492537313\n",
      "\n"
     ]
    },
    {
     "name": "stderr",
     "output_type": "stream",
     "text": [
      "Training Epochs:  24%|██▍       | 4820/20001 [00:01<00:07, 2098.56it/s]"
     ]
    },
    {
     "name": "stdout",
     "output_type": "stream",
     "text": [
      "Iteration: 4500. \n",
      "Test - Loss: 0.21154706180095673. Accuracy: 90.0\n",
      "Train -  Loss: 0.2091960608959198. Accuracy: 90.59701492537313\n",
      "\n"
     ]
    },
    {
     "name": "stderr",
     "output_type": "stream",
     "text": [
      "Training Epochs:  28%|██▊       | 5586/20001 [00:02<00:05, 2787.88it/s]"
     ]
    },
    {
     "name": "stdout",
     "output_type": "stream",
     "text": [
      "Iteration: 5000. \n",
      "Test - Loss: 0.20525595545768738. Accuracy: 90.0\n",
      "Train -  Loss: 0.20410065352916718. Accuracy: 90.59701492537313\n",
      "\n",
      "Iteration: 5500. \n",
      "Test - Loss: 0.20061643421649933. Accuracy: 90.0\n",
      "Train -  Loss: 0.2003711313009262. Accuracy: 90.59701492537313\n",
      "\n"
     ]
    },
    {
     "name": "stderr",
     "output_type": "stream",
     "text": [
      "Training Epochs:  31%|███▏      | 6286/20001 [00:02<00:04, 3087.74it/s]"
     ]
    },
    {
     "name": "stdout",
     "output_type": "stream",
     "text": [
      "Iteration: 6000. \n",
      "Test - Loss: 0.19707392156124115. Accuracy: 90.0\n",
      "Train -  Loss: 0.1975131332874298. Accuracy: 90.59701492537313\n",
      "\n",
      "Iteration: 6500. \n",
      "Test - Loss: 0.1936015486717224. Accuracy: 89.6969696969697\n",
      "Train -  Loss: 0.19512543082237244. Accuracy: 90.44776119402985\n",
      "\n"
     ]
    },
    {
     "name": "stderr",
     "output_type": "stream",
     "text": [
      "Training Epochs:  35%|███▌      | 7002/20001 [00:03<00:08, 1515.93it/s]"
     ]
    },
    {
     "name": "stdout",
     "output_type": "stream",
     "text": [
      "Iteration: 7000. \n",
      "Test - Loss: 0.19061890244483948. Accuracy: 89.39393939393939\n",
      "Train -  Loss: 0.19342394173145294. Accuracy: 89.55223880597015\n",
      "\n"
     ]
    },
    {
     "name": "stderr",
     "output_type": "stream",
     "text": [
      "Training Epochs:  41%|████      | 8119/20001 [00:03<00:05, 2094.65it/s]"
     ]
    },
    {
     "name": "stdout",
     "output_type": "stream",
     "text": [
      "Iteration: 7500. \n",
      "Test - Loss: 0.18868334591388702. Accuracy: 89.39393939393939\n",
      "Train -  Loss: 0.19220685958862305. Accuracy: 89.25373134328358\n",
      "\n",
      "Iteration: 8000. \n",
      "Test - Loss: 0.1874052882194519. Accuracy: 89.39393939393939\n",
      "Train -  Loss: 0.19122737646102905. Accuracy: 88.80597014925372\n",
      "\n"
     ]
    },
    {
     "name": "stderr",
     "output_type": "stream",
     "text": [
      "Training Epochs:  46%|████▌     | 9208/20001 [00:03<00:03, 2915.17it/s]"
     ]
    },
    {
     "name": "stdout",
     "output_type": "stream",
     "text": [
      "Iteration: 8500. \n",
      "Test - Loss: 0.1864849179983139. Accuracy: 89.0909090909091\n",
      "Train -  Loss: 0.1903892606496811. Accuracy: 88.95522388059702\n",
      "\n",
      "Iteration: 9000. \n",
      "Test - Loss: 0.18577159941196442. Accuracy: 89.0909090909091\n",
      "Train -  Loss: 0.1896507292985916. Accuracy: 89.1044776119403\n",
      "\n",
      "Iteration: 9500. \n",
      "Test - Loss: 0.18518736958503723. Accuracy: 89.0909090909091\n",
      "Train -  Loss: 0.18898987770080566. Accuracy: 89.1044776119403\n",
      "\n"
     ]
    },
    {
     "name": "stderr",
     "output_type": "stream",
     "text": [
      "Training Epochs:  53%|█████▎    | 10664/20001 [00:04<00:03, 2725.55it/s]"
     ]
    },
    {
     "name": "stdout",
     "output_type": "stream",
     "text": [
      "Iteration: 10000. \n",
      "Test - Loss: 0.18468880653381348. Accuracy: 89.0909090909091\n",
      "Train -  Loss: 0.18839335441589355. Accuracy: 88.95522388059702\n",
      "\n",
      "Iteration: 10500. \n",
      "Test - Loss: 0.18425056338310242. Accuracy: 88.78787878787878\n",
      "Train -  Loss: 0.1878516972064972. Accuracy: 88.80597014925372\n",
      "\n"
     ]
    },
    {
     "name": "stderr",
     "output_type": "stream",
     "text": [
      "Training Epochs:  57%|█████▋    | 11410/20001 [00:04<00:02, 3147.74it/s]"
     ]
    },
    {
     "name": "stdout",
     "output_type": "stream",
     "text": [
      "Iteration: 11000. \n",
      "Test - Loss: 0.18385764956474304. Accuracy: 88.48484848484848\n",
      "Train -  Loss: 0.1873575896024704. Accuracy: 89.1044776119403\n",
      "\n",
      "Iteration: 11500. \n",
      "Test - Loss: 0.1835010051727295. Accuracy: 88.48484848484848\n",
      "Train -  Loss: 0.18690510094165802. Accuracy: 89.1044776119403\n",
      "\n"
     ]
    },
    {
     "name": "stderr",
     "output_type": "stream",
     "text": [
      "Training Epochs:  63%|██████▎   | 12575/20001 [00:05<00:02, 3316.52it/s]"
     ]
    },
    {
     "name": "stdout",
     "output_type": "stream",
     "text": [
      "Iteration: 12000. \n",
      "Test - Loss: 0.18317489326000214. Accuracy: 88.18181818181819\n",
      "Train -  Loss: 0.18648913502693176. Accuracy: 89.1044776119403\n",
      "\n",
      "Iteration: 12500. \n",
      "Test - Loss: 0.18287540972232819. Accuracy: 88.18181818181819\n",
      "Train -  Loss: 0.18610548973083496. Accuracy: 88.95522388059702\n",
      "\n"
     ]
    },
    {
     "name": "stderr",
     "output_type": "stream",
     "text": [
      "Training Epochs:  67%|██████▋   | 13354/20001 [00:05<00:01, 3592.43it/s]"
     ]
    },
    {
     "name": "stdout",
     "output_type": "stream",
     "text": [
      "Iteration: 13000. \n",
      "Test - Loss: 0.18259963393211365. Accuracy: 88.18181818181819\n",
      "Train -  Loss: 0.18575048446655273. Accuracy: 88.80597014925372\n",
      "\n"
     ]
    },
    {
     "name": "stderr",
     "output_type": "stream",
     "text": [
      "Training Epochs:  71%|███████   | 14159/20001 [00:05<00:02, 2809.95it/s]"
     ]
    },
    {
     "name": "stdout",
     "output_type": "stream",
     "text": [
      "Iteration: 13500. \n",
      "Test - Loss: 0.18234536051750183. Accuracy: 88.18181818181819\n",
      "Train -  Loss: 0.1854209452867508. Accuracy: 88.80597014925372\n",
      "\n",
      "Iteration: 14000. \n",
      "Test - Loss: 0.18211041390895844. Accuracy: 88.18181818181819\n",
      "Train -  Loss: 0.1851140707731247. Accuracy: 88.80597014925372\n",
      "\n"
     ]
    },
    {
     "name": "stderr",
     "output_type": "stream",
     "text": [
      "Training Epochs:  73%|███████▎  | 14552/20001 [00:05<00:01, 3070.69it/s]"
     ]
    },
    {
     "name": "stdout",
     "output_type": "stream",
     "text": [
      "Iteration: 14500. \n",
      "Test - Loss: 0.1818930208683014. Accuracy: 88.18181818181819\n",
      "Train -  Loss: 0.1848275065422058. Accuracy: 88.80597014925372\n",
      "\n"
     ]
    },
    {
     "name": "stderr",
     "output_type": "stream",
     "text": [
      "Training Epochs:  78%|███████▊  | 15596/20001 [00:06<00:01, 2802.98it/s]"
     ]
    },
    {
     "name": "stdout",
     "output_type": "stream",
     "text": [
      "Iteration: 15000. \n",
      "Test - Loss: 0.18169140815734863. Accuracy: 88.18181818181819\n",
      "Train -  Loss: 0.18455913662910461. Accuracy: 88.80597014925372\n",
      "\n",
      "Iteration: 15500. \n",
      "Test - Loss: 0.1815042495727539. Accuracy: 88.18181818181819\n",
      "Train -  Loss: 0.18430712819099426. Accuracy: 88.80597014925372\n",
      "\n"
     ]
    },
    {
     "name": "stderr",
     "output_type": "stream",
     "text": [
      "Training Epochs:  84%|████████▍ | 16761/20001 [00:06<00:00, 3458.91it/s]"
     ]
    },
    {
     "name": "stdout",
     "output_type": "stream",
     "text": [
      "Iteration: 16000. \n",
      "Test - Loss: 0.18132999539375305. Accuracy: 88.18181818181819\n",
      "Train -  Loss: 0.18406988680362701. Accuracy: 88.80597014925372\n",
      "\n",
      "Iteration: 16500. \n",
      "Test - Loss: 0.18116743862628937. Accuracy: 88.18181818181819\n",
      "Train -  Loss: 0.18384598195552826. Accuracy: 88.80597014925372\n",
      "\n"
     ]
    },
    {
     "name": "stderr",
     "output_type": "stream",
     "text": [
      "Training Epochs:  88%|████████▊ | 17543/20001 [00:06<00:00, 3574.59it/s]"
     ]
    },
    {
     "name": "stdout",
     "output_type": "stream",
     "text": [
      "Iteration: 17000. \n",
      "Test - Loss: 0.18101555109024048. Accuracy: 88.18181818181819\n",
      "Train -  Loss: 0.18363416194915771. Accuracy: 88.80597014925372\n",
      "\n",
      "Iteration: 17500. \n",
      "Test - Loss: 0.18087320029735565. Accuracy: 88.18181818181819\n",
      "Train -  Loss: 0.183433398604393. Accuracy: 88.80597014925372\n",
      "\n"
     ]
    },
    {
     "name": "stderr",
     "output_type": "stream",
     "text": [
      "Training Epochs:  93%|█████████▎| 18692/20001 [00:07<00:00, 3732.20it/s]"
     ]
    },
    {
     "name": "stdout",
     "output_type": "stream",
     "text": [
      "Iteration: 18000. \n",
      "Test - Loss: 0.1807393580675125. Accuracy: 88.18181818181819\n",
      "Train -  Loss: 0.18324263393878937. Accuracy: 88.95522388059702\n",
      "\n",
      "Iteration: 18500. \n",
      "Test - Loss: 0.18061353266239166. Accuracy: 88.18181818181819\n",
      "Train -  Loss: 0.18306106328964233. Accuracy: 88.95522388059702\n",
      "\n"
     ]
    },
    {
     "name": "stderr",
     "output_type": "stream",
     "text": [
      "Training Epochs:  97%|█████████▋| 19436/20001 [00:07<00:00, 3600.04it/s]"
     ]
    },
    {
     "name": "stdout",
     "output_type": "stream",
     "text": [
      "Iteration: 19000. \n",
      "Test - Loss: 0.18049469590187073. Accuracy: 88.48484848484848\n",
      "Train -  Loss: 0.18288791179656982. Accuracy: 89.25373134328358\n",
      "\n",
      "Iteration: 19500. \n",
      "Test - Loss: 0.18038232624530792. Accuracy: 88.48484848484848\n",
      "Train -  Loss: 0.18272247910499573. Accuracy: 89.25373134328358\n",
      "\n"
     ]
    },
    {
     "name": "stderr",
     "output_type": "stream",
     "text": [
      "Training Epochs: 100%|██████████| 20001/20001 [00:07<00:00, 2675.94it/s]\n"
     ]
    },
    {
     "name": "stdout",
     "output_type": "stream",
     "text": [
      "Iteration: 20000. \n",
      "Test - Loss: 0.18027570843696594. Accuracy: 88.48484848484848\n",
      "Train -  Loss: 0.18256424367427826. Accuracy: 89.55223880597015\n",
      "\n"
     ]
    },
    {
     "data": {
      "image/png": "[encoded data removed]",
      "text/plain": [
       "<Figure size 1000x500 with 2 Axes>"
      ]
     },
     "metadata": {},
     "output_type": "display_data"
    },
    {
     "name": "stderr",
     "output_type": "stream",
     "text": [
      "Training Epochs:   4%|▍         | 855/20001 [00:00<00:07, 2720.65it/s]"
     ]
    },
    {
     "name": "stdout",
     "output_type": "stream",
     "text": [
      "Iteration: 500. \n",
      "Test - Loss: 0.2937290668487549. Accuracy: 90.0\n",
      "Train -  Loss: 0.28146541118621826. Accuracy: 90.59701492537313\n",
      "\n",
      "Iteration: 1000. \n",
      "Test - Loss: 0.26129966974258423. Accuracy: 90.0\n",
      "Train -  Loss: 0.2517065703868866. Accuracy: 90.59701492537313\n",
      "\n"
     ]
    },
    {
     "name": "stderr",
     "output_type": "stream",
     "text": [
      "Training Epochs:  10%|▉         | 1992/20001 [00:00<00:05, 3535.20it/s]"
     ]
    },
    {
     "name": "stdout",
     "output_type": "stream",
     "text": [
      "Iteration: 1500. \n",
      "Test - Loss: 0.24909500777721405. Accuracy: 90.0\n",
      "Train -  Loss: 0.24091650545597076. Accuracy: 90.59701492537313\n",
      "\n",
      "Iteration: 2000. \n",
      "Test - Loss: 0.24260875582695007. Accuracy: 90.0\n",
      "Train -  Loss: 0.23521728813648224. Accuracy: 90.59701492537313\n",
      "\n"
     ]
    },
    {
     "name": "stderr",
     "output_type": "stream",
     "text": [
      "Training Epochs:  15%|█▌        | 3028/20001 [00:00<00:05, 3343.64it/s]"
     ]
    },
    {
     "name": "stdout",
     "output_type": "stream",
     "text": [
      "Iteration: 2500. \n",
      "Test - Loss: 0.2375558614730835. Accuracy: 90.0\n",
      "Train -  Loss: 0.2308206856250763. Accuracy: 90.59701492537313\n",
      "\n",
      "Iteration: 3000. \n",
      "Test - Loss: 0.23233096301555634. Accuracy: 90.0\n",
      "Train -  Loss: 0.22635775804519653. Accuracy: 90.59701492537313\n",
      "\n"
     ]
    },
    {
     "name": "stderr",
     "output_type": "stream",
     "text": [
      "Training Epochs:  19%|█▉        | 3829/20001 [00:01<00:04, 3418.01it/s]"
     ]
    },
    {
     "name": "stdout",
     "output_type": "stream",
     "text": [
      "Iteration: 3500. \n",
      "Test - Loss: 0.22657741606235504. Accuracy: 90.0\n",
      "Train -  Loss: 0.22151534259319305. Accuracy: 90.59701492537313\n",
      "\n",
      "Iteration: 4000. \n",
      "Test - Loss: 0.2203892171382904. Accuracy: 90.0\n",
      "Train -  Loss: 0.21632644534111023. Accuracy: 90.59701492537313\n",
      "\n"
     ]
    },
    {
     "name": "stderr",
     "output_type": "stream",
     "text": [
      "Training Epochs:  25%|██▍       | 4925/20001 [00:01<00:04, 3527.63it/s]"
     ]
    },
    {
     "name": "stdout",
     "output_type": "stream",
     "text": [
      "Iteration: 4500. \n",
      "Test - Loss: 0.21342898905277252. Accuracy: 90.0\n",
      "Train -  Loss: 0.21048925817012787. Accuracy: 90.59701492537313\n",
      "\n",
      "Iteration: 5000. \n",
      "Test - Loss: 0.20642244815826416. Accuracy: 90.0\n",
      "Train -  Loss: 0.20467455685138702. Accuracy: 90.59701492537313\n",
      "\n"
     ]
    },
    {
     "name": "stderr",
     "output_type": "stream",
     "text": [
      "Training Epochs:  30%|███       | 6021/20001 [00:01<00:04, 3463.17it/s]"
     ]
    },
    {
     "name": "stdout",
     "output_type": "stream",
     "text": [
      "Iteration: 5500. \n",
      "Test - Loss: 0.2008880376815796. Accuracy: 90.0\n",
      "Train -  Loss: 0.20017454028129578. Accuracy: 90.59701492537313\n",
      "\n",
      "Iteration: 6000. \n",
      "Test - Loss: 0.19698816537857056. Accuracy: 90.0\n",
      "Train -  Loss: 0.19701488316059113. Accuracy: 90.59701492537313\n",
      "\n"
     ]
    },
    {
     "name": "stderr",
     "output_type": "stream",
     "text": [
      "Training Epochs:  34%|███▍      | 6755/20001 [00:01<00:03, 3503.13it/s]"
     ]
    },
    {
     "name": "stdout",
     "output_type": "stream",
     "text": [
      "Iteration: 6500. \n",
      "Test - Loss: 0.19371919333934784. Accuracy: 90.0\n",
      "Train -  Loss: 0.19454297423362732. Accuracy: 90.59701492537313\n",
      "\n"
     ]
    },
    {
     "name": "stderr",
     "output_type": "stream",
     "text": [
      "Training Epochs:  38%|███▊      | 7508/20001 [00:02<00:05, 2291.13it/s]"
     ]
    },
    {
     "name": "stdout",
     "output_type": "stream",
     "text": [
      "Iteration: 7000. \n",
      "Test - Loss: 0.19046150147914886. Accuracy: 89.6969696969697\n",
      "Train -  Loss: 0.19262850284576416. Accuracy: 90.14925373134328\n",
      "\n",
      "Iteration: 7500. \n",
      "Test - Loss: 0.18816427886486053. Accuracy: 89.39393939393939\n",
      "Train -  Loss: 0.19131752848625183. Accuracy: 89.40298507462687\n",
      "\n"
     ]
    },
    {
     "name": "stderr",
     "output_type": "stream",
     "text": [
      "Training Epochs:  42%|████▏     | 8452/20001 [00:02<00:04, 2683.34it/s]"
     ]
    },
    {
     "name": "stdout",
     "output_type": "stream",
     "text": [
      "Iteration: 8000. \n",
      "Test - Loss: 0.18671643733978271. Accuracy: 89.39393939393939\n",
      "Train -  Loss: 0.19030454754829407. Accuracy: 88.95522388059702\n",
      "\n",
      "Iteration: 8500. \n",
      "Test - Loss: 0.1857120245695114. Accuracy: 89.0909090909091\n",
      "Train -  Loss: 0.18944725394248962. Accuracy: 88.95522388059702\n",
      "\n"
     ]
    },
    {
     "name": "stderr",
     "output_type": "stream",
     "text": [
      "Training Epochs:  47%|████▋     | 9406/20001 [00:03<00:04, 2158.76it/s]"
     ]
    },
    {
     "name": "stdout",
     "output_type": "stream",
     "text": [
      "Iteration: 9000. \n",
      "Test - Loss: 0.18493987619876862. Accuracy: 89.0909090909091\n",
      "Train -  Loss: 0.1886933445930481. Accuracy: 88.95522388059702\n",
      "\n"
     ]
    },
    {
     "name": "stderr",
     "output_type": "stream",
     "text": [
      "Training Epochs:  50%|████▉     | 10000/20001 [00:03<00:04, 2008.44it/s]"
     ]
    },
    {
     "name": "stdout",
     "output_type": "stream",
     "text": [
      "Iteration: 9500. \n",
      "Test - Loss: 0.18429991602897644. Accuracy: 89.0909090909091\n",
      "Train -  Loss: 0.18801799416542053. Accuracy: 89.1044776119403\n",
      "\n",
      "Iteration: 10000. \n",
      "Test - Loss: 0.1837415099143982. Accuracy: 89.0909090909091\n",
      "Train -  Loss: 0.18740633130073547. Accuracy: 88.95522388059702\n",
      "\n"
     ]
    },
    {
     "name": "stderr",
     "output_type": "stream",
     "text": [
      "Training Epochs:  55%|█████▍    | 10924/20001 [00:03<00:03, 2603.99it/s]"
     ]
    },
    {
     "name": "stdout",
     "output_type": "stream",
     "text": [
      "Iteration: 10500. \n",
      "Test - Loss: 0.18323729932308197. Accuracy: 88.78787878787878\n",
      "Train -  Loss: 0.1868477314710617. Accuracy: 88.80597014925372\n",
      "\n",
      "Iteration: 11000. \n",
      "Test - Loss: 0.18277102708816528. Accuracy: 88.48484848484848\n",
      "Train -  Loss: 0.18633368611335754. Accuracy: 89.1044776119403\n",
      "\n"
     ]
    },
    {
     "name": "stderr",
     "output_type": "stream",
     "text": [
      "Training Epochs:  59%|█████▉    | 11870/20001 [00:04<00:03, 2594.33it/s]"
     ]
    },
    {
     "name": "stdout",
     "output_type": "stream",
     "text": [
      "Iteration: 11500. \n",
      "Test - Loss: 0.18233166635036469. Accuracy: 88.18181818181819\n",
      "Train -  Loss: 0.18585656583309174. Accuracy: 88.95522388059702\n",
      "\n"
     ]
    },
    {
     "name": "stderr",
     "output_type": "stream",
     "text": [
      "Training Epochs:  63%|██████▎   | 12503/20001 [00:04<00:05, 1461.57it/s]"
     ]
    },
    {
     "name": "stdout",
     "output_type": "stream",
     "text": [
      "Iteration: 12000. \n",
      "Test - Loss: 0.18190978467464447. Accuracy: 88.18181818181819\n",
      "Train -  Loss: 0.1854090690612793. Accuracy: 88.80597014925372\n",
      "\n",
      "Iteration: 12500. \n",
      "Test - Loss: 0.18149513006210327. Accuracy: 88.18181818181819\n",
      "Train -  Loss: 0.18498335778713226. Accuracy: 88.80597014925372\n",
      "\n"
     ]
    },
    {
     "name": "stderr",
     "output_type": "stream",
     "text": [
      "Training Epochs:  65%|██████▌   | 13099/20001 [00:05<00:04, 1493.77it/s]"
     ]
    },
    {
     "name": "stdout",
     "output_type": "stream",
     "text": [
      "Iteration: 13000. \n",
      "Test - Loss: 0.181073859333992. Accuracy: 88.18181818181819\n",
      "Train -  Loss: 0.18456971645355225. Accuracy: 88.80597014925372\n",
      "\n"
     ]
    },
    {
     "name": "stderr",
     "output_type": "stream",
     "text": [
      "Training Epochs:  70%|███████   | 14018/20001 [00:05<00:03, 1983.01it/s]"
     ]
    },
    {
     "name": "stdout",
     "output_type": "stream",
     "text": [
      "Iteration: 13500. \n",
      "Test - Loss: 0.18062373995780945. Accuracy: 88.18181818181819\n",
      "Train -  Loss: 0.18415383994579315. Accuracy: 88.80597014925372\n",
      "\n",
      "Iteration: 14000. \n",
      "Test - Loss: 0.18010388314723969. Accuracy: 88.18181818181819\n",
      "Train -  Loss: 0.1837102472782135. Accuracy: 88.80597014925372\n",
      "\n"
     ]
    },
    {
     "name": "stderr",
     "output_type": "stream",
     "text": [
      "Training Epochs:  73%|███████▎  | 14700/20001 [00:06<00:02, 2536.75it/s]"
     ]
    },
    {
     "name": "stdout",
     "output_type": "stream",
     "text": [
      "Iteration: 14500. \n",
      "Test - Loss: 0.17942558228969574. Accuracy: 88.78787878787878\n",
      "Train -  Loss: 0.1831820160150528. Accuracy: 89.25373134328358\n",
      "\n"
     ]
    },
    {
     "name": "stderr",
     "output_type": "stream",
     "text": [
      "Training Epochs:  77%|███████▋  | 15356/20001 [00:06<00:02, 2116.23it/s]"
     ]
    },
    {
     "name": "stdout",
     "output_type": "stream",
     "text": [
      "Iteration: 15000. \n",
      "Test - Loss: 0.17835676670074463. Accuracy: 89.39393939393939\n",
      "Train -  Loss: 0.1824071854352951. Accuracy: 90.44776119402985\n",
      "\n",
      "Iteration: 15500. \n",
      "Test - Loss: 0.17614565789699554. Accuracy: 90.0\n",
      "Train -  Loss: 0.18078374862670898. Accuracy: 90.59701492537313\n",
      "\n"
     ]
    },
    {
     "name": "stderr",
     "output_type": "stream",
     "text": [
      "Training Epochs:  82%|████████▏ | 16353/20001 [00:06<00:01, 2702.19it/s]"
     ]
    },
    {
     "name": "stdout",
     "output_type": "stream",
     "text": [
      "Iteration: 16000. \n",
      "Test - Loss: 0.16974195837974548. Accuracy: 90.0\n",
      "Train -  Loss: 0.17560669779777527. Accuracy: 90.74626865671642\n",
      "\n",
      "Iteration: 16500. \n",
      "Test - Loss: 0.1507367640733719. Accuracy: 92.72727272727273\n",
      "Train -  Loss: 0.15926706790924072. Accuracy: 93.58208955223881\n",
      "\n"
     ]
    },
    {
     "name": "stderr",
     "output_type": "stream",
     "text": [
      "Training Epochs:  87%|████████▋ | 17327/20001 [00:07<00:00, 2837.29it/s]"
     ]
    },
    {
     "name": "stdout",
     "output_type": "stream",
     "text": [
      "Iteration: 17000. \n",
      "Test - Loss: 0.11972001940011978. Accuracy: 96.66666666666667\n",
      "Train -  Loss: 0.12841065227985382. Accuracy: 95.97014925373135\n",
      "\n",
      "Iteration: 17500. \n",
      "Test - Loss: 0.09490764141082764. Accuracy: 97.57575757575758\n",
      "Train -  Loss: 0.09854438155889511. Accuracy: 96.56716417910448\n",
      "\n"
     ]
    },
    {
     "name": "stderr",
     "output_type": "stream",
     "text": [
      "Training Epochs:  93%|█████████▎| 18628/20001 [00:07<00:00, 3092.50it/s]"
     ]
    },
    {
     "name": "stdout",
     "output_type": "stream",
     "text": [
      "Iteration: 18000. \n",
      "Test - Loss: 0.0859995186328888. Accuracy: 97.87878787878788\n",
      "Train -  Loss: 0.084884412586689. Accuracy: 97.91044776119404\n",
      "\n",
      "Iteration: 18500. \n",
      "Test - Loss: 0.08145006000995636. Accuracy: 97.57575757575758\n",
      "Train -  Loss: 0.07750105112791061. Accuracy: 98.2089552238806\n",
      "\n"
     ]
    },
    {
     "name": "stderr",
     "output_type": "stream",
     "text": [
      "Training Epochs:  97%|█████████▋| 19381/20001 [00:07<00:00, 3420.21it/s]"
     ]
    },
    {
     "name": "stdout",
     "output_type": "stream",
     "text": [
      "Iteration: 19000. \n",
      "Test - Loss: 0.07799573242664337. Accuracy: 97.57575757575758\n",
      "Train -  Loss: 0.07236535102128983. Accuracy: 97.91044776119404\n",
      "\n",
      "Iteration: 19500. \n",
      "Test - Loss: 0.07501313090324402. Accuracy: 97.57575757575758\n",
      "Train -  Loss: 0.06829427927732468. Accuracy: 97.76119402985074\n",
      "\n"
     ]
    },
    {
     "name": "stderr",
     "output_type": "stream",
     "text": [
      "Training Epochs: 100%|██████████| 20001/20001 [00:07<00:00, 2522.48it/s]\n"
     ]
    },
    {
     "name": "stdout",
     "output_type": "stream",
     "text": [
      "Iteration: 20000. \n",
      "Test - Loss: 0.07234129309654236. Accuracy: 97.57575757575758\n",
      "Train -  Loss: 0.06484046578407288. Accuracy: 97.91044776119404\n",
      "\n"
     ]
    },
    {
     "data": {
      "image/png": "[encoded data removed]",
      "text/plain": [
       "<Figure size 1000x500 with 2 Axes>"
      ]
     },
     "metadata": {},
     "output_type": "display_data"
    },
    {
     "name": "stderr",
     "output_type": "stream",
     "text": [
      "Training Epochs:   4%|▍         | 844/20001 [00:00<00:06, 2899.09it/s]"
     ]
    },
    {
     "name": "stdout",
     "output_type": "stream",
     "text": [
      "Iteration: 500. \n",
      "Test - Loss: 0.3063984215259552. Accuracy: 90.0\n",
      "Train -  Loss: 0.2927727997303009. Accuracy: 90.59701492537313\n",
      "\n",
      "Iteration: 1000. \n",
      "Test - Loss: 0.2812676727771759. Accuracy: 90.0\n",
      "Train -  Loss: 0.2691304087638855. Accuracy: 90.59701492537313\n",
      "\n"
     ]
    },
    {
     "name": "stderr",
     "output_type": "stream",
     "text": [
      "Training Epochs:   9%|▉         | 1889/20001 [00:00<00:05, 3366.77it/s]"
     ]
    },
    {
     "name": "stdout",
     "output_type": "stream",
     "text": [
      "Iteration: 1500. \n",
      "Test - Loss: 0.25567081570625305. Accuracy: 90.0\n",
      "Train -  Loss: 0.2463570237159729. Accuracy: 90.59701492537313\n",
      "\n",
      "Iteration: 2000. \n",
      "Test - Loss: 0.24310356378555298. Accuracy: 90.0\n",
      "Train -  Loss: 0.23551185429096222. Accuracy: 90.59701492537313\n",
      "\n"
     ]
    },
    {
     "name": "stderr",
     "output_type": "stream",
     "text": [
      "Training Epochs:  14%|█▍        | 2895/20001 [00:00<00:05, 3149.73it/s]"
     ]
    },
    {
     "name": "stdout",
     "output_type": "stream",
     "text": [
      "Iteration: 2500. \n",
      "Test - Loss: 0.2353217899799347. Accuracy: 90.0\n",
      "Train -  Loss: 0.22883640229701996. Accuracy: 90.59701492537313\n",
      "\n",
      "Iteration: 3000. \n",
      "Test - Loss: 0.22886121273040771. Accuracy: 90.0\n",
      "Train -  Loss: 0.22331993281841278. Accuracy: 90.59701492537313\n",
      "\n"
     ]
    },
    {
     "name": "stderr",
     "output_type": "stream",
     "text": [
      "Training Epochs:  20%|█▉        | 3983/20001 [00:01<00:04, 3457.12it/s]"
     ]
    },
    {
     "name": "stdout",
     "output_type": "stream",
     "text": [
      "Iteration: 3500. \n",
      "Test - Loss: 0.2223956286907196. Accuracy: 90.0\n",
      "Train -  Loss: 0.21780316531658173. Accuracy: 90.59701492537313\n",
      "\n",
      "Iteration: 4000. \n",
      "Test - Loss: 0.214891254901886. Accuracy: 90.0\n",
      "Train -  Loss: 0.21139635145664215. Accuracy: 90.59701492537313\n",
      "\n"
     ]
    },
    {
     "name": "stderr",
     "output_type": "stream",
     "text": [
      "Training Epochs:  25%|██▌       | 5093/20001 [00:01<00:04, 3595.84it/s]"
     ]
    },
    {
     "name": "stdout",
     "output_type": "stream",
     "text": [
      "Iteration: 4500. \n",
      "Test - Loss: 0.2070831060409546. Accuracy: 90.0\n",
      "Train -  Loss: 0.20483434200286865. Accuracy: 90.59701492537313\n",
      "\n",
      "Iteration: 5000. \n",
      "Test - Loss: 0.20091842114925385. Accuracy: 90.0\n",
      "Train -  Loss: 0.19980116188526154. Accuracy: 90.59701492537313\n",
      "\n"
     ]
    },
    {
     "name": "stderr",
     "output_type": "stream",
     "text": [
      "Training Epochs:  31%|███       | 6183/20001 [00:01<00:03, 3520.27it/s]"
     ]
    },
    {
     "name": "stdout",
     "output_type": "stream",
     "text": [
      "Iteration: 5500. \n",
      "Test - Loss: 0.19656115770339966. Accuracy: 90.0\n",
      "Train -  Loss: 0.1962958425283432. Accuracy: 90.59701492537313\n",
      "\n",
      "Iteration: 6000. \n",
      "Test - Loss: 0.1930350512266159. Accuracy: 90.0\n",
      "Train -  Loss: 0.1935557872056961. Accuracy: 90.59701492537313\n",
      "\n"
     ]
    },
    {
     "name": "stderr",
     "output_type": "stream",
     "text": [
      "Training Epochs:  35%|███▍      | 6914/20001 [00:02<00:05, 2541.79it/s]"
     ]
    },
    {
     "name": "stdout",
     "output_type": "stream",
     "text": [
      "Iteration: 6500. \n",
      "Test - Loss: 0.18954572081565857. Accuracy: 89.6969696969697\n",
      "Train -  Loss: 0.19127440452575684. Accuracy: 90.14925373134328\n",
      "\n",
      "Iteration: 7000. \n",
      "Test - Loss: 0.18652766942977905. Accuracy: 89.39393939393939\n",
      "Train -  Loss: 0.18950708210468292. Accuracy: 89.55223880597015\n",
      "\n"
     ]
    },
    {
     "name": "stderr",
     "output_type": "stream",
     "text": [
      "Training Epochs:  40%|███▉      | 7980/20001 [00:02<00:03, 3054.72it/s]"
     ]
    },
    {
     "name": "stdout",
     "output_type": "stream",
     "text": [
      "Iteration: 7500. \n",
      "Test - Loss: 0.18406963348388672. Accuracy: 89.39393939393939\n",
      "Train -  Loss: 0.18794035911560059. Accuracy: 89.55223880597015\n",
      "\n",
      "Iteration: 8000. \n",
      "Test - Loss: 0.1814611405134201. Accuracy: 89.39393939393939\n",
      "Train -  Loss: 0.18604570627212524. Accuracy: 90.29850746268657\n",
      "\n"
     ]
    },
    {
     "name": "stderr",
     "output_type": "stream",
     "text": [
      "Training Epochs:  46%|████▌     | 9120/20001 [00:02<00:03, 3522.89it/s]"
     ]
    },
    {
     "name": "stdout",
     "output_type": "stream",
     "text": [
      "Iteration: 8500. \n",
      "Test - Loss: 0.17675694823265076. Accuracy: 90.0\n",
      "Train -  Loss: 0.1821819692850113. Accuracy: 90.59701492537313\n",
      "\n",
      "Iteration: 9000. \n",
      "Test - Loss: 0.1651662290096283. Accuracy: 90.0\n",
      "Train -  Loss: 0.1719345599412918. Accuracy: 91.19402985074628\n",
      "\n"
     ]
    },
    {
     "name": "stderr",
     "output_type": "stream",
     "text": [
      "Training Epochs:  49%|████▉     | 9854/20001 [00:03<00:03, 3342.56it/s]"
     ]
    },
    {
     "name": "stdout",
     "output_type": "stream",
     "text": [
      "Iteration: 9500. \n",
      "Test - Loss: 0.12943267822265625. Accuracy: 95.45454545454545\n",
      "Train -  Loss: 0.13845126330852509. Accuracy: 94.77611940298507\n",
      "\n",
      "Iteration: 10000. \n",
      "Test - Loss: 0.09918742626905441. Accuracy: 97.57575757575758\n",
      "Train -  Loss: 0.10477945953607559. Accuracy: 96.71641791044776\n",
      "\n"
     ]
    },
    {
     "name": "stderr",
     "output_type": "stream",
     "text": [
      "Training Epochs:  53%|█████▎    | 10577/20001 [00:03<00:02, 3433.82it/s]"
     ]
    },
    {
     "name": "stdout",
     "output_type": "stream",
     "text": [
      "Iteration: 10500. \n",
      "Test - Loss: 0.08797496557235718. Accuracy: 97.57575757575758\n",
      "Train -  Loss: 0.08941368013620377. Accuracy: 97.31343283582089\n",
      "\n"
     ]
    },
    {
     "name": "stderr",
     "output_type": "stream",
     "text": [
      "Training Epochs:  58%|█████▊    | 11659/20001 [00:03<00:03, 2679.50it/s]"
     ]
    },
    {
     "name": "stdout",
     "output_type": "stream",
     "text": [
      "Iteration: 11000. \n",
      "Test - Loss: 0.08279456943273544. Accuracy: 97.57575757575758\n",
      "Train -  Loss: 0.08100532740354538. Accuracy: 97.46268656716418\n",
      "\n",
      "Iteration: 11500. \n",
      "Test - Loss: 0.07956528663635254. Accuracy: 97.57575757575758\n",
      "Train -  Loss: 0.07555409520864487. Accuracy: 97.61194029850746\n",
      "\n"
     ]
    },
    {
     "name": "stderr",
     "output_type": "stream",
     "text": [
      "Training Epochs:  62%|██████▏   | 12354/20001 [00:04<00:02, 2921.84it/s]"
     ]
    },
    {
     "name": "stdout",
     "output_type": "stream",
     "text": [
      "Iteration: 12000. \n",
      "Test - Loss: 0.0770367830991745. Accuracy: 97.57575757575758\n",
      "Train -  Loss: 0.07154961675405502. Accuracy: 97.76119402985074\n",
      "\n",
      "Iteration: 12500. \n",
      "Test - Loss: 0.0748642235994339. Accuracy: 97.57575757575758\n",
      "Train -  Loss: 0.06834616512060165. Accuracy: 97.76119402985074\n",
      "\n"
     ]
    },
    {
     "name": "stderr",
     "output_type": "stream",
     "text": [
      "Training Epochs:  67%|██████▋   | 13323/20001 [00:04<00:02, 2952.90it/s]"
     ]
    },
    {
     "name": "stdout",
     "output_type": "stream",
     "text": [
      "Iteration: 13000. \n",
      "Test - Loss: 0.07294382899999619. Accuracy: 97.57575757575758\n",
      "Train -  Loss: 0.06562888622283936. Accuracy: 97.76119402985074\n",
      "\n",
      "Iteration: 13500. \n",
      "Test - Loss: 0.07122064381837845. Accuracy: 97.57575757575758\n",
      "Train -  Loss: 0.06322018057107925. Accuracy: 97.91044776119404\n",
      "\n"
     ]
    },
    {
     "name": "stderr",
     "output_type": "stream",
     "text": [
      "Training Epochs:  71%|███████▏  | 14292/20001 [00:04<00:01, 2983.84it/s]"
     ]
    },
    {
     "name": "stdout",
     "output_type": "stream",
     "text": [
      "Iteration: 14000. \n",
      "Test - Loss: 0.06965001672506332. Accuracy: 97.57575757575758\n",
      "Train -  Loss: 0.0610099621117115. Accuracy: 98.05970149253731\n",
      "\n",
      "Iteration: 14500. \n",
      "Test - Loss: 0.0681922659277916. Accuracy: 97.57575757575758\n",
      "Train -  Loss: 0.0589279867708683. Accuracy: 98.05970149253731\n",
      "\n"
     ]
    },
    {
     "name": "stderr",
     "output_type": "stream",
     "text": [
      "Training Epochs:  78%|███████▊  | 15513/20001 [00:05<00:01, 2684.60it/s]"
     ]
    },
    {
     "name": "stdout",
     "output_type": "stream",
     "text": [
      "Iteration: 15000. \n",
      "Test - Loss: 0.06680931150913239. Accuracy: 97.57575757575758\n",
      "Train -  Loss: 0.05692993849515915. Accuracy: 98.05970149253731\n",
      "\n",
      "Iteration: 15500. \n",
      "Test - Loss: 0.0654584988951683. Accuracy: 97.57575757575758\n",
      "Train -  Loss: 0.054988980293273926. Accuracy: 98.05970149253731\n",
      "\n"
     ]
    },
    {
     "name": "stderr",
     "output_type": "stream",
     "text": [
      "Training Epochs:  82%|████████▏ | 16404/20001 [00:05<00:01, 2661.56it/s]"
     ]
    },
    {
     "name": "stdout",
     "output_type": "stream",
     "text": [
      "Iteration: 16000. \n",
      "Test - Loss: 0.06409585475921631. Accuracy: 97.57575757575758\n",
      "Train -  Loss: 0.05309145525097847. Accuracy: 98.05970149253731\n",
      "\n",
      "Iteration: 16500. \n",
      "Test - Loss: 0.06269193440675735. Accuracy: 97.57575757575758\n",
      "Train -  Loss: 0.051234789192676544. Accuracy: 98.35820895522389\n",
      "\n"
     ]
    },
    {
     "name": "stderr",
     "output_type": "stream",
     "text": [
      "Training Epochs:  86%|████████▋ | 17294/20001 [00:05<00:01, 2690.71it/s]"
     ]
    },
    {
     "name": "stdout",
     "output_type": "stream",
     "text": [
      "Iteration: 17000. \n",
      "Test - Loss: 0.06123943254351616. Accuracy: 97.57575757575758\n",
      "Train -  Loss: 0.04942312836647034. Accuracy: 98.50746268656717\n",
      "\n",
      "Iteration: 17500. \n",
      "Test - Loss: 0.05974498391151428. Accuracy: 97.57575757575758\n",
      "Train -  Loss: 0.0476619154214859. Accuracy: 98.50746268656717\n",
      "\n"
     ]
    },
    {
     "name": "stderr",
     "output_type": "stream",
     "text": [
      "Training Epochs:  93%|█████████▎| 18521/20001 [00:06<00:00, 2860.43it/s]"
     ]
    },
    {
     "name": "stdout",
     "output_type": "stream",
     "text": [
      "Iteration: 18000. \n",
      "Test - Loss: 0.0582154355943203. Accuracy: 98.18181818181819\n",
      "Train -  Loss: 0.04595702514052391. Accuracy: 98.50746268656717\n",
      "\n",
      "Iteration: 18500. \n",
      "Test - Loss: 0.05665825307369232. Accuracy: 98.18181818181819\n",
      "Train -  Loss: 0.04431630298495293. Accuracy: 98.95522388059702\n",
      "\n"
     ]
    },
    {
     "name": "stderr",
     "output_type": "stream",
     "text": [
      "Training Epochs:  96%|█████████▌| 19171/20001 [00:06<00:00, 3049.26it/s]"
     ]
    },
    {
     "name": "stdout",
     "output_type": "stream",
     "text": [
      "Iteration: 19000. \n",
      "Test - Loss: 0.05508795008063316. Accuracy: 98.18181818181819\n",
      "Train -  Loss: 0.042746637016534805. Accuracy: 99.1044776119403\n",
      "\n"
     ]
    },
    {
     "name": "stderr",
     "output_type": "stream",
     "text": [
      "Training Epochs: 100%|██████████| 20001/20001 [00:06<00:00, 2868.87it/s]\n"
     ]
    },
    {
     "name": "stdout",
     "output_type": "stream",
     "text": [
      "Iteration: 19500. \n",
      "Test - Loss: 0.05352405831217766. Accuracy: 98.18181818181819\n",
      "Train -  Loss: 0.04124997928738594. Accuracy: 99.40298507462687\n",
      "\n",
      "Iteration: 20000. \n",
      "Test - Loss: 0.051980555057525635. Accuracy: 98.18181818181819\n",
      "Train -  Loss: 0.039828136563301086. Accuracy: 99.40298507462687\n",
      "\n"
     ]
    },
    {
     "data": {
      "image/png": "[encoded data removed]",
      "text/plain": [
       "<Figure size 1000x500 with 2 Axes>"
      ]
     },
     "metadata": {},
     "output_type": "display_data"
    },
    {
     "name": "stderr",
     "output_type": "stream",
     "text": [
      "Training Epochs:   5%|▌         | 1075/20001 [00:00<00:05, 3308.89it/s]"
     ]
    },
    {
     "name": "stdout",
     "output_type": "stream",
     "text": [
      "Iteration: 500. \n",
      "Test - Loss: 0.277328759431839. Accuracy: 90.0\n",
      "Train -  Loss: 0.2661900222301483. Accuracy: 90.59701492537313\n",
      "\n",
      "Iteration: 1000. \n",
      "Test - Loss: 0.2531489133834839. Accuracy: 90.0\n",
      "Train -  Loss: 0.24294771254062653. Accuracy: 90.59701492537313\n",
      "\n"
     ]
    },
    {
     "name": "stderr",
     "output_type": "stream",
     "text": [
      "Training Epochs:  11%|█         | 2148/20001 [00:00<00:05, 3508.22it/s]"
     ]
    },
    {
     "name": "stdout",
     "output_type": "stream",
     "text": [
      "Iteration: 1500. \n",
      "Test - Loss: 0.2355537861585617. Accuracy: 90.0\n",
      "Train -  Loss: 0.22404907643795013. Accuracy: 90.59701492537313\n",
      "\n",
      "Iteration: 2000. \n",
      "Test - Loss: 0.21829697489738464. Accuracy: 90.0\n",
      "Train -  Loss: 0.20174232125282288. Accuracy: 90.59701492537313\n",
      "\n"
     ]
    },
    {
     "name": "stderr",
     "output_type": "stream",
     "text": [
      "Training Epochs:  14%|█▍        | 2838/20001 [00:00<00:05, 3301.99it/s]"
     ]
    },
    {
     "name": "stdout",
     "output_type": "stream",
     "text": [
      "Iteration: 2500. \n",
      "Test - Loss: 0.20818807184696198. Accuracy: 90.0\n",
      "Train -  Loss: 0.1864931881427765. Accuracy: 90.59701492537313\n",
      "\n",
      "Iteration: 3000. \n",
      "Test - Loss: 0.20310941338539124. Accuracy: 89.0909090909091\n",
      "Train -  Loss: 0.17764227092266083. Accuracy: 90.44776119402985\n",
      "\n"
     ]
    },
    {
     "name": "stderr",
     "output_type": "stream",
     "text": [
      "Training Epochs:  19%|█▉        | 3898/20001 [00:01<00:04, 3375.05it/s]"
     ]
    },
    {
     "name": "stdout",
     "output_type": "stream",
     "text": [
      "Iteration: 3500. \n",
      "Test - Loss: 0.19974127411842346. Accuracy: 88.18181818181819\n",
      "Train -  Loss: 0.1719292402267456. Accuracy: 90.14925373134328\n",
      "\n",
      "Iteration: 4000. \n",
      "Test - Loss: 0.196290984749794. Accuracy: 89.6969696969697\n",
      "Train -  Loss: 0.16743247210979462. Accuracy: 91.04477611940298\n",
      "\n"
     ]
    },
    {
     "name": "stderr",
     "output_type": "stream",
     "text": [
      "Training Epochs:  25%|██▍       | 4951/20001 [00:01<00:04, 3314.31it/s]"
     ]
    },
    {
     "name": "stdout",
     "output_type": "stream",
     "text": [
      "Iteration: 4500. \n",
      "Test - Loss: 0.1917741447687149. Accuracy: 91.21212121212122\n",
      "Train -  Loss: 0.16298657655715942. Accuracy: 91.64179104477611\n",
      "\n",
      "Iteration: 5000. \n",
      "Test - Loss: 0.1854502111673355. Accuracy: 92.12121212121212\n",
      "Train -  Loss: 0.15765389800071716. Accuracy: 92.83582089552239\n",
      "\n"
     ]
    },
    {
     "name": "stderr",
     "output_type": "stream",
     "text": [
      "Training Epochs:  30%|██▉       | 5992/20001 [00:01<00:04, 3180.35it/s]"
     ]
    },
    {
     "name": "stdout",
     "output_type": "stream",
     "text": [
      "Iteration: 5500. \n",
      "Test - Loss: 0.1740294247865677. Accuracy: 93.33333333333333\n",
      "Train -  Loss: 0.14824798703193665. Accuracy: 94.6268656716418\n",
      "\n",
      "Iteration: 6000. \n",
      "Test - Loss: 0.1462213546037674. Accuracy: 94.54545454545455\n",
      "Train -  Loss: 0.12440895289182663. Accuracy: 95.07462686567165\n",
      "\n"
     ]
    },
    {
     "name": "stderr",
     "output_type": "stream",
     "text": [
      "Training Epochs:  34%|███▍      | 6821/20001 [00:02<00:06, 2174.44it/s]"
     ]
    },
    {
     "name": "stdout",
     "output_type": "stream",
     "text": [
      "Iteration: 6500. \n",
      "Test - Loss: 0.11922912299633026. Accuracy: 96.06060606060606\n",
      "Train -  Loss: 0.1024014800786972. Accuracy: 96.56716417910448\n",
      "\n"
     ]
    },
    {
     "name": "stderr",
     "output_type": "stream",
     "text": [
      "Training Epochs:  37%|███▋      | 7445/20001 [00:02<00:04, 2615.69it/s]"
     ]
    },
    {
     "name": "stdout",
     "output_type": "stream",
     "text": [
      "Iteration: 7000. \n",
      "Test - Loss: 0.1021624356508255. Accuracy: 96.96969696969697\n",
      "Train -  Loss: 0.08911064267158508. Accuracy: 96.71641791044776\n",
      "\n",
      "Iteration: 7500. \n",
      "Test - Loss: 0.09137263894081116. Accuracy: 97.57575757575758\n",
      "Train -  Loss: 0.08063630759716034. Accuracy: 97.31343283582089\n",
      "\n"
     ]
    },
    {
     "name": "stderr",
     "output_type": "stream",
     "text": [
      "Training Epochs:  42%|████▏     | 8418/20001 [00:02<00:03, 3037.13it/s]"
     ]
    },
    {
     "name": "stdout",
     "output_type": "stream",
     "text": [
      "Iteration: 8000. \n",
      "Test - Loss: 0.08429867774248123. Accuracy: 97.57575757575758\n",
      "Train -  Loss: 0.07474930584430695. Accuracy: 97.46268656716418\n",
      "\n",
      "Iteration: 8500. \n",
      "Test - Loss: 0.07941184192895889. Accuracy: 97.57575757575758\n",
      "Train -  Loss: 0.07029204070568085. Accuracy: 97.61194029850746\n",
      "\n"
     ]
    },
    {
     "name": "stderr",
     "output_type": "stream",
     "text": [
      "Training Epochs:  47%|████▋     | 9388/20001 [00:03<00:03, 3035.52it/s]"
     ]
    },
    {
     "name": "stdout",
     "output_type": "stream",
     "text": [
      "Iteration: 9000. \n",
      "Test - Loss: 0.07582630217075348. Accuracy: 97.57575757575758\n",
      "Train -  Loss: 0.06665778905153275. Accuracy: 97.76119402985074\n",
      "\n",
      "Iteration: 9500. \n",
      "Test - Loss: 0.07303253561258316. Accuracy: 97.57575757575758\n",
      "Train -  Loss: 0.06352458894252777. Accuracy: 97.76119402985074\n",
      "\n"
     ]
    },
    {
     "name": "stderr",
     "output_type": "stream",
     "text": [
      "Training Epochs:  52%|█████▏    | 10421/20001 [00:03<00:03, 3163.82it/s]"
     ]
    },
    {
     "name": "stdout",
     "output_type": "stream",
     "text": [
      "Iteration: 10000. \n",
      "Test - Loss: 0.0707259476184845. Accuracy: 97.57575757575758\n",
      "Train -  Loss: 0.06071729585528374. Accuracy: 97.76119402985074\n",
      "\n",
      "Iteration: 10500. \n",
      "Test - Loss: 0.06871144473552704. Accuracy: 97.57575757575758\n",
      "Train -  Loss: 0.058141134679317474. Accuracy: 97.76119402985074\n",
      "\n"
     ]
    },
    {
     "name": "stderr",
     "output_type": "stream",
     "text": [
      "Training Epochs:  58%|█████▊    | 11509/20001 [00:03<00:02, 3511.11it/s]"
     ]
    },
    {
     "name": "stdout",
     "output_type": "stream",
     "text": [
      "Iteration: 11000. \n",
      "Test - Loss: 0.06685611605644226. Accuracy: 97.57575757575758\n",
      "Train -  Loss: 0.05574808269739151. Accuracy: 98.35820895522389\n",
      "\n",
      "Iteration: 11500. \n",
      "Test - Loss: 0.06507530808448792. Accuracy: 97.57575757575758\n",
      "Train -  Loss: 0.053513798862695694. Accuracy: 98.50746268656717\n",
      "\n"
     ]
    },
    {
     "name": "stderr",
     "output_type": "stream",
     "text": [
      "Training Epochs:  61%|██████▏   | 12268/20001 [00:03<00:02, 3659.74it/s]"
     ]
    },
    {
     "name": "stdout",
     "output_type": "stream",
     "text": [
      "Iteration: 12000. \n",
      "Test - Loss: 0.0633305013179779. Accuracy: 97.57575757575758\n",
      "Train -  Loss: 0.05142028629779816. Accuracy: 98.50746268656717\n",
      "\n",
      "Iteration: 12500. \n",
      "Test - Loss: 0.06161241978406906. Accuracy: 97.87878787878788\n",
      "Train -  Loss: 0.04945053160190582. Accuracy: 98.50746268656717\n",
      "\n"
     ]
    },
    {
     "name": "stderr",
     "output_type": "stream",
     "text": [
      "Training Epochs:  65%|██████▍   | 12978/20001 [00:04<00:02, 2670.64it/s]"
     ]
    },
    {
     "name": "stdout",
     "output_type": "stream",
     "text": [
      "Iteration: 13000. \n",
      "Test - Loss: 0.059915971010923386. Accuracy: 97.87878787878788\n",
      "Train -  Loss: 0.04759208858013153. Accuracy: 98.65671641791045\n",
      "\n"
     ]
    },
    {
     "name": "stderr",
     "output_type": "stream",
     "text": [
      "Training Epochs:  70%|██████▉   | 13979/20001 [00:04<00:02, 2458.27it/s]"
     ]
    },
    {
     "name": "stdout",
     "output_type": "stream",
     "text": [
      "Iteration: 13500. \n",
      "Test - Loss: 0.05823536589741707. Accuracy: 97.87878787878788\n",
      "Train -  Loss: 0.0458383709192276. Accuracy: 98.80597014925372\n",
      "\n",
      "Iteration: 14000. \n",
      "Test - Loss: 0.05657423287630081. Accuracy: 97.87878787878788\n",
      "Train -  Loss: 0.04418245702981949. Accuracy: 98.80597014925372\n",
      "\n"
     ]
    },
    {
     "name": "stderr",
     "output_type": "stream",
     "text": [
      "Training Epochs:  75%|███████▍  | 14994/20001 [00:05<00:01, 3001.46it/s]"
     ]
    },
    {
     "name": "stdout",
     "output_type": "stream",
     "text": [
      "Iteration: 14500. \n",
      "Test - Loss: 0.05494453012943268. Accuracy: 97.87878787878788\n",
      "Train -  Loss: 0.042615100741386414. Accuracy: 99.25373134328358\n",
      "\n",
      "Iteration: 15000. \n",
      "Test - Loss: 0.053352240473032. Accuracy: 98.18181818181819\n",
      "Train -  Loss: 0.0411309078335762. Accuracy: 99.25373134328358\n",
      "\n"
     ]
    },
    {
     "name": "stderr",
     "output_type": "stream",
     "text": [
      "Training Epochs:  81%|████████  | 16122/20001 [00:05<00:01, 3349.63it/s]"
     ]
    },
    {
     "name": "stdout",
     "output_type": "stream",
     "text": [
      "Iteration: 15500. \n",
      "Test - Loss: 0.05180105194449425. Accuracy: 98.48484848484848\n",
      "Train -  Loss: 0.039729874581098557. Accuracy: 99.55223880597015\n",
      "\n",
      "Iteration: 16000. \n",
      "Test - Loss: 0.050297074019908905. Accuracy: 98.48484848484848\n",
      "Train -  Loss: 0.03841305151581764. Accuracy: 99.55223880597015\n",
      "\n"
     ]
    },
    {
     "name": "stderr",
     "output_type": "stream",
     "text": [
      "Training Epochs:  86%|████████▌ | 17190/20001 [00:05<00:00, 3434.00it/s]"
     ]
    },
    {
     "name": "stdout",
     "output_type": "stream",
     "text": [
      "Iteration: 16500. \n",
      "Test - Loss: 0.04884808883070946. Accuracy: 98.48484848484848\n",
      "Train -  Loss: 0.0371798574924469. Accuracy: 99.70149253731343\n",
      "\n",
      "Iteration: 17000. \n",
      "Test - Loss: 0.04746008291840553. Accuracy: 98.48484848484848\n",
      "Train -  Loss: 0.03602807596325874. Accuracy: 99.70149253731343\n",
      "\n"
     ]
    },
    {
     "name": "stderr",
     "output_type": "stream",
     "text": [
      "Training Epochs:  89%|████████▉ | 17885/20001 [00:05<00:00, 3260.23it/s]"
     ]
    },
    {
     "name": "stdout",
     "output_type": "stream",
     "text": [
      "Iteration: 17500. \n",
      "Test - Loss: 0.04613885283470154. Accuracy: 98.48484848484848\n",
      "Train -  Loss: 0.03495543822646141. Accuracy: 99.85074626865672\n",
      "\n",
      "Iteration: 18000. \n",
      "Test - Loss: 0.04488816112279892. Accuracy: 98.48484848484848\n",
      "Train -  Loss: 0.03395972028374672. Accuracy: 99.85074626865672\n",
      "\n"
     ]
    },
    {
     "name": "stderr",
     "output_type": "stream",
     "text": [
      "Training Epochs:  95%|█████████▍| 18968/20001 [00:06<00:00, 3393.24it/s]"
     ]
    },
    {
     "name": "stdout",
     "output_type": "stream",
     "text": [
      "Iteration: 18500. \n",
      "Test - Loss: 0.04371079057455063. Accuracy: 98.48484848484848\n",
      "Train -  Loss: 0.033038508147001266. Accuracy: 99.85074626865672\n",
      "\n",
      "Iteration: 19000. \n",
      "Test - Loss: 0.04260757938027382. Accuracy: 98.78787878787878\n",
      "Train -  Loss: 0.03218865767121315. Accuracy: 99.85074626865672\n",
      "\n"
     ]
    },
    {
     "name": "stderr",
     "output_type": "stream",
     "text": [
      "Training Epochs: 100%|██████████| 20001/20001 [00:06<00:00, 2917.40it/s]"
     ]
    },
    {
     "name": "stdout",
     "output_type": "stream",
     "text": [
      "Iteration: 19500. \n",
      "Test - Loss: 0.04157697409391403. Accuracy: 98.78787878787878\n",
      "Train -  Loss: 0.031406015157699585. Accuracy: 99.85074626865672\n",
      "\n",
      "Iteration: 20000. \n",
      "Test - Loss: 0.04061545059084892. Accuracy: 98.78787878787878\n",
      "Train -  Loss: 0.0306857917457819. Accuracy: 99.85074626865672\n",
      "\n"
     ]
    },
    {
     "name": "stderr",
     "output_type": "stream",
     "text": [
      "\n"
     ]
    },
    {
     "data": {
      "image/png": "[encoded data removed]",
      "text/plain": [
       "<Figure size 1000x500 with 2 Axes>"
      ]
     },
     "metadata": {},
     "output_type": "display_data"
    },
    {
     "name": "stderr",
     "output_type": "stream",
     "text": [
      "Training Epochs:   3%|▎         | 601/20001 [00:00<00:06, 3043.44it/s]"
     ]
    },
    {
     "name": "stdout",
     "output_type": "stream",
     "text": [
      "Iteration: 500. \n",
      "Test - Loss: 0.2807900905609131. Accuracy: 90.0\n",
      "Train -  Loss: 0.2686949074268341. Accuracy: 90.59701492537313\n",
      "\n"
     ]
    },
    {
     "name": "stderr",
     "output_type": "stream",
     "text": [
      "Training Epochs:   8%|▊         | 1567/20001 [00:00<00:07, 2393.23it/s]"
     ]
    },
    {
     "name": "stdout",
     "output_type": "stream",
     "text": [
      "Iteration: 1000. \n",
      "Test - Loss: 0.2563183903694153. Accuracy: 90.0\n",
      "Train -  Loss: 0.24698147177696228. Accuracy: 90.59701492537313\n",
      "\n",
      "Iteration: 1500. \n",
      "Test - Loss: 0.24492678046226501. Accuracy: 90.0\n",
      "Train -  Loss: 0.23720312118530273. Accuracy: 90.59701492537313\n",
      "\n"
     ]
    },
    {
     "name": "stderr",
     "output_type": "stream",
     "text": [
      "Training Epochs:  13%|█▎        | 2644/20001 [00:00<00:05, 3079.58it/s]"
     ]
    },
    {
     "name": "stdout",
     "output_type": "stream",
     "text": [
      "Iteration: 2000. \n",
      "Test - Loss: 0.23654116690158844. Accuracy: 90.0\n",
      "Train -  Loss: 0.22998832166194916. Accuracy: 90.59701492537313\n",
      "\n",
      "Iteration: 2500. \n",
      "Test - Loss: 0.2252754420042038. Accuracy: 90.0\n",
      "Train -  Loss: 0.22033905982971191. Accuracy: 90.59701492537313\n",
      "\n"
     ]
    },
    {
     "name": "stderr",
     "output_type": "stream",
     "text": [
      "Training Epochs:  17%|█▋        | 3376/20001 [00:01<00:04, 3367.90it/s]"
     ]
    },
    {
     "name": "stdout",
     "output_type": "stream",
     "text": [
      "Iteration: 3000. \n",
      "Test - Loss: 0.20187444984912872. Accuracy: 90.0\n",
      "Train -  Loss: 0.2003459930419922. Accuracy: 90.59701492537313\n",
      "\n",
      "Iteration: 3500. \n",
      "Test - Loss: 0.16303715109825134. Accuracy: 90.0\n",
      "Train -  Loss: 0.16477853059768677. Accuracy: 90.59701492537313\n",
      "\n"
     ]
    },
    {
     "name": "stderr",
     "output_type": "stream",
     "text": [
      "Training Epochs:  22%|██▏       | 4419/20001 [00:01<00:06, 2475.84it/s]"
     ]
    },
    {
     "name": "stdout",
     "output_type": "stream",
     "text": [
      "Iteration: 4000. \n",
      "Test - Loss: 0.13047556579113007. Accuracy: 94.54545454545455\n",
      "Train -  Loss: 0.1320125013589859. Accuracy: 94.77611940298507\n",
      "\n",
      "Iteration: 4500. \n",
      "Test - Loss: 0.11040224134922028. Accuracy: 96.96969696969697\n",
      "Train -  Loss: 0.1102604791522026. Accuracy: 96.26865671641791\n",
      "\n"
     ]
    },
    {
     "name": "stderr",
     "output_type": "stream",
     "text": [
      "Training Epochs:  26%|██▌       | 5156/20001 [00:01<00:04, 2973.59it/s]"
     ]
    },
    {
     "name": "stdout",
     "output_type": "stream",
     "text": [
      "Iteration: 5000. \n",
      "Test - Loss: 0.09833543747663498. Accuracy: 96.96969696969697\n",
      "Train -  Loss: 0.09642773866653442. Accuracy: 97.31343283582089\n",
      "\n"
     ]
    },
    {
     "name": "stderr",
     "output_type": "stream",
     "text": [
      "Training Epochs:  30%|███       | 6058/20001 [00:02<00:08, 1582.96it/s]"
     ]
    },
    {
     "name": "stdout",
     "output_type": "stream",
     "text": [
      "Iteration: 5500. \n",
      "Test - Loss: 0.09059847891330719. Accuracy: 96.96969696969697\n",
      "Train -  Loss: 0.08727039396762848. Accuracy: 97.01492537313433\n",
      "\n",
      "Iteration: 6000. \n",
      "Test - Loss: 0.0852568969130516. Accuracy: 97.27272727272727\n",
      "Train -  Loss: 0.08086922764778137. Accuracy: 96.86567164179104\n",
      "\n"
     ]
    },
    {
     "name": "stderr",
     "output_type": "stream",
     "text": [
      "Training Epochs:  36%|███▌      | 7152/20001 [00:03<00:04, 2608.54it/s]"
     ]
    },
    {
     "name": "stdout",
     "output_type": "stream",
     "text": [
      "Iteration: 6500. \n",
      "Test - Loss: 0.08134686201810837. Accuracy: 97.27272727272727\n",
      "Train -  Loss: 0.07615687698125839. Accuracy: 97.16417910447761\n",
      "\n",
      "Iteration: 7000. \n",
      "Test - Loss: 0.07836363464593887. Accuracy: 97.27272727272727\n",
      "Train -  Loss: 0.0725274533033371. Accuracy: 97.46268656716418\n",
      "\n"
     ]
    },
    {
     "name": "stderr",
     "output_type": "stream",
     "text": [
      "Training Epochs:  41%|████      | 8192/20001 [00:03<00:03, 3034.50it/s]"
     ]
    },
    {
     "name": "stdout",
     "output_type": "stream",
     "text": [
      "Iteration: 7500. \n",
      "Test - Loss: 0.07601405680179596. Accuracy: 97.27272727272727\n",
      "Train -  Loss: 0.06961789727210999. Accuracy: 97.46268656716418\n",
      "\n",
      "Iteration: 8000. \n",
      "Test - Loss: 0.07410931587219238. Accuracy: 97.27272727272727\n",
      "Train -  Loss: 0.0671987310051918. Accuracy: 97.61194029850746\n",
      "\n"
     ]
    },
    {
     "name": "stderr",
     "output_type": "stream",
     "text": [
      "Training Epochs:  44%|████▍     | 8869/20001 [00:03<00:03, 3123.95it/s]"
     ]
    },
    {
     "name": "stdout",
     "output_type": "stream",
     "text": [
      "Iteration: 8500. \n",
      "Test - Loss: 0.07251931726932526. Accuracy: 97.27272727272727\n",
      "Train -  Loss: 0.0651199147105217. Accuracy: 97.61194029850746\n",
      "\n",
      "Iteration: 9000. \n",
      "Test - Loss: 0.07115146517753601. Accuracy: 97.27272727272727\n",
      "Train -  Loss: 0.06328129768371582. Accuracy: 97.61194029850746\n",
      "\n"
     ]
    },
    {
     "name": "stderr",
     "output_type": "stream",
     "text": [
      "Training Epochs:  49%|████▉     | 9781/20001 [00:04<00:04, 2519.51it/s]"
     ]
    },
    {
     "name": "stdout",
     "output_type": "stream",
     "text": [
      "Iteration: 9500. \n",
      "Test - Loss: 0.06993924826383591. Accuracy: 97.27272727272727\n",
      "Train -  Loss: 0.0616142675280571. Accuracy: 97.61194029850746\n",
      "\n"
     ]
    },
    {
     "name": "stderr",
     "output_type": "stream",
     "text": [
      "Training Epochs:  51%|█████▏    | 10276/20001 [00:04<00:05, 1900.69it/s]"
     ]
    },
    {
     "name": "stdout",
     "output_type": "stream",
     "text": [
      "Iteration: 10000. \n",
      "Test - Loss: 0.06883510947227478. Accuracy: 97.27272727272727\n",
      "Train -  Loss: 0.060069743543863297. Accuracy: 97.61194029850746\n",
      "\n",
      "Iteration: 10500. \n",
      "Test - Loss: 0.06780514866113663. Accuracy: 97.27272727272727\n",
      "Train -  Loss: 0.058610137552022934. Accuracy: 97.61194029850746\n",
      "\n"
     ]
    },
    {
     "name": "stderr",
     "output_type": "stream",
     "text": [
      "Training Epochs:  58%|█████▊    | 11671/20001 [00:04<00:02, 2989.76it/s]"
     ]
    },
    {
     "name": "stdout",
     "output_type": "stream",
     "text": [
      "Iteration: 11000. \n",
      "Test - Loss: 0.06682371348142624. Accuracy: 97.27272727272727\n",
      "Train -  Loss: 0.057204607874155045. Accuracy: 97.61194029850746\n",
      "\n",
      "Iteration: 11500. \n",
      "Test - Loss: 0.06586982309818268. Accuracy: 97.57575757575758\n",
      "Train -  Loss: 0.05582693964242935. Accuracy: 97.91044776119404\n",
      "\n"
     ]
    },
    {
     "name": "stderr",
     "output_type": "stream",
     "text": [
      "Training Epochs:  62%|██████▏   | 12350/20001 [00:05<00:02, 3187.32it/s]"
     ]
    },
    {
     "name": "stdout",
     "output_type": "stream",
     "text": [
      "Iteration: 12000. \n",
      "Test - Loss: 0.06492578983306885. Accuracy: 97.57575757575758\n",
      "Train -  Loss: 0.05445539578795433. Accuracy: 97.91044776119404\n",
      "\n",
      "Iteration: 12500. \n",
      "Test - Loss: 0.06397859752178192. Accuracy: 97.57575757575758\n",
      "Train -  Loss: 0.0530737079679966. Accuracy: 97.91044776119404\n",
      "\n"
     ]
    },
    {
     "name": "stderr",
     "output_type": "stream",
     "text": [
      "Training Epochs:  67%|██████▋   | 13398/20001 [00:05<00:01, 3394.88it/s]"
     ]
    },
    {
     "name": "stdout",
     "output_type": "stream",
     "text": [
      "Iteration: 13000. \n",
      "Test - Loss: 0.06301800161600113. Accuracy: 97.57575757575758\n",
      "Train -  Loss: 0.05167091265320778. Accuracy: 98.05970149253731\n",
      "\n",
      "Iteration: 13500. \n",
      "Test - Loss: 0.0620356947183609. Accuracy: 97.57575757575758\n",
      "Train -  Loss: 0.05024034157395363. Accuracy: 98.2089552238806\n",
      "\n"
     ]
    },
    {
     "name": "stderr",
     "output_type": "stream",
     "text": [
      "Training Epochs:  72%|███████▏  | 14461/20001 [00:05<00:02, 2492.30it/s]"
     ]
    },
    {
     "name": "stdout",
     "output_type": "stream",
     "text": [
      "Iteration: 14000. \n",
      "Test - Loss: 0.06102224811911583. Accuracy: 97.57575757575758\n",
      "Train -  Loss: 0.0487804114818573. Accuracy: 98.50746268656717\n",
      "\n",
      "Iteration: 14500. \n",
      "Test - Loss: 0.059961769729852676. Accuracy: 97.57575757575758\n",
      "Train -  Loss: 0.04729268699884415. Accuracy: 98.50746268656717\n",
      "\n"
     ]
    },
    {
     "name": "stderr",
     "output_type": "stream",
     "text": [
      "Training Epochs:  77%|███████▋  | 15483/20001 [00:06<00:01, 3027.40it/s]"
     ]
    },
    {
     "name": "stdout",
     "output_type": "stream",
     "text": [
      "Iteration: 15000. \n",
      "Test - Loss: 0.058833565562963486. Accuracy: 97.57575757575758\n",
      "Train -  Loss: 0.04578232020139694. Accuracy: 98.65671641791045\n",
      "\n",
      "Iteration: 15500. \n",
      "Test - Loss: 0.057621147483587265. Accuracy: 97.57575757575758\n",
      "Train -  Loss: 0.04426140338182449. Accuracy: 98.65671641791045\n",
      "\n"
     ]
    },
    {
     "name": "stderr",
     "output_type": "stream",
     "text": [
      "Training Epochs:  82%|████████▏ | 16476/20001 [00:06<00:01, 3097.38it/s]"
     ]
    },
    {
     "name": "stdout",
     "output_type": "stream",
     "text": [
      "Iteration: 16000. \n",
      "Test - Loss: 0.05632404610514641. Accuracy: 97.57575757575758\n",
      "Train -  Loss: 0.042745694518089294. Accuracy: 98.65671641791045\n",
      "\n",
      "Iteration: 16500. \n",
      "Test - Loss: 0.05495571345090866. Accuracy: 98.18181818181819\n",
      "Train -  Loss: 0.0412503182888031. Accuracy: 98.95522388059702\n",
      "\n"
     ]
    },
    {
     "name": "stderr",
     "output_type": "stream",
     "text": [
      "Training Epochs:  87%|████████▋ | 17461/20001 [00:06<00:00, 3155.34it/s]"
     ]
    },
    {
     "name": "stdout",
     "output_type": "stream",
     "text": [
      "Iteration: 17000. \n",
      "Test - Loss: 0.05353466793894768. Accuracy: 98.18181818181819\n",
      "Train -  Loss: 0.03979014605283737. Accuracy: 99.25373134328358\n",
      "\n",
      "Iteration: 17500. \n",
      "Test - Loss: 0.05208059400320053. Accuracy: 98.18181818181819\n",
      "Train -  Loss: 0.03837957978248596. Accuracy: 99.25373134328358\n",
      "\n"
     ]
    },
    {
     "name": "stderr",
     "output_type": "stream",
     "text": [
      "Training Epochs:  92%|█████████▏| 18467/20001 [00:07<00:00, 3239.05it/s]"
     ]
    },
    {
     "name": "stdout",
     "output_type": "stream",
     "text": [
      "Iteration: 18000. \n",
      "Test - Loss: 0.050617992877960205. Accuracy: 98.18181818181819\n",
      "Train -  Loss: 0.03702910244464874. Accuracy: 99.40298507462687\n",
      "\n",
      "Iteration: 18500. \n",
      "Test - Loss: 0.04917116463184357. Accuracy: 98.18181818181819\n",
      "Train -  Loss: 0.03574546054005623. Accuracy: 99.40298507462687\n",
      "\n"
     ]
    },
    {
     "name": "stderr",
     "output_type": "stream",
     "text": [
      "Training Epochs:  97%|█████████▋| 19454/20001 [00:07<00:00, 2829.96it/s]"
     ]
    },
    {
     "name": "stdout",
     "output_type": "stream",
     "text": [
      "Iteration: 19000. \n",
      "Test - Loss: 0.04775666445493698. Accuracy: 98.18181818181819\n",
      "Train -  Loss: 0.03453490883111954. Accuracy: 99.40298507462687\n",
      "\n",
      "Iteration: 19500. \n",
      "Test - Loss: 0.04638785868883133. Accuracy: 98.18181818181819\n",
      "Train -  Loss: 0.0334026925265789. Accuracy: 99.40298507462687\n",
      "\n"
     ]
    },
    {
     "name": "stderr",
     "output_type": "stream",
     "text": [
      "Training Epochs: 100%|██████████| 20001/20001 [00:07<00:00, 2587.62it/s]\n"
     ]
    },
    {
     "name": "stdout",
     "output_type": "stream",
     "text": [
      "Iteration: 20000. \n",
      "Test - Loss: 0.04507587477564812. Accuracy: 98.18181818181819\n",
      "Train -  Loss: 0.03235100954771042. Accuracy: 99.40298507462687\n",
      "\n"
     ]
    },
    {
     "data": {
      "image/png": "[encoded data removed]",
      "text/plain": [
       "<Figure size 1000x500 with 2 Axes>"
      ]
     },
     "metadata": {},
     "output_type": "display_data"
    },
    {
     "name": "stderr",
     "output_type": "stream",
     "text": [
      "Training Epochs:   5%|▌         | 1042/20001 [00:00<00:05, 3513.17it/s]"
     ]
    },
    {
     "name": "stdout",
     "output_type": "stream",
     "text": [
      "Iteration: 500. \n",
      "Test - Loss: 0.28727200627326965. Accuracy: 90.0\n",
      "Train -  Loss: 0.2749529480934143. Accuracy: 90.59701492537313\n",
      "\n",
      "Iteration: 1000. \n",
      "Test - Loss: 0.26243677735328674. Accuracy: 90.0\n",
      "Train -  Loss: 0.25271061062812805. Accuracy: 90.59701492537313\n",
      "\n"
     ]
    },
    {
     "name": "stderr",
     "output_type": "stream",
     "text": [
      "Training Epochs:   9%|▊         | 1732/20001 [00:00<00:05, 3279.95it/s]"
     ]
    },
    {
     "name": "stdout",
     "output_type": "stream",
     "text": [
      "Iteration: 1500. \n",
      "Test - Loss: 0.24416044354438782. Accuracy: 90.0\n",
      "Train -  Loss: 0.2367214560508728. Accuracy: 90.59701492537313\n",
      "\n",
      "Iteration: 2000. \n",
      "Test - Loss: 0.2294301986694336. Accuracy: 90.0\n",
      "Train -  Loss: 0.22384612262248993. Accuracy: 90.59701492537313\n",
      "\n"
     ]
    },
    {
     "name": "stderr",
     "output_type": "stream",
     "text": [
      "Training Epochs:  16%|█▌        | 3160/20001 [00:00<00:04, 3438.85it/s]"
     ]
    },
    {
     "name": "stdout",
     "output_type": "stream",
     "text": [
      "Iteration: 2500. \n",
      "Test - Loss: 0.21656452119350433. Accuracy: 90.0\n",
      "Train -  Loss: 0.2128213495016098. Accuracy: 90.59701492537313\n",
      "\n",
      "Iteration: 3000. \n",
      "Test - Loss: 0.20533086359500885. Accuracy: 90.0\n",
      "Train -  Loss: 0.20358936488628387. Accuracy: 90.59701492537313\n",
      "\n"
     ]
    },
    {
     "name": "stderr",
     "output_type": "stream",
     "text": [
      "Training Epochs:  19%|█▉        | 3837/20001 [00:01<00:05, 3192.67it/s]"
     ]
    },
    {
     "name": "stdout",
     "output_type": "stream",
     "text": [
      "Iteration: 3500. \n",
      "Test - Loss: 0.1904287338256836. Accuracy: 90.0\n",
      "Train -  Loss: 0.19180098176002502. Accuracy: 90.59701492537313\n",
      "\n",
      "Iteration: 4000. \n",
      "Test - Loss: 0.1572418510913849. Accuracy: 90.0\n",
      "Train -  Loss: 0.16259221732616425. Accuracy: 90.74626865671642\n",
      "\n"
     ]
    },
    {
     "name": "stderr",
     "output_type": "stream",
     "text": [
      "Training Epochs:  26%|██▌       | 5250/20001 [00:01<00:04, 3494.58it/s]"
     ]
    },
    {
     "name": "stdout",
     "output_type": "stream",
     "text": [
      "Iteration: 4500. \n",
      "Test - Loss: 0.12219150364398956. Accuracy: 95.45454545454545\n",
      "Train -  Loss: 0.12696880102157593. Accuracy: 95.22388059701493\n",
      "\n",
      "Iteration: 5000. \n",
      "Test - Loss: 0.10273067653179169. Accuracy: 97.57575757575758\n",
      "Train -  Loss: 0.10455026477575302. Accuracy: 96.86567164179104\n",
      "\n"
     ]
    },
    {
     "name": "stderr",
     "output_type": "stream",
     "text": [
      "Training Epochs:  30%|██▉       | 5962/20001 [00:01<00:04, 3405.77it/s]"
     ]
    },
    {
     "name": "stdout",
     "output_type": "stream",
     "text": [
      "Iteration: 5500. \n",
      "Test - Loss: 0.09251891076564789. Accuracy: 97.27272727272727\n",
      "Train -  Loss: 0.09162875264883041. Accuracy: 96.86567164179104\n",
      "\n",
      "Iteration: 6000. \n",
      "Test - Loss: 0.08640115708112717. Accuracy: 97.27272727272727\n",
      "Train -  Loss: 0.08357880264520645. Accuracy: 97.01492537313433\n",
      "\n"
     ]
    },
    {
     "name": "stderr",
     "output_type": "stream",
     "text": [
      "Training Epochs:  35%|███▌      | 7072/20001 [00:02<00:03, 3616.12it/s]"
     ]
    },
    {
     "name": "stdout",
     "output_type": "stream",
     "text": [
      "Iteration: 6500. \n",
      "Test - Loss: 0.08219551295042038. Accuracy: 97.27272727272727\n",
      "Train -  Loss: 0.0781005248427391. Accuracy: 97.16417910447761\n",
      "\n",
      "Iteration: 7000. \n",
      "Test - Loss: 0.07904123514890671. Accuracy: 97.27272727272727\n",
      "Train -  Loss: 0.07409568130970001. Accuracy: 97.16417910447761\n",
      "\n"
     ]
    },
    {
     "name": "stderr",
     "output_type": "stream",
     "text": [
      "Training Epochs:  41%|████      | 8144/20001 [00:02<00:03, 3412.68it/s]"
     ]
    },
    {
     "name": "stdout",
     "output_type": "stream",
     "text": [
      "Iteration: 7500. \n",
      "Test - Loss: 0.07656463980674744. Accuracy: 97.27272727272727\n",
      "Train -  Loss: 0.07100063562393188. Accuracy: 97.01492537313433\n",
      "\n",
      "Iteration: 8000. \n",
      "Test - Loss: 0.07456798851490021. Accuracy: 97.27272727272727\n",
      "Train -  Loss: 0.06849983334541321. Accuracy: 97.31343283582089\n",
      "\n"
     ]
    },
    {
     "name": "stderr",
     "output_type": "stream",
     "text": [
      "Training Epochs:  44%|████▍     | 8884/20001 [00:02<00:03, 3421.18it/s]"
     ]
    },
    {
     "name": "stdout",
     "output_type": "stream",
     "text": [
      "Iteration: 8500. \n",
      "Test - Loss: 0.07292360812425613. Accuracy: 97.27272727272727\n",
      "Train -  Loss: 0.06640242785215378. Accuracy: 97.31343283582089\n",
      "\n",
      "Iteration: 9000. \n",
      "Test - Loss: 0.07153955847024918. Accuracy: 97.27272727272727\n",
      "Train -  Loss: 0.06458651274442673. Accuracy: 97.31343283582089\n",
      "\n"
     ]
    },
    {
     "name": "stderr",
     "output_type": "stream",
     "text": [
      "Training Epochs:  49%|████▉     | 9890/20001 [00:02<00:03, 3173.94it/s]"
     ]
    },
    {
     "name": "stdout",
     "output_type": "stream",
     "text": [
      "Iteration: 9500. \n",
      "Test - Loss: 0.07034748047590256. Accuracy: 97.27272727272727\n",
      "Train -  Loss: 0.06297116726636887. Accuracy: 97.31343283582089\n",
      "\n",
      "Iteration: 10000. \n",
      "Test - Loss: 0.06929607689380646. Accuracy: 97.27272727272727\n",
      "Train -  Loss: 0.06150110810995102. Accuracy: 97.46268656716418\n",
      "\n"
     ]
    },
    {
     "name": "stderr",
     "output_type": "stream",
     "text": [
      "Training Epochs:  54%|█████▍    | 10846/20001 [00:03<00:02, 3083.61it/s]"
     ]
    },
    {
     "name": "stdout",
     "output_type": "stream",
     "text": [
      "Iteration: 10500. \n",
      "Test - Loss: 0.06834612041711807. Accuracy: 97.27272727272727\n",
      "Train -  Loss: 0.06013736501336098. Accuracy: 97.61194029850746\n",
      "\n",
      "Iteration: 11000. \n",
      "Test - Loss: 0.06746787577867508. Accuracy: 97.27272727272727\n",
      "Train -  Loss: 0.05885118991136551. Accuracy: 97.61194029850746\n",
      "\n"
     ]
    },
    {
     "name": "stderr",
     "output_type": "stream",
     "text": [
      "Training Epochs:  59%|█████▉    | 11837/20001 [00:03<00:02, 3206.50it/s]"
     ]
    },
    {
     "name": "stdout",
     "output_type": "stream",
     "text": [
      "Iteration: 11500. \n",
      "Test - Loss: 0.06663909554481506. Accuracy: 97.27272727272727\n",
      "Train -  Loss: 0.05762014910578728. Accuracy: 97.61194029850746\n",
      "\n",
      "Iteration: 12000. \n",
      "Test - Loss: 0.0658431202173233. Accuracy: 97.27272727272727\n",
      "Train -  Loss: 0.05642508715391159. Accuracy: 97.61194029850746\n",
      "\n"
     ]
    },
    {
     "name": "stderr",
     "output_type": "stream",
     "text": [
      "Training Epochs:  64%|██████▍   | 12823/20001 [00:03<00:02, 3161.71it/s]"
     ]
    },
    {
     "name": "stdout",
     "output_type": "stream",
     "text": [
      "Iteration: 12500. \n",
      "Test - Loss: 0.0650661438703537. Accuracy: 97.27272727272727\n",
      "Train -  Loss: 0.055248454213142395. Accuracy: 97.76119402985074\n",
      "\n",
      "Iteration: 13000. \n",
      "Test - Loss: 0.06429480016231537. Accuracy: 97.57575757575758\n",
      "Train -  Loss: 0.054073624312877655. Accuracy: 97.76119402985074\n",
      "\n"
     ]
    },
    {
     "name": "stderr",
     "output_type": "stream",
     "text": [
      "Training Epochs:  69%|██████▉   | 13774/20001 [00:04<00:02, 2846.98it/s]"
     ]
    },
    {
     "name": "stdout",
     "output_type": "stream",
     "text": [
      "Iteration: 13500. \n",
      "Test - Loss: 0.06351564079523087. Accuracy: 97.57575757575758\n",
      "Train -  Loss: 0.05288499966263771. Accuracy: 97.91044776119404\n",
      "\n",
      "Iteration: 14000. \n",
      "Test - Loss: 0.06271640956401825. Accuracy: 97.57575757575758\n",
      "Train -  Loss: 0.05166925489902496. Accuracy: 98.05970149253731\n",
      "\n"
     ]
    },
    {
     "name": "stderr",
     "output_type": "stream",
     "text": [
      "Training Epochs:  74%|███████▍  | 14811/20001 [00:04<00:01, 2880.31it/s]"
     ]
    },
    {
     "name": "stdout",
     "output_type": "stream",
     "text": [
      "Iteration: 14500. \n",
      "Test - Loss: 0.06188809499144554. Accuracy: 97.57575757575758\n",
      "Train -  Loss: 0.05041676387190819. Accuracy: 98.05970149253731\n",
      "\n",
      "Iteration: 15000. \n",
      "Test - Loss: 0.06102363020181656. Accuracy: 97.57575757575758\n",
      "Train -  Loss: 0.049121253192424774. Accuracy: 98.2089552238806\n",
      "\n"
     ]
    },
    {
     "name": "stderr",
     "output_type": "stream",
     "text": [
      "Training Epochs:  80%|███████▉  | 15905/20001 [00:04<00:01, 3189.95it/s]"
     ]
    },
    {
     "name": "stdout",
     "output_type": "stream",
     "text": [
      "Iteration: 15500. \n",
      "Test - Loss: 0.06011757627129555. Accuracy: 97.57575757575758\n",
      "Train -  Loss: 0.04778042808175087. Accuracy: 98.50746268656717\n",
      "\n",
      "Iteration: 16000. \n",
      "Test - Loss: 0.059162672609090805. Accuracy: 97.57575757575758\n",
      "Train -  Loss: 0.046396296471357346. Accuracy: 98.50746268656717\n",
      "\n"
     ]
    },
    {
     "name": "stderr",
     "output_type": "stream",
     "text": [
      "Training Epochs:  85%|████████▍ | 16934/20001 [00:05<00:00, 3333.38it/s]"
     ]
    },
    {
     "name": "stdout",
     "output_type": "stream",
     "text": [
      "Iteration: 16500. \n",
      "Test - Loss: 0.05814363434910774. Accuracy: 97.57575757575758\n",
      "Train -  Loss: 0.04497326910495758. Accuracy: 98.50746268656717\n",
      "\n",
      "Iteration: 17000. \n",
      "Test - Loss: 0.05704089254140854. Accuracy: 97.57575757575758\n",
      "Train -  Loss: 0.04352044314146042. Accuracy: 98.65671641791045\n",
      "\n"
     ]
    },
    {
     "name": "stderr",
     "output_type": "stream",
     "text": [
      "Training Epochs:  89%|████████▉ | 17892/20001 [00:05<00:00, 3013.47it/s]"
     ]
    },
    {
     "name": "stdout",
     "output_type": "stream",
     "text": [
      "Iteration: 17500. \n",
      "Test - Loss: 0.05584411695599556. Accuracy: 97.57575757575758\n",
      "Train -  Loss: 0.042053427547216415. Accuracy: 98.65671641791045\n",
      "\n",
      "Iteration: 18000. \n",
      "Test - Loss: 0.054559800773859024. Accuracy: 97.87878787878788\n",
      "Train -  Loss: 0.04059033840894699. Accuracy: 98.95522388059702\n",
      "\n"
     ]
    },
    {
     "name": "stderr",
     "output_type": "stream",
     "text": [
      "Training Epochs:  93%|█████████▎| 18554/20001 [00:05<00:00, 3174.37it/s]"
     ]
    },
    {
     "name": "stdout",
     "output_type": "stream",
     "text": [
      "Iteration: 18500. \n",
      "Test - Loss: 0.05320577323436737. Accuracy: 98.18181818181819\n",
      "Train -  Loss: 0.03914918005466461. Accuracy: 99.25373134328358\n",
      "\n"
     ]
    },
    {
     "name": "stderr",
     "output_type": "stream",
     "text": [
      "Training Epochs:  98%|█████████▊| 19572/20001 [00:06<00:00, 2925.45it/s]"
     ]
    },
    {
     "name": "stdout",
     "output_type": "stream",
     "text": [
      "Iteration: 19000. \n",
      "Test - Loss: 0.05180283635854721. Accuracy: 98.18181818181819\n",
      "Train -  Loss: 0.037747181951999664. Accuracy: 99.25373134328358\n",
      "\n",
      "Iteration: 19500. \n",
      "Test - Loss: 0.050374824553728104. Accuracy: 98.18181818181819\n",
      "Train -  Loss: 0.03639912232756615. Accuracy: 99.40298507462687\n",
      "\n"
     ]
    },
    {
     "name": "stderr",
     "output_type": "stream",
     "text": [
      "Training Epochs: 100%|██████████| 20001/20001 [00:06<00:00, 3185.49it/s]\n"
     ]
    },
    {
     "name": "stdout",
     "output_type": "stream",
     "text": [
      "Iteration: 20000. \n",
      "Test - Loss: 0.04894918203353882. Accuracy: 98.18181818181819\n",
      "Train -  Loss: 0.035115115344524384. Accuracy: 99.40298507462687\n",
      "\n"
     ]
    },
    {
     "data": {
      "image/png": "[encoded data removed]",
      "text/plain": [
       "<Figure size 1000x500 with 2 Axes>"
      ]
     },
     "metadata": {},
     "output_type": "display_data"
    },
    {
     "name": "stderr",
     "output_type": "stream",
     "text": [
      "Training Epochs:   6%|▌         | 1126/20001 [00:00<00:05, 3341.11it/s]"
     ]
    },
    {
     "name": "stdout",
     "output_type": "stream",
     "text": [
      "Iteration: 500. \n",
      "Test - Loss: 0.2743055522441864. Accuracy: 90.0\n",
      "Train -  Loss: 0.26348942518234253. Accuracy: 90.59701492537313\n",
      "\n",
      "Iteration: 1000. \n",
      "Test - Loss: 0.25284361839294434. Accuracy: 90.0\n",
      "Train -  Loss: 0.24505849182605743. Accuracy: 90.59701492537313\n",
      "\n"
     ]
    },
    {
     "name": "stderr",
     "output_type": "stream",
     "text": [
      "Training Epochs:  11%|█         | 2150/20001 [00:00<00:05, 3331.30it/s]"
     ]
    },
    {
     "name": "stdout",
     "output_type": "stream",
     "text": [
      "Iteration: 1500. \n",
      "Test - Loss: 0.23522232472896576. Accuracy: 90.0\n",
      "Train -  Loss: 0.23038969933986664. Accuracy: 90.59701492537313\n",
      "\n",
      "Iteration: 2000. \n",
      "Test - Loss: 0.2082947939634323. Accuracy: 90.0\n",
      "Train -  Loss: 0.20788182318210602. Accuracy: 90.59701492537313\n",
      "\n"
     ]
    },
    {
     "name": "stderr",
     "output_type": "stream",
     "text": [
      "Training Epochs:  14%|█▍        | 2880/20001 [00:00<00:04, 3459.46it/s]"
     ]
    },
    {
     "name": "stdout",
     "output_type": "stream",
     "text": [
      "Iteration: 2500. \n",
      "Test - Loss: 0.1671229749917984. Accuracy: 90.0\n",
      "Train -  Loss: 0.1723327934741974. Accuracy: 90.59701492537313\n",
      "\n",
      "Iteration: 3000. \n",
      "Test - Loss: 0.12754566967487335. Accuracy: 94.24242424242425\n",
      "Train -  Loss: 0.13326603174209595. Accuracy: 94.17910447761194\n",
      "\n"
     ]
    },
    {
     "name": "stderr",
     "output_type": "stream",
     "text": [
      "Training Epochs:  20%|██        | 4033/20001 [00:01<00:04, 3698.38it/s]"
     ]
    },
    {
     "name": "stdout",
     "output_type": "stream",
     "text": [
      "Iteration: 3500. \n",
      "Test - Loss: 0.10186474025249481. Accuracy: 97.57575757575758\n",
      "Train -  Loss: 0.10493800789117813. Accuracy: 97.16417910447761\n",
      "\n",
      "Iteration: 4000. \n",
      "Test - Loss: 0.08635671436786652. Accuracy: 97.57575757575758\n",
      "Train -  Loss: 0.08747739344835281. Accuracy: 98.2089552238806\n",
      "\n"
     ]
    },
    {
     "name": "stderr",
     "output_type": "stream",
     "text": [
      "Training Epochs:  26%|██▌       | 5160/20001 [00:01<00:04, 3670.10it/s]"
     ]
    },
    {
     "name": "stdout",
     "output_type": "stream",
     "text": [
      "Iteration: 4500. \n",
      "Test - Loss: 0.07587695121765137. Accuracy: 97.27272727272727\n",
      "Train -  Loss: 0.07614697515964508. Accuracy: 98.05970149253731\n",
      "\n",
      "Iteration: 5000. \n",
      "Test - Loss: 0.06810200214385986. Accuracy: 97.57575757575758\n",
      "Train -  Loss: 0.06813544034957886. Accuracy: 98.35820895522389\n",
      "\n"
     ]
    },
    {
     "name": "stderr",
     "output_type": "stream",
     "text": [
      "Training Epochs:  30%|██▉       | 5928/20001 [00:01<00:03, 3547.26it/s]"
     ]
    },
    {
     "name": "stdout",
     "output_type": "stream",
     "text": [
      "Iteration: 5500. \n",
      "Test - Loss: 0.062067147344350815. Accuracy: 97.57575757575758\n",
      "Train -  Loss: 0.062098897993564606. Accuracy: 98.35820895522389\n",
      "\n",
      "Iteration: 6000. \n",
      "Test - Loss: 0.05727282539010048. Accuracy: 97.57575757575758\n",
      "Train -  Loss: 0.05735157057642937. Accuracy: 98.35820895522389\n",
      "\n"
     ]
    },
    {
     "name": "stderr",
     "output_type": "stream",
     "text": [
      "Training Epochs:  35%|███▌      | 7055/20001 [00:01<00:03, 3522.66it/s]"
     ]
    },
    {
     "name": "stdout",
     "output_type": "stream",
     "text": [
      "Iteration: 6500. \n",
      "Test - Loss: 0.05339467525482178. Accuracy: 97.57575757575758\n",
      "Train -  Loss: 0.05349884554743767. Accuracy: 98.50746268656717\n",
      "\n",
      "Iteration: 7000. \n",
      "Test - Loss: 0.050200652331113815. Accuracy: 97.57575757575758\n",
      "Train -  Loss: 0.05029212683439255. Accuracy: 98.95522388059702\n",
      "\n"
     ]
    },
    {
     "name": "stderr",
     "output_type": "stream",
     "text": [
      "Training Epochs:  39%|███▊      | 7730/20001 [00:02<00:03, 3070.51it/s]"
     ]
    },
    {
     "name": "stdout",
     "output_type": "stream",
     "text": [
      "Iteration: 7500. \n",
      "Test - Loss: 0.047521933913230896. Accuracy: 97.57575757575758\n",
      "Train -  Loss: 0.04756634682416916. Accuracy: 98.95522388059702\n",
      "\n",
      "Iteration: 8000. \n",
      "Test - Loss: 0.045236118137836456. Accuracy: 98.18181818181819\n",
      "Train -  Loss: 0.045208223164081573. Accuracy: 98.95522388059702\n",
      "\n"
     ]
    },
    {
     "name": "stderr",
     "output_type": "stream",
     "text": [
      "Training Epochs:  46%|████▌     | 9123/20001 [00:02<00:03, 3349.83it/s]"
     ]
    },
    {
     "name": "stdout",
     "output_type": "stream",
     "text": [
      "Iteration: 8500. \n",
      "Test - Loss: 0.04325487092137337. Accuracy: 98.18181818181819\n",
      "Train -  Loss: 0.04313800483942032. Accuracy: 98.95522388059702\n",
      "\n",
      "Iteration: 9000. \n",
      "Test - Loss: 0.04151419550180435. Accuracy: 98.18181818181819\n",
      "Train -  Loss: 0.041298236697912216. Accuracy: 99.1044776119403\n",
      "\n"
     ]
    },
    {
     "name": "stderr",
     "output_type": "stream",
     "text": [
      "Training Epochs:  51%|█████     | 10203/20001 [00:03<00:02, 3476.82it/s]"
     ]
    },
    {
     "name": "stdout",
     "output_type": "stream",
     "text": [
      "Iteration: 9500. \n",
      "Test - Loss: 0.039967719465494156. Accuracy: 98.48484848484848\n",
      "Train -  Loss: 0.03964677080512047. Accuracy: 99.25373134328358\n",
      "\n",
      "Iteration: 10000. \n",
      "Test - Loss: 0.038581352680921555. Accuracy: 98.48484848484848\n",
      "Train -  Loss: 0.03815203532576561. Accuracy: 99.25373134328358\n",
      "\n"
     ]
    },
    {
     "name": "stderr",
     "output_type": "stream",
     "text": [
      "Training Epochs:  54%|█████▍    | 10888/20001 [00:03<00:02, 3273.89it/s]"
     ]
    },
    {
     "name": "stdout",
     "output_type": "stream",
     "text": [
      "Iteration: 10500. \n",
      "Test - Loss: 0.037329867482185364. Accuracy: 98.48484848484848\n",
      "Train -  Loss: 0.036790065467357635. Accuracy: 99.25373134328358\n",
      "\n",
      "Iteration: 11000. \n",
      "Test - Loss: 0.03619394823908806. Accuracy: 98.48484848484848\n",
      "Train -  Loss: 0.035542264580726624. Accuracy: 99.25373134328358\n",
      "\n"
     ]
    },
    {
     "name": "stderr",
     "output_type": "stream",
     "text": [
      "Training Epochs:  60%|█████▉    | 11964/20001 [00:03<00:02, 3227.79it/s]"
     ]
    },
    {
     "name": "stdout",
     "output_type": "stream",
     "text": [
      "Iteration: 11500. \n",
      "Test - Loss: 0.035158928483724594. Accuracy: 98.48484848484848\n",
      "Train -  Loss: 0.0343940295279026. Accuracy: 99.25373134328358\n",
      "\n",
      "Iteration: 12000. \n",
      "Test - Loss: 0.0342128612101078. Accuracy: 98.48484848484848\n",
      "Train -  Loss: 0.03333360329270363. Accuracy: 99.25373134328358\n",
      "\n"
     ]
    },
    {
     "name": "stderr",
     "output_type": "stream",
     "text": [
      "Training Epochs:  65%|██████▌   | 13063/20001 [00:03<00:01, 3483.64it/s]"
     ]
    },
    {
     "name": "stdout",
     "output_type": "stream",
     "text": [
      "Iteration: 12500. \n",
      "Test - Loss: 0.03334596008062363. Accuracy: 98.48484848484848\n",
      "Train -  Loss: 0.032351426780223846. Accuracy: 99.25373134328358\n",
      "\n",
      "Iteration: 13000. \n",
      "Test - Loss: 0.03255010396242142. Accuracy: 98.48484848484848\n",
      "Train -  Loss: 0.03143945336341858. Accuracy: 99.25373134328358\n",
      "\n"
     ]
    },
    {
     "name": "stderr",
     "output_type": "stream",
     "text": [
      "Training Epochs:  71%|███████   | 14150/20001 [00:04<00:01, 3529.84it/s]"
     ]
    },
    {
     "name": "stdout",
     "output_type": "stream",
     "text": [
      "Iteration: 13500. \n",
      "Test - Loss: 0.03181810677051544. Accuracy: 98.48484848484848\n",
      "Train -  Loss: 0.03059091418981552. Accuracy: 99.25373134328358\n",
      "\n",
      "Iteration: 14000. \n",
      "Test - Loss: 0.031143728643655777. Accuracy: 98.78787878787878\n",
      "Train -  Loss: 0.029799923300743103. Accuracy: 99.25373134328358\n",
      "\n"
     ]
    },
    {
     "name": "stderr",
     "output_type": "stream",
     "text": [
      "Training Epochs:  74%|███████▍  | 14855/20001 [00:04<00:01, 3395.95it/s]"
     ]
    },
    {
     "name": "stdout",
     "output_type": "stream",
     "text": [
      "Iteration: 14500. \n",
      "Test - Loss: 0.030521376058459282. Accuracy: 98.78787878787878\n",
      "Train -  Loss: 0.029061317443847656. Accuracy: 99.40298507462687\n",
      "\n",
      "Iteration: 15000. \n",
      "Test - Loss: 0.029945937916636467. Accuracy: 98.78787878787878\n",
      "Train -  Loss: 0.028370501473546028. Accuracy: 99.25373134328358\n",
      "\n"
     ]
    },
    {
     "name": "stderr",
     "output_type": "stream",
     "text": [
      "Training Epochs:  79%|███████▉  | 15853/20001 [00:04<00:01, 3205.30it/s]"
     ]
    },
    {
     "name": "stdout",
     "output_type": "stream",
     "text": [
      "Iteration: 15500. \n",
      "Test - Loss: 0.029412977397441864. Accuracy: 98.78787878787878\n",
      "Train -  Loss: 0.027723388746380806. Accuracy: 99.25373134328358\n",
      "\n",
      "Iteration: 16000. \n",
      "Test - Loss: 0.0289183147251606. Accuracy: 98.78787878787878\n",
      "Train -  Loss: 0.027116257697343826. Accuracy: 99.40298507462687\n",
      "\n"
     ]
    },
    {
     "name": "stderr",
     "output_type": "stream",
     "text": [
      "Training Epochs:  86%|████████▌ | 17110/20001 [00:05<00:00, 2920.44it/s]"
     ]
    },
    {
     "name": "stdout",
     "output_type": "stream",
     "text": [
      "Iteration: 16500. \n",
      "Test - Loss: 0.02845817245543003. Accuracy: 99.0909090909091\n",
      "Train -  Loss: 0.026545781642198563. Accuracy: 99.40298507462687\n",
      "\n",
      "Iteration: 17000. \n",
      "Test - Loss: 0.0280293058604002. Accuracy: 99.0909090909091\n",
      "Train -  Loss: 0.02600891888141632. Accuracy: 99.55223880597015\n",
      "\n"
     ]
    },
    {
     "name": "stderr",
     "output_type": "stream",
     "text": [
      "Training Epochs:  91%|█████████ | 18112/20001 [00:05<00:00, 3065.02it/s]"
     ]
    },
    {
     "name": "stdout",
     "output_type": "stream",
     "text": [
      "Iteration: 17500. \n",
      "Test - Loss: 0.02762874774634838. Accuracy: 99.0909090909091\n",
      "Train -  Loss: 0.025502948090434074. Accuracy: 99.55223880597015\n",
      "\n",
      "Iteration: 18000. \n",
      "Test - Loss: 0.02725381590425968. Accuracy: 99.0909090909091\n",
      "Train -  Loss: 0.02502533420920372. Accuracy: 99.55223880597015\n",
      "\n"
     ]
    },
    {
     "name": "stderr",
     "output_type": "stream",
     "text": [
      "Training Epochs:  96%|█████████▌| 19121/20001 [00:05<00:00, 3253.38it/s]"
     ]
    },
    {
     "name": "stdout",
     "output_type": "stream",
     "text": [
      "Iteration: 18500. \n",
      "Test - Loss: 0.026901915669441223. Accuracy: 99.0909090909091\n",
      "Train -  Loss: 0.02457381598651409. Accuracy: 99.55223880597015\n",
      "\n",
      "Iteration: 19000. \n",
      "Test - Loss: 0.026570985093712807. Accuracy: 99.0909090909091\n",
      "Train -  Loss: 0.02414637617766857. Accuracy: 99.55223880597015\n",
      "\n"
     ]
    },
    {
     "name": "stderr",
     "output_type": "stream",
     "text": [
      "Training Epochs: 100%|██████████| 20001/20001 [00:06<00:00, 3308.83it/s]\n"
     ]
    },
    {
     "name": "stdout",
     "output_type": "stream",
     "text": [
      "Iteration: 19500. \n",
      "Test - Loss: 0.026259558275341988. Accuracy: 99.0909090909091\n",
      "Train -  Loss: 0.023741118609905243. Accuracy: 99.55223880597015\n",
      "\n",
      "Iteration: 20000. \n",
      "Test - Loss: 0.025965170934796333. Accuracy: 99.0909090909091\n",
      "Train -  Loss: 0.023356346413493156. Accuracy: 99.55223880597015\n",
      "\n"
     ]
    },
    {
     "data": {
      "image/png": "[encoded data removed]",
      "text/plain": [
       "<Figure size 1000x500 with 2 Axes>"
      ]
     },
     "metadata": {},
     "output_type": "display_data"
    },
    {
     "name": "stderr",
     "output_type": "stream",
     "text": [
      "Training Epochs:   5%|▌         | 1084/20001 [00:00<00:05, 3687.38it/s]"
     ]
    },
    {
     "name": "stdout",
     "output_type": "stream",
     "text": [
      "Iteration: 500. \n",
      "Test - Loss: 0.2855268120765686. Accuracy: 90.0\n",
      "Train -  Loss: 0.27304375171661377. Accuracy: 90.59701492537313\n",
      "\n",
      "Iteration: 1000. \n",
      "Test - Loss: 0.251279354095459. Accuracy: 90.0\n",
      "Train -  Loss: 0.24074791371822357. Accuracy: 90.59701492537313\n",
      "\n"
     ]
    },
    {
     "name": "stderr",
     "output_type": "stream",
     "text": [
      "Training Epochs:  11%|█         | 2171/20001 [00:00<00:05, 3527.41it/s]"
     ]
    },
    {
     "name": "stdout",
     "output_type": "stream",
     "text": [
      "Iteration: 1500. \n",
      "Test - Loss: 0.22168105840682983. Accuracy: 90.0\n",
      "Train -  Loss: 0.21178288757801056. Accuracy: 90.59701492537313\n",
      "\n",
      "Iteration: 2000. \n",
      "Test - Loss: 0.18636269867420197. Accuracy: 90.0\n",
      "Train -  Loss: 0.17678527534008026. Accuracy: 90.59701492537313\n",
      "\n"
     ]
    },
    {
     "name": "stderr",
     "output_type": "stream",
     "text": [
      "Training Epochs:  14%|█▍        | 2884/20001 [00:00<00:05, 3302.64it/s]"
     ]
    },
    {
     "name": "stdout",
     "output_type": "stream",
     "text": [
      "Iteration: 2500. \n",
      "Test - Loss: 0.14986681938171387. Accuracy: 93.03030303030303\n",
      "Train -  Loss: 0.1403646618127823. Accuracy: 93.88059701492537\n",
      "\n",
      "Iteration: 3000. \n",
      "Test - Loss: 0.11974263936281204. Accuracy: 95.75757575757575\n",
      "Train -  Loss: 0.11144595593214035. Accuracy: 96.71641791044776\n",
      "\n"
     ]
    },
    {
     "name": "stderr",
     "output_type": "stream",
     "text": [
      "Training Epochs:  20%|█▉        | 3901/20001 [00:01<00:05, 3146.79it/s]"
     ]
    },
    {
     "name": "stdout",
     "output_type": "stream",
     "text": [
      "Iteration: 3500. \n",
      "Test - Loss: 0.09860197454690933. Accuracy: 97.57575757575758\n",
      "Train -  Loss: 0.09198042750358582. Accuracy: 97.31343283582089\n",
      "\n",
      "Iteration: 4000. \n",
      "Test - Loss: 0.08436267077922821. Accuracy: 97.57575757575758\n",
      "Train -  Loss: 0.07904989272356033. Accuracy: 98.65671641791045\n",
      "\n"
     ]
    },
    {
     "name": "stderr",
     "output_type": "stream",
     "text": [
      "Training Epochs:  25%|██▌       | 5026/20001 [00:01<00:04, 3537.67it/s]"
     ]
    },
    {
     "name": "stdout",
     "output_type": "stream",
     "text": [
      "Iteration: 4500. \n",
      "Test - Loss: 0.07460686564445496. Accuracy: 97.57575757575758\n",
      "Train -  Loss: 0.07009007781744003. Accuracy: 98.80597014925372\n",
      "\n",
      "Iteration: 5000. \n",
      "Test - Loss: 0.06766568869352341. Accuracy: 97.57575757575758\n",
      "Train -  Loss: 0.0635475218296051. Accuracy: 98.95522388059702\n",
      "\n"
     ]
    },
    {
     "name": "stderr",
     "output_type": "stream",
     "text": [
      "Training Epochs:  31%|███       | 6151/20001 [00:01<00:03, 3691.91it/s]"
     ]
    },
    {
     "name": "stdout",
     "output_type": "stream",
     "text": [
      "Iteration: 5500. \n",
      "Test - Loss: 0.06250995397567749. Accuracy: 97.57575757575758\n",
      "Train -  Loss: 0.05853385850787163. Accuracy: 98.95522388059702\n",
      "\n",
      "Iteration: 6000. \n",
      "Test - Loss: 0.05851798877120018. Accuracy: 97.57575757575758\n",
      "Train -  Loss: 0.05453280732035637. Accuracy: 98.95522388059702\n",
      "\n"
     ]
    },
    {
     "name": "stderr",
     "output_type": "stream",
     "text": [
      "Training Epochs:  34%|███▍      | 6876/20001 [00:02<00:03, 3374.93it/s]"
     ]
    },
    {
     "name": "stdout",
     "output_type": "stream",
     "text": [
      "Iteration: 6500. \n",
      "Test - Loss: 0.05531064420938492. Accuracy: 97.87878787878788\n",
      "Train -  Loss: 0.051232971251010895. Accuracy: 99.25373134328358\n",
      "\n",
      "Iteration: 7000. \n",
      "Test - Loss: 0.05265164375305176. Accuracy: 97.87878787878788\n",
      "Train -  Loss: 0.04843893647193909. Accuracy: 99.25373134328358\n",
      "\n"
     ]
    },
    {
     "name": "stderr",
     "output_type": "stream",
     "text": [
      "Training Epochs:  40%|███▉      | 7981/20001 [00:02<00:03, 3557.77it/s]"
     ]
    },
    {
     "name": "stdout",
     "output_type": "stream",
     "text": [
      "Iteration: 7500. \n",
      "Test - Loss: 0.050390053540468216. Accuracy: 97.87878787878788\n",
      "Train -  Loss: 0.046023473143577576. Accuracy: 99.25373134328358\n",
      "\n",
      "Iteration: 8000. \n",
      "Test - Loss: 0.04842714965343475. Accuracy: 97.87878787878788\n",
      "Train -  Loss: 0.043901003897190094. Accuracy: 99.25373134328358\n",
      "\n"
     ]
    },
    {
     "name": "stderr",
     "output_type": "stream",
     "text": [
      "Training Epochs:  45%|████▌     | 9007/20001 [00:02<00:03, 3178.82it/s]"
     ]
    },
    {
     "name": "stdout",
     "output_type": "stream",
     "text": [
      "Iteration: 8500. \n",
      "Test - Loss: 0.046696737408638. Accuracy: 98.18181818181819\n",
      "Train -  Loss: 0.04201231151819229. Accuracy: 99.25373134328358\n",
      "\n",
      "Iteration: 9000. \n",
      "Test - Loss: 0.04515339806675911. Accuracy: 98.18181818181819\n",
      "Train -  Loss: 0.04031529277563095. Accuracy: 99.1044776119403\n",
      "\n"
     ]
    },
    {
     "name": "stderr",
     "output_type": "stream",
     "text": [
      "Training Epochs:  50%|█████     | 10097/20001 [00:02<00:02, 3436.57it/s]"
     ]
    },
    {
     "name": "stdout",
     "output_type": "stream",
     "text": [
      "Iteration: 9500. \n",
      "Test - Loss: 0.04376513138413429. Accuracy: 98.18181818181819\n",
      "Train -  Loss: 0.03877919539809227. Accuracy: 99.1044776119403\n",
      "\n",
      "Iteration: 10000. \n",
      "Test - Loss: 0.04250876232981682. Accuracy: 98.48484848484848\n",
      "Train -  Loss: 0.03738093376159668. Accuracy: 99.1044776119403\n",
      "\n"
     ]
    },
    {
     "name": "stderr",
     "output_type": "stream",
     "text": [
      "Training Epochs:  56%|█████▌    | 11187/20001 [00:03<00:02, 3348.54it/s]"
     ]
    },
    {
     "name": "stdout",
     "output_type": "stream",
     "text": [
      "Iteration: 10500. \n",
      "Test - Loss: 0.041367057710886. Accuracy: 98.48484848484848\n",
      "Train -  Loss: 0.03610265254974365. Accuracy: 99.25373134328358\n",
      "\n",
      "Iteration: 11000. \n",
      "Test - Loss: 0.04032650962471962. Accuracy: 98.48484848484848\n",
      "Train -  Loss: 0.03493010252714157. Accuracy: 99.25373134328358\n",
      "\n"
     ]
    },
    {
     "name": "stderr",
     "output_type": "stream",
     "text": [
      "Training Epochs:  59%|█████▉    | 11880/20001 [00:03<00:02, 3404.84it/s]"
     ]
    },
    {
     "name": "stdout",
     "output_type": "stream",
     "text": [
      "Iteration: 11500. \n",
      "Test - Loss: 0.03937637805938721. Accuracy: 98.48484848484848\n",
      "Train -  Loss: 0.03385159373283386. Accuracy: 99.25373134328358\n",
      "\n",
      "Iteration: 12000. \n",
      "Test - Loss: 0.038507699966430664. Accuracy: 98.48484848484848\n",
      "Train -  Loss: 0.032857321202754974. Accuracy: 99.25373134328358\n",
      "\n"
     ]
    },
    {
     "name": "stderr",
     "output_type": "stream",
     "text": [
      "Training Epochs:  65%|██████▍   | 12957/20001 [00:03<00:02, 3336.80it/s]"
     ]
    },
    {
     "name": "stdout",
     "output_type": "stream",
     "text": [
      "Iteration: 12500. \n",
      "Test - Loss: 0.03771285340189934. Accuracy: 98.78787878787878\n",
      "Train -  Loss: 0.0319388248026371. Accuracy: 99.25373134328358\n",
      "\n",
      "Iteration: 13000. \n",
      "Test - Loss: 0.03698493912816048. Accuracy: 98.78787878787878\n",
      "Train -  Loss: 0.031088730320334435. Accuracy: 99.25373134328358\n",
      "\n"
     ]
    },
    {
     "name": "stderr",
     "output_type": "stream",
     "text": [
      "Training Epochs:  70%|███████   | 14086/20001 [00:04<00:01, 3645.51it/s]"
     ]
    },
    {
     "name": "stdout",
     "output_type": "stream",
     "text": [
      "Iteration: 13500. \n",
      "Test - Loss: 0.03631778061389923. Accuracy: 98.78787878787878\n",
      "Train -  Loss: 0.030300544574856758. Accuracy: 99.25373134328358\n",
      "\n",
      "Iteration: 14000. \n",
      "Test - Loss: 0.035706352442502975. Accuracy: 98.78787878787878\n",
      "Train -  Loss: 0.02956847846508026. Accuracy: 99.25373134328358\n",
      "\n"
     ]
    },
    {
     "name": "stderr",
     "output_type": "stream",
     "text": [
      "Training Epochs:  76%|███████▌  | 15207/20001 [00:04<00:01, 3620.49it/s]"
     ]
    },
    {
     "name": "stdout",
     "output_type": "stream",
     "text": [
      "Iteration: 14500. \n",
      "Test - Loss: 0.035145245492458344. Accuracy: 98.78787878787878\n",
      "Train -  Loss: 0.02888738177716732. Accuracy: 99.25373134328358\n",
      "\n",
      "Iteration: 15000. \n",
      "Test - Loss: 0.034630242735147476. Accuracy: 98.78787878787878\n",
      "Train -  Loss: 0.028252633288502693. Accuracy: 99.25373134328358\n",
      "\n"
     ]
    },
    {
     "name": "stderr",
     "output_type": "stream",
     "text": [
      "Training Epochs:  80%|███████▉  | 15914/20001 [00:04<00:01, 3138.66it/s]"
     ]
    },
    {
     "name": "stdout",
     "output_type": "stream",
     "text": [
      "Iteration: 15500. \n",
      "Test - Loss: 0.03415684774518013. Accuracy: 98.78787878787878\n",
      "Train -  Loss: 0.027660073712468147. Accuracy: 99.25373134328358\n",
      "\n",
      "Iteration: 16000. \n",
      "Test - Loss: 0.03372136503458023. Accuracy: 98.78787878787878\n",
      "Train -  Loss: 0.027105968445539474. Accuracy: 99.25373134328358\n",
      "\n"
     ]
    },
    {
     "name": "stderr",
     "output_type": "stream",
     "text": [
      "Training Epochs:  85%|████████▍ | 16985/20001 [00:05<00:00, 3380.20it/s]"
     ]
    },
    {
     "name": "stdout",
     "output_type": "stream",
     "text": [
      "Iteration: 16500. \n",
      "Test - Loss: 0.03332076594233513. Accuracy: 98.78787878787878\n",
      "Train -  Loss: 0.026586979627609253. Accuracy: 99.25373134328358\n",
      "\n",
      "Iteration: 17000. \n",
      "Test - Loss: 0.03295149281620979. Accuracy: 98.78787878787878\n",
      "Train -  Loss: 0.026100056245923042. Accuracy: 99.25373134328358\n",
      "\n"
     ]
    },
    {
     "name": "stderr",
     "output_type": "stream",
     "text": [
      "Training Epochs:  91%|█████████ | 18112/20001 [00:05<00:00, 3615.38it/s]"
     ]
    },
    {
     "name": "stdout",
     "output_type": "stream",
     "text": [
      "Iteration: 17500. \n",
      "Test - Loss: 0.03261080011725426. Accuracy: 98.78787878787878\n",
      "Train -  Loss: 0.025642506778240204. Accuracy: 99.25373134328358\n",
      "\n",
      "Iteration: 18000. \n",
      "Test - Loss: 0.0322963148355484. Accuracy: 98.78787878787878\n",
      "Train -  Loss: 0.025211861357092857. Accuracy: 99.25373134328358\n",
      "\n"
     ]
    },
    {
     "name": "stderr",
     "output_type": "stream",
     "text": [
      "Training Epochs:  94%|█████████▍| 18861/20001 [00:05<00:00, 3626.21it/s]"
     ]
    },
    {
     "name": "stdout",
     "output_type": "stream",
     "text": [
      "Iteration: 18500. \n",
      "Test - Loss: 0.03200555220246315. Accuracy: 98.78787878787878\n",
      "Train -  Loss: 0.024805916473269463. Accuracy: 99.25373134328358\n",
      "\n",
      "Iteration: 19000. \n",
      "Test - Loss: 0.03173641860485077. Accuracy: 98.78787878787878\n",
      "Train -  Loss: 0.02442268840968609. Accuracy: 99.25373134328358\n",
      "\n"
     ]
    },
    {
     "name": "stderr",
     "output_type": "stream",
     "text": [
      "Training Epochs: 100%|██████████| 20001/20001 [00:05<00:00, 3380.30it/s]"
     ]
    },
    {
     "name": "stdout",
     "output_type": "stream",
     "text": [
      "Iteration: 19500. \n",
      "Test - Loss: 0.03148728981614113. Accuracy: 98.78787878787878\n",
      "Train -  Loss: 0.02406037226319313. Accuracy: 99.25373134328358\n",
      "\n",
      "Iteration: 20000. \n",
      "Test - Loss: 0.031256403774023056. Accuracy: 98.78787878787878\n",
      "Train -  Loss: 0.023717351257801056. Accuracy: 99.40298507462687\n",
      "\n"
     ]
    },
    {
     "name": "stderr",
     "output_type": "stream",
     "text": [
      "\n"
     ]
    },
    {
     "data": {
      "image/png": "[encoded data removed]",
      "text/plain": [
       "<Figure size 1000x500 with 2 Axes>"
      ]
     },
     "metadata": {},
     "output_type": "display_data"
    },
    {
     "name": "stderr",
     "output_type": "stream",
     "text": [
      "Training Epochs:   5%|▌         | 1039/20001 [00:00<00:05, 3548.06it/s]"
     ]
    },
    {
     "name": "stdout",
     "output_type": "stream",
     "text": [
      "Iteration: 500. \n",
      "Test - Loss: 0.2768889367580414. Accuracy: 90.0\n",
      "Train -  Loss: 0.2653932273387909. Accuracy: 90.59701492537313\n",
      "\n",
      "Iteration: 1000. \n",
      "Test - Loss: 0.2472362369298935. Accuracy: 90.0\n",
      "Train -  Loss: 0.23806266486644745. Accuracy: 90.59701492537313\n",
      "\n"
     ]
    },
    {
     "name": "stderr",
     "output_type": "stream",
     "text": [
      "Training Epochs:  11%|█         | 2177/20001 [00:00<00:04, 3668.58it/s]"
     ]
    },
    {
     "name": "stdout",
     "output_type": "stream",
     "text": [
      "Iteration: 1500. \n",
      "Test - Loss: 0.21170026063919067. Accuracy: 90.0\n",
      "Train -  Loss: 0.2045629918575287. Accuracy: 90.59701492537313\n",
      "\n",
      "Iteration: 2000. \n",
      "Test - Loss: 0.1745765060186386. Accuracy: 90.0\n",
      "Train -  Loss: 0.16654740273952484. Accuracy: 90.59701492537313\n",
      "\n"
     ]
    },
    {
     "name": "stderr",
     "output_type": "stream",
     "text": [
      "Training Epochs:  14%|█▍        | 2899/20001 [00:00<00:04, 3524.96it/s]"
     ]
    },
    {
     "name": "stdout",
     "output_type": "stream",
     "text": [
      "Iteration: 2500. \n",
      "Test - Loss: 0.14226946234703064. Accuracy: 93.93939393939394\n",
      "Train -  Loss: 0.13262884318828583. Accuracy: 94.6268656716418\n",
      "\n",
      "Iteration: 3000. \n",
      "Test - Loss: 0.11763449013233185. Accuracy: 96.06060606060606\n",
      "Train -  Loss: 0.10837570577859879. Accuracy: 96.26865671641791\n",
      "\n"
     ]
    },
    {
     "name": "stderr",
     "output_type": "stream",
     "text": [
      "Training Epochs:  20%|█▉        | 3924/20001 [00:01<00:05, 3183.18it/s]"
     ]
    },
    {
     "name": "stdout",
     "output_type": "stream",
     "text": [
      "Iteration: 3500. \n",
      "Test - Loss: 0.10014699399471283. Accuracy: 97.57575757575758\n",
      "Train -  Loss: 0.09199786931276321. Accuracy: 97.46268656716418\n",
      "\n",
      "Iteration: 4000. \n",
      "Test - Loss: 0.08795423805713654. Accuracy: 97.57575757575758\n",
      "Train -  Loss: 0.08077000081539154. Accuracy: 98.05970149253731\n",
      "\n"
     ]
    },
    {
     "name": "stderr",
     "output_type": "stream",
     "text": [
      "Training Epochs:  25%|██▍       | 4933/20001 [00:01<00:04, 3199.55it/s]"
     ]
    },
    {
     "name": "stdout",
     "output_type": "stream",
     "text": [
      "Iteration: 4500. \n",
      "Test - Loss: 0.07934559881687164. Accuracy: 97.27272727272727\n",
      "Train -  Loss: 0.07278887927532196. Accuracy: 98.2089552238806\n",
      "\n",
      "Iteration: 5000. \n",
      "Test - Loss: 0.07309659570455551. Accuracy: 97.27272727272727\n",
      "Train -  Loss: 0.0668758824467659. Accuracy: 98.50746268656717\n",
      "\n"
     ]
    },
    {
     "name": "stderr",
     "output_type": "stream",
     "text": [
      "Training Epochs:  30%|██▉       | 5944/20001 [00:01<00:04, 3289.90it/s]"
     ]
    },
    {
     "name": "stdout",
     "output_type": "stream",
     "text": [
      "Iteration: 5500. \n",
      "Test - Loss: 0.06840173155069351. Accuracy: 97.27272727272727\n",
      "Train -  Loss: 0.06231702119112015. Accuracy: 98.65671641791045\n",
      "\n",
      "Iteration: 6000. \n",
      "Test - Loss: 0.06474374979734421. Accuracy: 97.27272727272727\n",
      "Train -  Loss: 0.058672674000263214. Accuracy: 98.65671641791045\n",
      "\n"
     ]
    },
    {
     "name": "stderr",
     "output_type": "stream",
     "text": [
      "Training Epochs:  35%|███▍      | 6981/20001 [00:02<00:03, 3259.33it/s]"
     ]
    },
    {
     "name": "stdout",
     "output_type": "stream",
     "text": [
      "Iteration: 6500. \n",
      "Test - Loss: 0.06178944930434227. Accuracy: 97.57575757575758\n",
      "Train -  Loss: 0.05566432327032089. Accuracy: 98.50746268656717\n",
      "\n",
      "Iteration: 7000. \n",
      "Test - Loss: 0.05932118371129036. Accuracy: 97.57575757575758\n",
      "Train -  Loss: 0.053110238164663315. Accuracy: 98.65671641791045\n",
      "\n"
     ]
    },
    {
     "name": "stderr",
     "output_type": "stream",
     "text": [
      "Training Epochs:  40%|███▉      | 7944/20001 [00:02<00:04, 3006.49it/s]"
     ]
    },
    {
     "name": "stdout",
     "output_type": "stream",
     "text": [
      "Iteration: 7500. \n",
      "Test - Loss: 0.05719442665576935. Accuracy: 97.57575757575758\n",
      "Train -  Loss: 0.05088867247104645. Accuracy: 98.65671641791045\n",
      "\n",
      "Iteration: 8000. \n",
      "Test - Loss: 0.05531206354498863. Accuracy: 97.57575757575758\n",
      "Train -  Loss: 0.04891621693968773. Accuracy: 98.65671641791045\n",
      "\n"
     ]
    },
    {
     "name": "stderr",
     "output_type": "stream",
     "text": [
      "Training Epochs:  45%|████▌     | 9044/20001 [00:02<00:03, 3219.12it/s]"
     ]
    },
    {
     "name": "stdout",
     "output_type": "stream",
     "text": [
      "Iteration: 8500. \n",
      "Test - Loss: 0.05360841006040573. Accuracy: 97.87878787878788\n",
      "Train -  Loss: 0.047134898602962494. Accuracy: 98.80597014925372\n",
      "\n",
      "Iteration: 9000. \n",
      "Test - Loss: 0.052039071917533875. Accuracy: 97.87878787878788\n",
      "Train -  Loss: 0.045504070818424225. Accuracy: 98.80597014925372\n",
      "\n"
     ]
    },
    {
     "name": "stderr",
     "output_type": "stream",
     "text": [
      "Training Epochs:  50%|█████     | 10061/20001 [00:03<00:02, 3316.66it/s]"
     ]
    },
    {
     "name": "stdout",
     "output_type": "stream",
     "text": [
      "Iteration: 9500. \n",
      "Test - Loss: 0.05057410150766373. Accuracy: 97.87878787878788\n",
      "Train -  Loss: 0.043995216488838196. Accuracy: 98.95522388059702\n",
      "\n",
      "Iteration: 10000. \n",
      "Test - Loss: 0.04919363558292389. Accuracy: 97.87878787878788\n",
      "Train -  Loss: 0.042588237673044205. Accuracy: 98.95522388059702\n",
      "\n"
     ]
    },
    {
     "name": "stderr",
     "output_type": "stream",
     "text": [
      "Training Epochs:  55%|█████▌    | 11053/20001 [00:03<00:02, 3227.78it/s]"
     ]
    },
    {
     "name": "stdout",
     "output_type": "stream",
     "text": [
      "Iteration: 10500. \n",
      "Test - Loss: 0.04788428172469139. Accuracy: 97.87878787878788\n",
      "Train -  Loss: 0.041268546134233475. Accuracy: 98.95522388059702\n",
      "\n",
      "Iteration: 11000. \n",
      "Test - Loss: 0.04663647338747978. Accuracy: 97.87878787878788\n",
      "Train -  Loss: 0.04002447798848152. Accuracy: 99.1044776119403\n",
      "\n"
     ]
    },
    {
     "name": "stderr",
     "output_type": "stream",
     "text": [
      "Training Epochs:  60%|██████    | 12043/20001 [00:03<00:02, 3198.71it/s]"
     ]
    },
    {
     "name": "stdout",
     "output_type": "stream",
     "text": [
      "Iteration: 11500. \n",
      "Test - Loss: 0.04544264078140259. Accuracy: 97.87878787878788\n",
      "Train -  Loss: 0.03884578123688698. Accuracy: 99.25373134328358\n",
      "\n",
      "Iteration: 12000. \n",
      "Test - Loss: 0.044296205043792725. Accuracy: 97.87878787878788\n",
      "Train -  Loss: 0.03772313520312309. Accuracy: 99.25373134328358\n",
      "\n"
     ]
    },
    {
     "name": "stderr",
     "output_type": "stream",
     "text": [
      "Training Epochs:  65%|██████▌   | 13033/20001 [00:04<00:02, 3244.82it/s]"
     ]
    },
    {
     "name": "stdout",
     "output_type": "stream",
     "text": [
      "Iteration: 12500. \n",
      "Test - Loss: 0.043191853910684586. Accuracy: 98.18181818181819\n",
      "Train -  Loss: 0.03664856031537056. Accuracy: 99.25373134328358\n",
      "\n",
      "Iteration: 13000. \n",
      "Test - Loss: 0.042126089334487915. Accuracy: 98.18181818181819\n",
      "Train -  Loss: 0.03561607748270035. Accuracy: 99.25373134328358\n",
      "\n"
     ]
    },
    {
     "name": "stderr",
     "output_type": "stream",
     "text": [
      "Training Epochs:  70%|███████   | 14065/20001 [00:04<00:01, 3219.49it/s]"
     ]
    },
    {
     "name": "stdout",
     "output_type": "stream",
     "text": [
      "Iteration: 13500. \n",
      "Test - Loss: 0.04109884798526764. Accuracy: 98.48484848484848\n",
      "Train -  Loss: 0.03462211415171623. Accuracy: 99.25373134328358\n",
      "\n",
      "Iteration: 14000. \n",
      "Test - Loss: 0.040112726390361786. Accuracy: 98.48484848484848\n",
      "Train -  Loss: 0.033665578812360764. Accuracy: 99.40298507462687\n",
      "\n"
     ]
    },
    {
     "name": "stderr",
     "output_type": "stream",
     "text": [
      "Training Epochs:  76%|███████▌  | 15149/20001 [00:04<00:01, 3311.06it/s]"
     ]
    },
    {
     "name": "stdout",
     "output_type": "stream",
     "text": [
      "Iteration: 14500. \n",
      "Test - Loss: 0.0391724593937397. Accuracy: 98.48484848484848\n",
      "Train -  Loss: 0.03274760767817497. Accuracy: 99.40298507462687\n",
      "\n",
      "Iteration: 15000. \n",
      "Test - Loss: 0.038284070789813995. Accuracy: 98.48484848484848\n",
      "Train -  Loss: 0.031870484352111816. Accuracy: 99.40298507462687\n",
      "\n"
     ]
    },
    {
     "name": "stderr",
     "output_type": "stream",
     "text": [
      "Training Epochs:  81%|████████  | 16107/20001 [00:04<00:01, 3040.32it/s]"
     ]
    },
    {
     "name": "stdout",
     "output_type": "stream",
     "text": [
      "Iteration: 15500. \n",
      "Test - Loss: 0.03745165467262268. Accuracy: 98.48484848484848\n",
      "Train -  Loss: 0.031036075204610825. Accuracy: 99.40298507462687\n",
      "\n",
      "Iteration: 16000. \n",
      "Test - Loss: 0.03667592629790306. Accuracy: 98.48484848484848\n",
      "Train -  Loss: 0.030245117843151093. Accuracy: 99.25373134328358\n",
      "\n"
     ]
    },
    {
     "name": "stderr",
     "output_type": "stream",
     "text": [
      "Training Epochs:  85%|████████▍ | 16979/20001 [00:05<00:01, 2677.61it/s]"
     ]
    },
    {
     "name": "stdout",
     "output_type": "stream",
     "text": [
      "Iteration: 16500. \n",
      "Test - Loss: 0.03595603629946709. Accuracy: 98.48484848484848\n",
      "Train -  Loss: 0.029497168958187103. Accuracy: 99.25373134328358\n",
      "\n",
      "Iteration: 17000. \n",
      "Test - Loss: 0.035289499908685684. Accuracy: 98.78787878787878\n",
      "Train -  Loss: 0.028791038319468498. Accuracy: 99.25373134328358\n",
      "\n"
     ]
    },
    {
     "name": "stderr",
     "output_type": "stream",
     "text": [
      "Training Epochs:  90%|████████▉ | 17929/20001 [00:05<00:00, 2887.92it/s]"
     ]
    },
    {
     "name": "stdout",
     "output_type": "stream",
     "text": [
      "Iteration: 17500. \n",
      "Test - Loss: 0.03467373922467232. Accuracy: 98.78787878787878\n",
      "Train -  Loss: 0.02812526747584343. Accuracy: 99.25373134328358\n",
      "\n",
      "Iteration: 18000. \n",
      "Test - Loss: 0.03410540521144867. Accuracy: 98.78787878787878\n",
      "Train -  Loss: 0.027498165145516396. Accuracy: 99.25373134328358\n",
      "\n"
     ]
    },
    {
     "name": "stderr",
     "output_type": "stream",
     "text": [
      "Training Epochs:  95%|█████████▍| 18990/20001 [00:05<00:00, 3302.22it/s]"
     ]
    },
    {
     "name": "stdout",
     "output_type": "stream",
     "text": [
      "Iteration: 18500. \n",
      "Test - Loss: 0.033581655472517014. Accuracy: 98.78787878787878\n",
      "Train -  Loss: 0.026907924562692642. Accuracy: 99.25373134328358\n",
      "\n",
      "Iteration: 19000. \n",
      "Test - Loss: 0.033098820596933365. Accuracy: 98.78787878787878\n",
      "Train -  Loss: 0.02635246142745018. Accuracy: 99.25373134328358\n",
      "\n"
     ]
    },
    {
     "name": "stderr",
     "output_type": "stream",
     "text": [
      "Training Epochs: 100%|██████████| 20001/20001 [00:06<00:00, 3197.83it/s]"
     ]
    },
    {
     "name": "stdout",
     "output_type": "stream",
     "text": [
      "Iteration: 19500. \n",
      "Test - Loss: 0.03265346214175224. Accuracy: 98.78787878787878\n",
      "Train -  Loss: 0.025829631835222244. Accuracy: 99.25373134328358\n",
      "\n",
      "Iteration: 20000. \n",
      "Test - Loss: 0.03224176540970802. Accuracy: 98.78787878787878\n",
      "Train -  Loss: 0.02533716708421707. Accuracy: 99.25373134328358\n",
      "\n"
     ]
    },
    {
     "name": "stderr",
     "output_type": "stream",
     "text": [
      "\n"
     ]
    },
    {
     "data": {
      "image/png": "[encoded data removed]",
      "text/plain": [
       "<Figure size 1000x500 with 2 Axes>"
      ]
     },
     "metadata": {},
     "output_type": "display_data"
    }
   ],
   "source": [
    "import torch\n",
    "from sklearn.model_selection import train_test_split\n",
    "from get_circle_quarter import train, vis_prediction\n",
    "from get_circle_quarter import get_circle, get_quarter\n",
    "import pandas as pd\n",
    "\n",
    "\n",
    "class MLPModel(torch.nn.Module):\n",
    "    def __init__(self, input_dim, hidden_size, output_dim):\n",
    "        super(MLPModel, self).__init__()\n",
    "        # TODO: implement your 2-layer MLP here\n",
    "        self.mlp_1 = torch.nn.Linear(input_dim, hidden_size)    # 输入层\n",
    "        self.mlp_2 = torch.nn.Linear(hidden_size, output_dim)   # 输出层\n",
    "\n",
    "    def forward(self, x):\n",
    "        inputs = torch.tanh(self.mlp_1(x))              # 在输入层使用 Tanh 激活函数\n",
    "        outputs = torch.sigmoid(self.mlp_2(inputs))     # 在输出层使用 Sigmoid 激活函数\n",
    "        return outputs\n",
    "\n",
    "\n",
    "if __name__ == '__main__':\n",
    "\n",
    "    ###############################\n",
    "    ####     DO NOT MODIFY    #####\n",
    "    ###############################\n",
    "    input_dim = 2  # Two inputs x1 and x2\n",
    "    output_dim = 1  # Two possible outputs\n",
    "\n",
    "    # TODO: change this to 0/1 to try two cases\n",
    "    use_circle_quarter = 1\n",
    "\n",
    "    ###############################\n",
    "    ####     DO NOT MODIFY    #####\n",
    "    ###############################\n",
    "    if use_circle_quarter == 0:\n",
    "        X, y = get_circle()\n",
    "    elif use_circle_quarter == 1:\n",
    "        X, y = get_quarter()\n",
    "    else:\n",
    "        assert 1 == 2, 'bad choice'\n",
    "    # Get data, don't modify\n",
    "    X_train, X_test, y_train, y_test = train_test_split(\n",
    "        X, y, test_size=0.33, random_state=42)\n",
    "\n",
    "    # TODO: you may modify hidden_size and learning_rate\n",
    "    # hidden_size = 3\n",
    "    lr = 0.1\n",
    "\n",
    "    results = []\n",
    "    figs = []\n",
    "    # TODO: implement the MLPModel\n",
    "    for hidden_size in range(1, 11):\n",
    "        model = MLPModel(input_dim, hidden_size, output_dim)\n",
    "        result = train(X_train, X_test, y_train, y_test, learning_rate=lr, model=model)\n",
    "        results.append(result)\n",
    "        # figs.append(vis_prediction(X_test, y_test, model(X_test)))\n",
    "    "
   ]
  },
  {
   "cell_type": "code",
   "execution_count": 6,
   "metadata": {},
   "outputs": [],
   "source": [
    "results = pd.DataFrame(results, index=range(1,11))\n",
    "    \n"
   ]
  },
  {
   "cell_type": "code",
   "execution_count": 7,
   "metadata": {},
   "outputs": [
    {
     "data": {
      "text/html": [
       "<div>\n",
       "<style scoped>\n",
       "    .dataframe tbody tr th:only-of-type {\n",
       "        vertical-align: middle;\n",
       "    }\n",
       "\n",
       "    .dataframe tbody tr th {\n",
       "        vertical-align: top;\n",
       "    }\n",
       "\n",
       "    .dataframe thead th {\n",
       "        text-align: right;\n",
       "    }\n",
       "</style>\n",
       "<table border=\"1\" class=\"dataframe\">\n",
       "  <thead>\n",
       "    <tr style=\"text-align: right;\">\n",
       "      <th></th>\n",
       "      <th>iter</th>\n",
       "      <th>loss_train</th>\n",
       "      <th>accuracy_train</th>\n",
       "      <th>loss_test</th>\n",
       "      <th>accuracy_test</th>\n",
       "    </tr>\n",
       "  </thead>\n",
       "  <tbody>\n",
       "    <tr>\n",
       "      <th>1</th>\n",
       "      <td>20000</td>\n",
       "      <td>0.228534</td>\n",
       "      <td>90.597015</td>\n",
       "      <td>0.235845</td>\n",
       "      <td>90.000000</td>\n",
       "    </tr>\n",
       "    <tr>\n",
       "      <th>2</th>\n",
       "      <td>20000</td>\n",
       "      <td>0.182564</td>\n",
       "      <td>89.552239</td>\n",
       "      <td>0.180276</td>\n",
       "      <td>88.484848</td>\n",
       "    </tr>\n",
       "    <tr>\n",
       "      <th>3</th>\n",
       "      <td>20000</td>\n",
       "      <td>0.064840</td>\n",
       "      <td>97.910448</td>\n",
       "      <td>0.072341</td>\n",
       "      <td>97.575758</td>\n",
       "    </tr>\n",
       "    <tr>\n",
       "      <th>4</th>\n",
       "      <td>20000</td>\n",
       "      <td>0.039828</td>\n",
       "      <td>99.402985</td>\n",
       "      <td>0.051981</td>\n",
       "      <td>98.181818</td>\n",
       "    </tr>\n",
       "    <tr>\n",
       "      <th>5</th>\n",
       "      <td>20000</td>\n",
       "      <td>0.030686</td>\n",
       "      <td>99.850746</td>\n",
       "      <td>0.040615</td>\n",
       "      <td>98.787879</td>\n",
       "    </tr>\n",
       "    <tr>\n",
       "      <th>6</th>\n",
       "      <td>20000</td>\n",
       "      <td>0.032351</td>\n",
       "      <td>99.402985</td>\n",
       "      <td>0.045076</td>\n",
       "      <td>98.181818</td>\n",
       "    </tr>\n",
       "    <tr>\n",
       "      <th>7</th>\n",
       "      <td>20000</td>\n",
       "      <td>0.035115</td>\n",
       "      <td>99.402985</td>\n",
       "      <td>0.048949</td>\n",
       "      <td>98.181818</td>\n",
       "    </tr>\n",
       "    <tr>\n",
       "      <th>8</th>\n",
       "      <td>20000</td>\n",
       "      <td>0.023356</td>\n",
       "      <td>99.552239</td>\n",
       "      <td>0.025965</td>\n",
       "      <td>99.090909</td>\n",
       "    </tr>\n",
       "    <tr>\n",
       "      <th>9</th>\n",
       "      <td>20000</td>\n",
       "      <td>0.023717</td>\n",
       "      <td>99.402985</td>\n",
       "      <td>0.031256</td>\n",
       "      <td>98.787879</td>\n",
       "    </tr>\n",
       "    <tr>\n",
       "      <th>10</th>\n",
       "      <td>20000</td>\n",
       "      <td>0.025337</td>\n",
       "      <td>99.253731</td>\n",
       "      <td>0.032242</td>\n",
       "      <td>98.787879</td>\n",
       "    </tr>\n",
       "  </tbody>\n",
       "</table>\n",
       "</div>"
      ],
      "text/plain": [
       "     iter  loss_train  accuracy_train  loss_test  accuracy_test\n",
       "1   20000    0.228534       90.597015   0.235845      90.000000\n",
       "2   20000    0.182564       89.552239   0.180276      88.484848\n",
       "3   20000    0.064840       97.910448   0.072341      97.575758\n",
       "4   20000    0.039828       99.402985   0.051981      98.181818\n",
       "5   20000    0.030686       99.850746   0.040615      98.787879\n",
       "6   20000    0.032351       99.402985   0.045076      98.181818\n",
       "7   20000    0.035115       99.402985   0.048949      98.181818\n",
       "8   20000    0.023356       99.552239   0.025965      99.090909\n",
       "9   20000    0.023717       99.402985   0.031256      98.787879\n",
       "10  20000    0.025337       99.253731   0.032242      98.787879"
      ]
     },
     "execution_count": 7,
     "metadata": {},
     "output_type": "execute_result"
    }
   ],
   "source": [
    "results"
   ]
  },
  {
   "cell_type": "code",
   "execution_count": 8,
   "metadata": {},
   "outputs": [
    {
     "data": {
      "text/plain": [
       "<Axes: title={'center': 'Training and Testing Metrics vs. Hidden Layer Size'}>"
      ]
     },
     "execution_count": 8,
     "metadata": {},
     "output_type": "execute_result"
    },
    {
     "data": {
      "image/png": "[encoded data removed]",
      "text/plain": [
       "<Figure size 640x480 with 1 Axes>"
      ]
     },
     "metadata": {},
     "output_type": "display_data"
    }
   ],
   "source": [
    "results.plot(kind='line', y=['accuracy_train', 'accuracy_test'],  title='Training and Testing Metrics vs. Hidden Layer Size')"
   ]
  }
 ],
 "metadata": {
  "kernelspec": {
   "display_name": "dlclass",
   "language": "python",
   "name": "python3"
  },
  "language_info": {
   "codemirror_mode": {
    "name": "ipython",
    "version": 3
   },
   "file_extension": ".py",
   "mimetype": "text/x-python",
   "name": "python",
   "nbconvert_exporter": "python",
   "pygments_lexer": "ipython3",
   "version": "3.10.14"
  }
 },
 "nbformat": 4,
 "nbformat_minor": 2
}
